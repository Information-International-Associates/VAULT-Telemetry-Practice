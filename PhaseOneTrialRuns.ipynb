{
 "cells": [
  {
   "cell_type": "code",
   "execution_count": 1,
   "metadata": {},
   "outputs": [
    {
     "name": "stdout",
     "output_type": "stream",
     "text": [
      "Starting Spark application\n"
     ]
    },
    {
     "data": {
      "text/html": [
       "<table>\n",
       "<tr><th>ID</th><th>YARN Application ID</th><th>Kind</th><th>State</th><th>Spark UI</th><th>Driver log</th></tr><tr><td>34</td><td>application_1596730828793_0062</td><td>pyspark</td><td>idle</td><td><a target=\"_blank\" href=\"http://resourcemanager.service.consul:8088/proxy/application_1596730828793_0062/\">Link</a></td><td><a target=\"_blank\" href=\"http://ip-10-0-1-154:8042/node/containerlogs/container_e01_1596730828793_0062_01_000001/MattTest__mmitchel\">Link</a></td></tr></table>"
      ],
      "text/plain": [
       "<IPython.core.display.HTML object>"
      ]
     },
     "metadata": {},
     "output_type": "display_data"
    },
    {
     "name": "stdout",
     "output_type": "stream",
     "text": [
      "SparkSession available as 'spark'.\n",
      "<pyspark.sql.session.SparkSession object at 0x7f8d4fd4f470>"
     ]
    }
   ],
   "source": [
    "spark"
   ]
  },
  {
   "cell_type": "code",
   "execution_count": 2,
   "metadata": {},
   "outputs": [],
   "source": [
    "import boto3\n",
    "import datetime\n",
    "import pandas as pd\n",
    "from hops import hdfs\n",
    "\n",
    "# import os\n",
    "\n",
    "# from pyspark.sql import SparkSession\n",
    "# from pyspark.sql import Row\n",
    "\n",
    "# os.listdir()"
   ]
  },
  {
   "cell_type": "code",
   "execution_count": 7,
   "metadata": {},
   "outputs": [
    {
     "name": "stdout",
     "output_type": "stream",
     "text": [
      "1"
     ]
    }
   ],
   "source": [
    "1"
   ]
  },
  {
   "cell_type": "code",
   "execution_count": 8,
   "metadata": {},
   "outputs": [
    {
     "name": "stdout",
     "output_type": "stream",
     "text": [
      "[Row(timestamp='2001-01-09 20:09:00', FPAC=0, BLAC=0, CTAC=0, TH=0, MH=0, EGT_1=30.5, EGT_2=29.5, EGT_3=31.0, EGT_4=30.5, IVV=0, GS=0, TRK=0, TRKM=0, DA=0, POVT=0, WS=0, MW=0, DFGS=1, WD=0, ALT=843, NSQT=0, RALT=-0.5, ALTR=16, FQTY_1=3288, OIT_1=43.8212890625, OIT_2=42.47817993164063, AOA1=-2.4169760595703167, AOA2=-18.632681931152348, PTCH=0, FF_1=0, PSA=982.75, FF_2=0, FF_3=0, ROLL=0, FF_4=0, N1_1=1.75, N1_2=1.75, MACH=0, CAS=0, APFD=0, PH=1, CASM=300, TAS=0, VRTG=1.0038571357727049, LATG=-0.0246279239654541, PI=0.0, PS=29.03350830078125, N1_3=1.78125, EVNT=1, MRK=7, VIB_1=0.0, PT=982.71875, VHF1=1, VHF2=1, LGDN=0, LGUP=1, VIB_2=0.0, VHF3=1, PUSH=1, SHKR=1, MSQT_2=0, VIB_3=0.0, LONG=-0.008371949195861816, PLA_1=-1.0546857617187584, N1_4=1.46875, HYDY=0, HYDG=0, SMOK=0, CALT=0, VIB_4=0, PLA_2=-1.669904877929696, PLA_3=1.1425700187683103, PLA_4=-1.933576752929696, GMT_HOUR=45, GMT_MINUTE=165, GMT_SEC=90, ACMT=59, FQTY_2=0, OIT_3=42.47817993164063, OIT_4=43.8212890625, BLV=0, EAI=0, PACK=0, AOAI=-10.502852524414068, AOAC=0, BAL1=1568, APUF=0, TOCW=0, BAL2=1689, WSHR=1, WOW=0, N2_1=0.0, N2_2=0.0, N2_3=0.0, N2_4=0.0, TAT=37.25, SAT=36.75, N1T=90.234375, N1C=0, RUDD=-0.7794227600097656, FQTY_3=0, OIP_1=0.0, OIP_2=0.0, FQTY_4=3472, CRSS=4.921839714050293, HDGS=4.921839714050293, ALTS=500, SNAP=1, CASS=100, N1CO=1, VSPS=0, MNS=152, MSQT_1=0, VMODE=0, LMOD=0, A_T=1, CCPC=2107, CCPF=2081, RUDP=1988, CWPC=2001, CWPF=2007, OIP_3=0.0, OIP_4=0.0, LOC=-0.0021559762878418103, GLS=0.0, LONP=0.3515625, ABRK=60.029296875, AIL_1=74.48959350585938, AIL_2=77.27188110351562, SPL_1=71.98681640625, SPL_2=73.98652648925781, ELEV_1=21.519798278808594, ELEV_2=61.80563354492188, FLAP=115, PTRM=4.7720298767089835, HF1=1, HF2=1, SMKB=1, SPLY=1, SPLG=1, BPGR_1=0, BPGR_2=24.41412353515625, BPYR_1=2753.913330078125, BPYR_2=0.0, TCAS=0, GPWS=1, TMAG=1, TAI=0, WAI_1=0, WAI_2=0, DWPT=0, OIPL=0, FADF=15, FADS=15, TMODE=1, ATEN=0, LATP=0, FIRE_1=0, FIRE_2=0, FIRE_3=0, FIRE_4=0, FGC3=112, ILSF=100, VAR_1107=584, VAR_2670=1465, VAR_5107=2632, VAR_6670=3513, DATE_YEAR=2165, DATE_MONTH=25, DATE_DAY=45, DVER_1=126, ACID=652, ESN_4=7876, ECYC_1=8933, ECYC_2=5962, FRMC=1229, DVER_2=50, ESN_3=8095, ECYC_3=6711, ECYC_4=7388, EHRS_1=8600, EHRS_4=7131, EHRS_3=6359, EHRS_2=5633, ESN_1=7882, ESN_2=7833)]"
     ]
    }
   ],
   "source": [
    "df.take(1)"
   ]
  },
  {
   "cell_type": "code",
   "execution_count": 3,
   "metadata": {},
   "outputs": [],
   "source": [
    "bucket_name = \"iiaweb-s3-io-practice-bucket\"\n",
    "\n",
    "s3_resource = boto3.resource('s3', region_name='us-east-2')\n",
    "bucket = s3_resource.Bucket(bucket_name)"
   ]
  },
  {
   "cell_type": "markdown",
   "metadata": {},
   "source": [
    "Inspect bucket contents"
   ]
  },
  {
   "cell_type": "code",
   "execution_count": 13,
   "metadata": {},
   "outputs": [
    {
     "name": "stdout",
     "output_type": "stream",
     "text": [
      "47171"
     ]
    }
   ],
   "source": [
    "contents = list(bucket.objects.all())\n",
    "zipped_filekeys = [object.key for object in contents if '.gzip' in object.key]\n",
    "print(len(zipped_filekeys))"
   ]
  },
  {
   "cell_type": "code",
   "execution_count": 4,
   "metadata": {},
   "outputs": [
    {
     "name": "stdout",
     "output_type": "stream",
     "text": [
      "iiaweb-s3-io-practice-bucket 652/1/652200101092009.gzip"
     ]
    }
   ],
   "source": [
    "bucket_name = 'iiaweb-s3-io-practice-bucket'\n",
    "key = '652/1/652200101092009.gzip'\n",
    "print(bucket_name, key)"
   ]
  },
  {
   "cell_type": "code",
   "execution_count": 22,
   "metadata": {},
   "outputs": [
    {
     "name": "stdout",
     "output_type": "stream",
     "text": [
      "Loading file:  652/1/652200101092009.gzip\n",
      "             timestamp  FPAC  BLAC  CTAC  ...  EHRS_3  EHRS_2  ESN_1  ESN_2\n",
      "0  2001-01-09 20:09:00     0     0     0  ...    6359    5633   7882   7833\n",
      "1  2001-01-09 20:09:01     0     0     0  ...    6359    5633   7882   7833\n",
      "2  2001-01-09 20:09:02     0     0     0  ...    6359    5633   7882   7833\n",
      "3  2001-01-09 20:09:03     0     0     0  ...    6359    5633   7882   7833\n",
      "4  2001-01-09 20:09:04     0     0     0  ...    6359    5633   7882   7833\n",
      "\n",
      "[5 rows x 187 columns]"
     ]
    }
   ],
   "source": [
    "s3_client = boto3.client('s3')\n",
    "\n",
    "# key = zipped_filekeys[0]\n",
    "obj = s3_client.get_object(Bucket= bucket_name, Key= key)\n",
    "\n",
    "\n",
    "print(\"Loading file: \", key)\n",
    "pandas_df = pd.read_csv(obj['Body'], compression='gzip')\n",
    "pandas_df.head()"
   ]
  },
  {
   "cell_type": "markdown",
   "metadata": {},
   "source": [
    "## Create Dictionary of Computation Times"
   ]
  },
  {
   "cell_type": "code",
   "execution_count": 42,
   "metadata": {},
   "outputs": [],
   "source": [
    "times = {}"
   ]
  },
  {
   "cell_type": "markdown",
   "metadata": {},
   "source": [
    "## Loading a Zipped CSV From S3 to Spark "
   ]
  },
  {
   "cell_type": "code",
   "execution_count": 5,
   "metadata": {},
   "outputs": [
    {
     "name": "stdout",
     "output_type": "stream",
     "text": [
      "Operation took:  0:00:09.543860"
     ]
    }
   ],
   "source": [
    "#Initialize a Master DF with the first file\n",
    "started = datetime.datetime.now()\n",
    "\n",
    "s3_client = boto3.client('s3')\n",
    "\n",
    "# key = zipped_filekeys[0]\n",
    "\n",
    "obj = s3_client.get_object(Bucket= bucket_name, Key= key)\n",
    "df = spark.createDataFrame(pd.read_csv(obj['Body'], compression='gzip'))\n",
    "\n",
    "finished = datetime.datetime.now()\n",
    "elapsed = finished - started\n",
    "print('Operation took: ', elapsed)"
   ]
  },
  {
   "cell_type": "code",
   "execution_count": 43,
   "metadata": {},
   "outputs": [],
   "source": [
    "times['s3_to_spark'] = elapsed"
   ]
  },
  {
   "cell_type": "code",
   "execution_count": 30,
   "metadata": {},
   "outputs": [
    {
     "name": "stdout",
     "output_type": "stream",
     "text": [
      "3193.05"
     ]
    }
   ],
   "source": [
    "seconds = elapsed.seconds * len(zipped_filekeys)\n",
    "minutes = seconds / 60\n",
    "\n",
    "print(minutes)"
   ]
  },
  {
   "cell_type": "code",
   "execution_count": 37,
   "metadata": {},
   "outputs": [
    {
     "name": "stderr",
     "output_type": "stream",
     "text": [
      "An error was encountered:\n",
      "object of type 'DataFrame' has no len()\n",
      "Traceback (most recent call last):\n",
      "TypeError: object of type 'DataFrame' has no len()\n",
      "\n"
     ]
    }
   ],
   "source": [
    "len(df)"
   ]
  },
  {
   "cell_type": "code",
   "execution_count": 117,
   "metadata": {},
   "outputs": [
    {
     "name": "stdout",
     "output_type": "stream",
     "text": [
      "Operation took:  0:23:43.075934"
     ]
    }
   ],
   "source": [
    "started = datetime.datetime.now()\n",
    "\n",
    "#Initialize a Master DF with the first file\n",
    "# obj = s3_client.get_object(Bucket= bucket_name, Key= key)\n",
    "# df = spark.createDataFrame(pd.read_csv(obj['Body'], compression='gzip'))\n",
    "\n",
    "#Concat subsequent files\n",
    "for key in zipped_filekeys[11:100]:\n",
    "    obj = s3_client.get_object(Bucket= bucket_name, Key= key)\n",
    "    new = spark.createDataFrame(pd.read_csv(obj['Body'], compression='gzip'))\n",
    "    df.union(new)\n",
    "\n",
    "finished = datetime.datetime.now()\n",
    "elapsed = finished - started\n",
    "print('Operation took: ', elapsed)"
   ]
  },
  {
   "cell_type": "markdown",
   "metadata": {},
   "source": [
    "## List HDFS Files"
   ]
  },
  {
   "cell_type": "code",
   "execution_count": 6,
   "metadata": {},
   "outputs": [
    {
     "name": "stdout",
     "output_type": "stream",
     "text": [
      "['hdfs://rpc.namenode.service.consul:8020/Projects/MattTest/DataValidation', 'hdfs://rpc.namenode.service.consul:8020/Projects/MattTest/Experiments', 'hdfs://rpc.namenode.service.consul:8020/Projects/MattTest/Jupyter', 'hdfs://rpc.namenode.service.consul:8020/Projects/MattTest/Logs', 'hdfs://rpc.namenode.service.consul:8020/Projects/MattTest/MattTest_Training_Datasets', 'hdfs://rpc.namenode.service.consul:8020/Projects/MattTest/Models', 'hdfs://rpc.namenode.service.consul:8020/Projects/MattTest/Resources']"
     ]
    }
   ],
   "source": [
    "hdfs.ls('/')"
   ]
  },
  {
   "cell_type": "code",
   "execution_count": 29,
   "metadata": {},
   "outputs": [
    {
     "name": "stdout",
     "output_type": "stream",
     "text": [
      "['hdfs://rpc.namenode.service.consul:8020/Projects/MattTest/MattTest_Training_Datasets/README.md']"
     ]
    }
   ],
   "source": [
    "hdfs.ls('/MattTest_Training_Datasets/')"
   ]
  },
  {
   "cell_type": "code",
   "execution_count": 38,
   "metadata": {},
   "outputs": [
    {
     "name": "stdout",
     "output_type": "stream",
     "text": [
      "['hdfs://rpc.namenode.service.consul:8020/Projects/MattTest/Resources/.sparkStaging', 'hdfs://rpc.namenode.service.consul:8020/Projects/MattTest/Resources/README.md', 'hdfs://rpc.namenode.service.consul:8020/Projects/MattTest/Resources/spark-warehouse']"
     ]
    }
   ],
   "source": [
    "hdfs.ls('/Resources')"
   ]
  },
  {
   "cell_type": "code",
   "execution_count": 25,
   "metadata": {},
   "outputs": [
    {
     "name": "stdout",
     "output_type": "stream",
     "text": [
      "['hdfs://rpc.namenode.service.consul:8020/Projects/MattTest/Logs/Flink', 'hdfs://rpc.namenode.service.consul:8020/Projects/MattTest/Logs/PySpark', 'hdfs://rpc.namenode.service.consul:8020/Projects/MattTest/Logs/README.md', 'hdfs://rpc.namenode.service.consul:8020/Projects/MattTest/Logs/README_dump_test.md', 'hdfs://rpc.namenode.service.consul:8020/Projects/MattTest/Logs/Spark']"
     ]
    }
   ],
   "source": [
    "hdfs.ls('/Logs')"
   ]
  },
  {
   "cell_type": "code",
   "execution_count": 40,
   "metadata": {},
   "outputs": [
    {
     "name": "stdout",
     "output_type": "stream",
     "text": [
      "StatResult(st_atime=1597975838, st_blksize=134217728, st_blocks=1, st_ctime=0, st_dev=0, st_gid='MattTest__Logs', st_ino=0, st_mode=488, st_mtime=1597344963, st_nlink=1, st_size=227, st_uid='MattTest__mmitchel', kind='file', name='hdfs://rpc.namenode.service.consul:8020/Projects/MattTest/Logs/README.md', replication=3)"
     ]
    }
   ],
   "source": [
    "import stat\n",
    "file_stat = hdfs.stat(\"Logs/README.md\")\n",
    "file_stat"
   ]
  },
  {
   "cell_type": "code",
   "execution_count": 44,
   "metadata": {},
   "outputs": [
    {
     "name": "stdout",
     "output_type": "stream",
     "text": [
      "StatResult(st_atime=1598015761, st_blksize=134217728, st_blocks=1, st_ctime=0, st_dev=0, st_gid='MattTest__Resources', st_ino=0, st_mode=416, st_mtime=1598015761, st_nlink=1, st_size=4, st_uid='MattTest__mmitchel', kind='file', name='hdfs://rpc.namenode.service.consul:8020/Projects/MattTest/Resources/NASA_Dashlink.parquet', replication=3)"
     ]
    }
   ],
   "source": [
    "hdfs.stat('/Resources/NASA_Dashlink.parquet')"
   ]
  },
  {
   "cell_type": "code",
   "execution_count": 146,
   "metadata": {},
   "outputs": [],
   "source": [
    "hdfs.(\"/\", 755)"
   ]
  },
  {
   "cell_type": "code",
   "execution_count": 49,
   "metadata": {},
   "outputs": [
    {
     "name": "stderr",
     "output_type": "stream",
     "text": [
      "An error was encountered:\n",
      "path hdfs://rpc.namenode.service.consul:8020/Projects/MattTest/Resources/NASA_Dashlink.parquet not found\n",
      "Traceback (most recent call last):\n",
      "  File \"/srv/hops/anaconda/anaconda/envs/python36/lib/python3.6/site-packages/hops/hdfs.py\", line 518, in chmod\n",
      "    hdfs_path = _expand_path(hdfs_path, project)\n",
      "  File \"/srv/hops/anaconda/anaconda/envs/python36/lib/python3.6/site-packages/hops/hdfs.py\", line 161, in _expand_path\n",
      "    raise IOError(\"path %s not found\" % hdfs_path)\n",
      "OSError: path hdfs://rpc.namenode.service.consul:8020/Projects/MattTest/Resources/NASA_Dashlink.parquet not found\n",
      "\n"
     ]
    }
   ],
   "source": [
    "hdfs.chmod(\"Resources/NASA_Dashlink.parquet\", 777)"
   ]
  },
  {
   "cell_type": "code",
   "execution_count": 43,
   "metadata": {},
   "outputs": [],
   "source": [
    "hdfs.dump(\"test\", '/Resources/NASA_Dashlink.parquet')"
   ]
  },
  {
   "cell_type": "code",
   "execution_count": 6,
   "metadata": {},
   "outputs": [
    {
     "name": "stderr",
     "output_type": "stream",
     "text": [
      "An error was encountered:\n",
      "An error occurred while calling o165.parquet.\n",
      ": org.apache.hadoop.security.AccessControlException: Permission denied: user=MattTest__mmitchel, access=WRITE, inode=\"user\":hdfs:hadoop:drwxrwxr-t\n",
      "\tat org.apache.hadoop.hdfs.server.namenode.FSPermissionChecker.check(FSPermissionChecker.java:520)\n",
      "\tat org.apache.hadoop.hdfs.server.namenode.FSPermissionChecker.check(FSPermissionChecker.java:337)\n",
      "\tat org.apache.hadoop.hdfs.server.namenode.FSPermissionChecker.checkPermission(FSPermissionChecker.java:227)\n",
      "\tat org.apache.hadoop.hdfs.server.namenode.FSDirectory.checkPermission(FSDirectory.java:1788)\n",
      "\tat org.apache.hadoop.hdfs.server.namenode.FSDirectory.checkPermission(FSDirectory.java:1773)\n",
      "\tat org.apache.hadoop.hdfs.server.namenode.FSDirectory.checkAncestorAccess(FSDirectory.java:1755)\n",
      "\tat org.apache.hadoop.hdfs.server.namenode.FSDirMkdirOp$1.performTask(FSDirMkdirOp.java:103)\n",
      "\tat io.hops.transaction.handler.TransactionalRequestHandler.execute(TransactionalRequestHandler.java:101)\n",
      "\tat io.hops.transaction.handler.HopsTransactionalRequestHandler.execute(HopsTransactionalRequestHandler.java:50)\n",
      "\tat io.hops.transaction.handler.RequestHandler.handle(RequestHandler.java:68)\n",
      "\tat io.hops.transaction.handler.RequestHandler.handle(RequestHandler.java:63)\n",
      "\tat org.apache.hadoop.hdfs.server.namenode.FSDirMkdirOp.mkdirs(FSDirMkdirOp.java:138)\n",
      "\tat org.apache.hadoop.hdfs.server.namenode.FSNamesystem.mkdirs(FSNamesystem.java:3758)\n",
      "\tat org.apache.hadoop.hdfs.server.namenode.NameNodeRpcServer.mkdirs(NameNodeRpcServer.java:861)\n",
      "\tat org.apache.hadoop.hdfs.protocolPB.ClientNamenodeProtocolServerSideTranslatorPB.mkdirs(ClientNamenodeProtocolServerSideTranslatorPB.java:727)\n",
      "\tat org.apache.hadoop.hdfs.protocol.proto.ClientNamenodeProtocolProtos$ClientNamenodeProtocol$2.callBlockingMethod(ClientNamenodeProtocolProtos.java)\n",
      "\tat org.apache.hadoop.ipc.ProtobufRpcEngine$Server$ProtoBufRpcInvoker.call(ProtobufRpcEngine.java:447)\n",
      "\tat org.apache.hadoop.ipc.RPC$Server.call(RPC.java:996)\n",
      "\tat org.apache.hadoop.ipc.Server$RpcCall.run(Server.java:848)\n",
      "\tat org.apache.hadoop.ipc.Server$RpcCall.run(Server.java:791)\n",
      "\tat java.security.AccessController.doPrivileged(Native Method)\n",
      "\tat javax.security.auth.Subject.doAs(Subject.java:422)\n",
      "\tat org.apache.hadoop.security.UserGroupInformation.doAs(UserGroupInformation.java:1929)\n",
      "\tat org.apache.hadoop.ipc.Server$Handler.run(Server.java:2706)\n",
      "\n",
      "\tat sun.reflect.NativeConstructorAccessorImpl.newInstance0(Native Method)\n",
      "\tat sun.reflect.NativeConstructorAccessorImpl.newInstance(NativeConstructorAccessorImpl.java:62)\n",
      "\tat sun.reflect.DelegatingConstructorAccessorImpl.newInstance(DelegatingConstructorAccessorImpl.java:45)\n",
      "\tat java.lang.reflect.Constructor.newInstance(Constructor.java:423)\n",
      "\tat org.apache.hadoop.ipc.RemoteException.instantiateException(RemoteException.java:121)\n",
      "\tat org.apache.hadoop.ipc.RemoteException.unwrapRemoteException(RemoteException.java:88)\n",
      "\tat org.apache.hadoop.hdfs.DFSClient.primitiveMkdir(DFSClient.java:2356)\n",
      "\tat org.apache.hadoop.hdfs.DFSClient.mkdirs(DFSClient.java:2325)\n",
      "\tat org.apache.hadoop.hdfs.DistributedFileSystem$20.doCall(DistributedFileSystem.java:1056)\n",
      "\tat org.apache.hadoop.hdfs.DistributedFileSystem$20.doCall(DistributedFileSystem.java:1052)\n",
      "\tat org.apache.hadoop.fs.FileSystemLinkResolver.resolve(FileSystemLinkResolver.java:81)\n",
      "\tat org.apache.hadoop.hdfs.DistributedFileSystem.mkdirsInternal(DistributedFileSystem.java:1070)\n",
      "\tat org.apache.hadoop.hdfs.DistributedFileSystem.mkdirs(DistributedFileSystem.java:1045)\n",
      "\tat org.apache.hadoop.fs.FileSystem.mkdirs(FileSystem.java:1913)\n",
      "\tat org.apache.hadoop.mapreduce.lib.output.FileOutputCommitter.setupJob(FileOutputCommitter.java:343)\n",
      "\tat org.apache.spark.internal.io.HadoopMapReduceCommitProtocol.setupJob(HadoopMapReduceCommitProtocol.scala:162)\n",
      "\tat org.apache.spark.sql.execution.datasources.FileFormatWriter$.write(FileFormatWriter.scala:139)\n",
      "\tat org.apache.spark.sql.execution.datasources.InsertIntoHadoopFsRelationCommand.run(InsertIntoHadoopFsRelationCommand.scala:159)\n",
      "\tat org.apache.spark.sql.execution.command.DataWritingCommandExec.sideEffectResult$lzycompute(commands.scala:104)\n",
      "\tat org.apache.spark.sql.execution.command.DataWritingCommandExec.sideEffectResult(commands.scala:102)\n",
      "\tat org.apache.spark.sql.execution.command.DataWritingCommandExec.doExecute(commands.scala:122)\n",
      "\tat org.apache.spark.sql.execution.SparkPlan$$anonfun$execute$1.apply(SparkPlan.scala:131)\n",
      "\tat org.apache.spark.sql.execution.SparkPlan$$anonfun$execute$1.apply(SparkPlan.scala:127)\n",
      "\tat org.apache.spark.sql.execution.SparkPlan$$anonfun$executeQuery$1.apply(SparkPlan.scala:155)\n",
      "\tat org.apache.spark.rdd.RDDOperationScope$.withScope(RDDOperationScope.scala:151)\n",
      "\tat org.apache.spark.sql.execution.SparkPlan.executeQuery(SparkPlan.scala:152)\n",
      "\tat org.apache.spark.sql.execution.SparkPlan.execute(SparkPlan.scala:127)\n",
      "\tat org.apache.spark.sql.execution.QueryExecution.toRdd$lzycompute(QueryExecution.scala:80)\n",
      "\tat org.apache.spark.sql.execution.QueryExecution.toRdd(QueryExecution.scala:80)\n",
      "\tat org.apache.spark.sql.DataFrameWriter$$anonfun$runCommand$1.apply(DataFrameWriter.scala:676)\n",
      "\tat org.apache.spark.sql.DataFrameWriter$$anonfun$runCommand$1.apply(DataFrameWriter.scala:676)\n",
      "\tat org.apache.spark.sql.execution.SQLExecution$$anonfun$withNewExecutionId$1.apply(SQLExecution.scala:78)\n",
      "\tat org.apache.spark.sql.execution.SQLExecution$.withSQLConfPropagated(SQLExecution.scala:125)\n",
      "\tat org.apache.spark.sql.execution.SQLExecution$.withNewExecutionId(SQLExecution.scala:73)\n",
      "\tat org.apache.spark.sql.DataFrameWriter.runCommand(DataFrameWriter.scala:676)\n",
      "\tat org.apache.spark.sql.DataFrameWriter.saveToV1Source(DataFrameWriter.scala:285)\n",
      "\tat org.apache.spark.sql.DataFrameWriter.save(DataFrameWriter.scala:271)\n",
      "\tat org.apache.spark.sql.DataFrameWriter.save(DataFrameWriter.scala:229)\n",
      "\tat org.apache.spark.sql.DataFrameWriter.parquet(DataFrameWriter.scala:566)\n",
      "\tat sun.reflect.NativeMethodAccessorImpl.invoke0(Native Method)\n",
      "\tat sun.reflect.NativeMethodAccessorImpl.invoke(NativeMethodAccessorImpl.java:62)\n",
      "\tat sun.reflect.DelegatingMethodAccessorImpl.invoke(DelegatingMethodAccessorImpl.java:43)\n",
      "\tat java.lang.reflect.Method.invoke(Method.java:498)\n",
      "\tat py4j.reflection.MethodInvoker.invoke(MethodInvoker.java:244)\n",
      "\tat py4j.reflection.ReflectionEngine.invoke(ReflectionEngine.java:357)\n",
      "\tat py4j.Gateway.invoke(Gateway.java:282)\n",
      "\tat py4j.commands.AbstractCommand.invokeMethod(AbstractCommand.java:132)\n",
      "\tat py4j.commands.CallCommand.execute(CallCommand.java:79)\n",
      "\tat py4j.GatewayConnection.run(GatewayConnection.java:238)\n",
      "\tat java.lang.Thread.run(Thread.java:748)\n",
      "Caused by: org.apache.hadoop.ipc.RemoteException(org.apache.hadoop.security.AccessControlException): Permission denied: user=MattTest__mmitchel, access=WRITE, inode=\"user\":hdfs:hadoop:drwxrwxr-t\n",
      "\tat org.apache.hadoop.hdfs.server.namenode.FSPermissionChecker.check(FSPermissionChecker.java:520)\n",
      "\tat org.apache.hadoop.hdfs.server.namenode.FSPermissionChecker.check(FSPermissionChecker.java:337)\n",
      "\tat org.apache.hadoop.hdfs.server.namenode.FSPermissionChecker.checkPermission(FSPermissionChecker.java:227)\n",
      "\tat org.apache.hadoop.hdfs.server.namenode.FSDirectory.checkPermission(FSDirectory.java:1788)\n",
      "\tat org.apache.hadoop.hdfs.server.namenode.FSDirectory.checkPermission(FSDirectory.java:1773)\n",
      "\tat org.apache.hadoop.hdfs.server.namenode.FSDirectory.checkAncestorAccess(FSDirectory.java:1755)\n",
      "\tat org.apache.hadoop.hdfs.server.namenode.FSDirMkdirOp$1.performTask(FSDirMkdirOp.java:103)\n",
      "\tat io.hops.transaction.handler.TransactionalRequestHandler.execute(TransactionalRequestHandler.java:101)\n",
      "\tat io.hops.transaction.handler.HopsTransactionalRequestHandler.execute(HopsTransactionalRequestHandler.java:50)\n",
      "\tat io.hops.transaction.handler.RequestHandler.handle(RequestHandler.java:68)\n",
      "\tat io.hops.transaction.handler.RequestHandler.handle(RequestHandler.java:63)\n",
      "\tat org.apache.hadoop.hdfs.server.namenode.FSDirMkdirOp.mkdirs(FSDirMkdirOp.java:138)\n",
      "\tat org.apache.hadoop.hdfs.server.namenode.FSNamesystem.mkdirs(FSNamesystem.java:3758)\n",
      "\tat org.apache.hadoop.hdfs.server.namenode.NameNodeRpcServer.mkdirs(NameNodeRpcServer.java:861)\n",
      "\tat org.apache.hadoop.hdfs.protocolPB.ClientNamenodeProtocolServerSideTranslatorPB.mkdirs(ClientNamenodeProtocolServerSideTranslatorPB.java:727)\n",
      "\tat org.apache.hadoop.hdfs.protocol.proto.ClientNamenodeProtocolProtos$ClientNamenodeProtocol$2.callBlockingMethod(ClientNamenodeProtocolProtos.java)\n",
      "\tat org.apache.hadoop.ipc.ProtobufRpcEngine$Server$ProtoBufRpcInvoker.call(ProtobufRpcEngine.java:447)\n",
      "\tat org.apache.hadoop.ipc.RPC$Server.call(RPC.java:996)\n",
      "\tat org.apache.hadoop.ipc.Server$RpcCall.run(Server.java:848)\n",
      "\tat org.apache.hadoop.ipc.Server$RpcCall.run(Server.java:791)\n",
      "\tat java.security.AccessController.doPrivileged(Native Method)\n",
      "\tat javax.security.auth.Subject.doAs(Subject.java:422)\n",
      "\tat org.apache.hadoop.security.UserGroupInformation.doAs(UserGroupInformation.java:1929)\n",
      "\tat org.apache.hadoop.ipc.Server$Handler.run(Server.java:2706)\n",
      "\n",
      "\tat org.apache.hadoop.ipc.Client.getRpcResponse(Client.java:1535)\n",
      "\tat org.apache.hadoop.ipc.Client.call(Client.java:1481)\n",
      "\tat org.apache.hadoop.ipc.Client.call(Client.java:1391)\n",
      "\tat org.apache.hadoop.ipc.ProtobufRpcEngine$Invoker.invoke(ProtobufRpcEngine.java:227)\n",
      "\tat org.apache.hadoop.ipc.ProtobufRpcEngine$Invoker.invoke(ProtobufRpcEngine.java:116)\n",
      "\tat com.sun.proxy.$Proxy9.mkdirs(Unknown Source)\n",
      "\tat org.apache.hadoop.hdfs.protocolPB.ClientNamenodeProtocolTranslatorPB.mkdirs(ClientNamenodeProtocolTranslatorPB.java:654)\n",
      "\tat sun.reflect.NativeMethodAccessorImpl.invoke0(Native Method)\n",
      "\tat sun.reflect.NativeMethodAccessorImpl.invoke(NativeMethodAccessorImpl.java:62)\n",
      "\tat sun.reflect.DelegatingMethodAccessorImpl.invoke(DelegatingMethodAccessorImpl.java:43)\n",
      "\tat java.lang.reflect.Method.invoke(Method.java:498)\n",
      "\tat org.apache.hadoop.io.retry.RetryInvocationHandler.invokeMethod(RetryInvocationHandler.java:409)\n",
      "\tat org.apache.hadoop.io.retry.RetryInvocationHandler$Call.invokeMethod(RetryInvocationHandler.java:163)\n",
      "\tat org.apache.hadoop.io.retry.RetryInvocationHandler$Call.invoke(RetryInvocationHandler.java:155)\n",
      "\tat org.apache.hadoop.io.retry.RetryInvocationHandler$Call.invokeOnce(RetryInvocationHandler.java:95)\n",
      "\tat org.apache.hadoop.io.retry.RetryInvocationHandler.invoke(RetryInvocationHandler.java:346)\n",
      "\tat com.sun.proxy.$Proxy10.mkdirs(Unknown Source)\n",
      "\tat org.apache.hadoop.hdfs.DFSClient.primitiveMkdir(DFSClient.java:2354)\n",
      "\t... 43 more\n",
      "\n",
      "Traceback (most recent call last):\n",
      "  File \"/srv/hops/spark/python/lib/pyspark.zip/pyspark/sql/readwriter.py\", line 839, in parquet\n",
      "    self._jwrite.parquet(path)\n",
      "  File \"/srv/hops/spark/python/lib/py4j-src.zip/py4j/java_gateway.py\", line 1257, in __call__\n",
      "    answer, self.gateway_client, self.target_id, self.name)\n",
      "  File \"/srv/hops/spark/python/lib/pyspark.zip/pyspark/sql/utils.py\", line 63, in deco\n",
      "    return f(*a, **kw)\n",
      "  File \"/srv/hops/spark/python/lib/py4j-src.zip/py4j/protocol.py\", line 328, in get_return_value\n",
      "    format(target_id, \".\", name), value)\n",
      "py4j.protocol.Py4JJavaError: An error occurred while calling o165.parquet.\n",
      ": org.apache.hadoop.security.AccessControlException: Permission denied: user=MattTest__mmitchel, access=WRITE, inode=\"user\":hdfs:hadoop:drwxrwxr-t\n",
      "\tat org.apache.hadoop.hdfs.server.namenode.FSPermissionChecker.check(FSPermissionChecker.java:520)\n",
      "\tat org.apache.hadoop.hdfs.server.namenode.FSPermissionChecker.check(FSPermissionChecker.java:337)\n",
      "\tat org.apache.hadoop.hdfs.server.namenode.FSPermissionChecker.checkPermission(FSPermissionChecker.java:227)\n",
      "\tat org.apache.hadoop.hdfs.server.namenode.FSDirectory.checkPermission(FSDirectory.java:1788)\n",
      "\tat org.apache.hadoop.hdfs.server.namenode.FSDirectory.checkPermission(FSDirectory.java:1773)\n",
      "\tat org.apache.hadoop.hdfs.server.namenode.FSDirectory.checkAncestorAccess(FSDirectory.java:1755)\n",
      "\tat org.apache.hadoop.hdfs.server.namenode.FSDirMkdirOp$1.performTask(FSDirMkdirOp.java:103)\n",
      "\tat io.hops.transaction.handler.TransactionalRequestHandler.execute(TransactionalRequestHandler.java:101)\n",
      "\tat io.hops.transaction.handler.HopsTransactionalRequestHandler.execute(HopsTransactionalRequestHandler.java:50)\n",
      "\tat io.hops.transaction.handler.RequestHandler.handle(RequestHandler.java:68)\n",
      "\tat io.hops.transaction.handler.RequestHandler.handle(RequestHandler.java:63)\n",
      "\tat org.apache.hadoop.hdfs.server.namenode.FSDirMkdirOp.mkdirs(FSDirMkdirOp.java:138)\n",
      "\tat org.apache.hadoop.hdfs.server.namenode.FSNamesystem.mkdirs(FSNamesystem.java:3758)\n",
      "\tat org.apache.hadoop.hdfs.server.namenode.NameNodeRpcServer.mkdirs(NameNodeRpcServer.java:861)\n",
      "\tat org.apache.hadoop.hdfs.protocolPB.ClientNamenodeProtocolServerSideTranslatorPB.mkdirs(ClientNamenodeProtocolServerSideTranslatorPB.java:727)\n",
      "\tat org.apache.hadoop.hdfs.protocol.proto.ClientNamenodeProtocolProtos$ClientNamenodeProtocol$2.callBlockingMethod(ClientNamenodeProtocolProtos.java)\n",
      "\tat org.apache.hadoop.ipc.ProtobufRpcEngine$Server$ProtoBufRpcInvoker.call(ProtobufRpcEngine.java:447)\n",
      "\tat org.apache.hadoop.ipc.RPC$Server.call(RPC.java:996)\n",
      "\tat org.apache.hadoop.ipc.Server$RpcCall.run(Server.java:848)\n",
      "\tat org.apache.hadoop.ipc.Server$RpcCall.run(Server.java:791)\n",
      "\tat java.security.AccessController.doPrivileged(Native Method)\n",
      "\tat javax.security.auth.Subject.doAs(Subject.java:422)\n",
      "\tat org.apache.hadoop.security.UserGroupInformation.doAs(UserGroupInformation.java:1929)\n",
      "\tat org.apache.hadoop.ipc.Server$Handler.run(Server.java:2706)\n",
      "\n",
      "\tat sun.reflect.NativeConstructorAccessorImpl.newInstance0(Native Method)\n",
      "\tat sun.reflect.NativeConstructorAccessorImpl.newInstance(NativeConstructorAccessorImpl.java:62)\n",
      "\tat sun.reflect.DelegatingConstructorAccessorImpl.newInstance(DelegatingConstructorAccessorImpl.java:45)\n",
      "\tat java.lang.reflect.Constructor.newInstance(Constructor.java:423)\n",
      "\tat org.apache.hadoop.ipc.RemoteException.instantiateException(RemoteException.java:121)\n",
      "\tat org.apache.hadoop.ipc.RemoteException.unwrapRemoteException(RemoteException.java:88)\n",
      "\tat org.apache.hadoop.hdfs.DFSClient.primitiveMkdir(DFSClient.java:2356)\n",
      "\tat org.apache.hadoop.hdfs.DFSClient.mkdirs(DFSClient.java:2325)\n",
      "\tat org.apache.hadoop.hdfs.DistributedFileSystem$20.doCall(DistributedFileSystem.java:1056)\n",
      "\tat org.apache.hadoop.hdfs.DistributedFileSystem$20.doCall(DistributedFileSystem.java:1052)\n",
      "\tat org.apache.hadoop.fs.FileSystemLinkResolver.resolve(FileSystemLinkResolver.java:81)\n",
      "\tat org.apache.hadoop.hdfs.DistributedFileSystem.mkdirsInternal(DistributedFileSystem.java:1070)\n",
      "\tat org.apache.hadoop.hdfs.DistributedFileSystem.mkdirs(DistributedFileSystem.java:1045)\n",
      "\tat org.apache.hadoop.fs.FileSystem.mkdirs(FileSystem.java:1913)\n",
      "\tat org.apache.hadoop.mapreduce.lib.output.FileOutputCommitter.setupJob(FileOutputCommitter.java:343)\n",
      "\tat org.apache.spark.internal.io.HadoopMapReduceCommitProtocol.setupJob(HadoopMapReduceCommitProtocol.scala:162)\n",
      "\tat org.apache.spark.sql.execution.datasources.FileFormatWriter$.write(FileFormatWriter.scala:139)\n",
      "\tat org.apache.spark.sql.execution.datasources.InsertIntoHadoopFsRelationCommand.run(InsertIntoHadoopFsRelationCommand.scala:159)\n",
      "\tat org.apache.spark.sql.execution.command.DataWritingCommandExec.sideEffectResult$lzycompute(commands.scala:104)\n",
      "\tat org.apache.spark.sql.execution.command.DataWritingCommandExec.sideEffectResult(commands.scala:102)\n",
      "\tat org.apache.spark.sql.execution.command.DataWritingCommandExec.doExecute(commands.scala:122)\n",
      "\tat org.apache.spark.sql.execution.SparkPlan$$anonfun$execute$1.apply(SparkPlan.scala:131)\n",
      "\tat org.apache.spark.sql.execution.SparkPlan$$anonfun$execute$1.apply(SparkPlan.scala:127)\n",
      "\tat org.apache.spark.sql.execution.SparkPlan$$anonfun$executeQuery$1.apply(SparkPlan.scala:155)\n",
      "\tat org.apache.spark.rdd.RDDOperationScope$.withScope(RDDOperationScope.scala:151)\n",
      "\tat org.apache.spark.sql.execution.SparkPlan.executeQuery(SparkPlan.scala:152)\n",
      "\tat org.apache.spark.sql.execution.SparkPlan.execute(SparkPlan.scala:127)\n",
      "\tat org.apache.spark.sql.execution.QueryExecution.toRdd$lzycompute(QueryExecution.scala:80)\n",
      "\tat org.apache.spark.sql.execution.QueryExecution.toRdd(QueryExecution.scala:80)\n",
      "\tat org.apache.spark.sql.DataFrameWriter$$anonfun$runCommand$1.apply(DataFrameWriter.scala:676)\n",
      "\tat org.apache.spark.sql.DataFrameWriter$$anonfun$runCommand$1.apply(DataFrameWriter.scala:676)\n",
      "\tat org.apache.spark.sql.execution.SQLExecution$$anonfun$withNewExecutionId$1.apply(SQLExecution.scala:78)\n",
      "\tat org.apache.spark.sql.execution.SQLExecution$.withSQLConfPropagated(SQLExecution.scala:125)\n",
      "\tat org.apache.spark.sql.execution.SQLExecution$.withNewExecutionId(SQLExecution.scala:73)\n",
      "\tat org.apache.spark.sql.DataFrameWriter.runCommand(DataFrameWriter.scala:676)\n",
      "\tat org.apache.spark.sql.DataFrameWriter.saveToV1Source(DataFrameWriter.scala:285)\n",
      "\tat org.apache.spark.sql.DataFrameWriter.save(DataFrameWriter.scala:271)\n",
      "\tat org.apache.spark.sql.DataFrameWriter.save(DataFrameWriter.scala:229)\n",
      "\tat org.apache.spark.sql.DataFrameWriter.parquet(DataFrameWriter.scala:566)\n",
      "\tat sun.reflect.NativeMethodAccessorImpl.invoke0(Native Method)\n",
      "\tat sun.reflect.NativeMethodAccessorImpl.invoke(NativeMethodAccessorImpl.java:62)\n",
      "\tat sun.reflect.DelegatingMethodAccessorImpl.invoke(DelegatingMethodAccessorImpl.java:43)\n",
      "\tat java.lang.reflect.Method.invoke(Method.java:498)\n",
      "\tat py4j.reflection.MethodInvoker.invoke(MethodInvoker.java:244)\n",
      "\tat py4j.reflection.ReflectionEngine.invoke(ReflectionEngine.java:357)\n",
      "\tat py4j.Gateway.invoke(Gateway.java:282)\n",
      "\tat py4j.commands.AbstractCommand.invokeMethod(AbstractCommand.java:132)\n",
      "\tat py4j.commands.CallCommand.execute(CallCommand.java:79)\n",
      "\tat py4j.GatewayConnection.run(GatewayConnection.java:238)\n",
      "\tat java.lang.Thread.run(Thread.java:748)\n",
      "Caused by: org.apache.hadoop.ipc.RemoteException(org.apache.hadoop.security.AccessControlException): Permission denied: user=MattTest__mmitchel, access=WRITE, inode=\"user\":hdfs:hadoop:drwxrwxr-t\n",
      "\tat org.apache.hadoop.hdfs.server.namenode.FSPermissionChecker.check(FSPermissionChecker.java:520)\n",
      "\tat org.apache.hadoop.hdfs.server.namenode.FSPermissionChecker.check(FSPermissionChecker.java:337)\n",
      "\tat org.apache.hadoop.hdfs.server.namenode.FSPermissionChecker.checkPermission(FSPermissionChecker.java:227)\n",
      "\tat org.apache.hadoop.hdfs.server.namenode.FSDirectory.checkPermission(FSDirectory.java:1788)\n",
      "\tat org.apache.hadoop.hdfs.server.namenode.FSDirectory.checkPermission(FSDirectory.java:1773)\n",
      "\tat org.apache.hadoop.hdfs.server.namenode.FSDirectory.checkAncestorAccess(FSDirectory.java:1755)\n",
      "\tat org.apache.hadoop.hdfs.server.namenode.FSDirMkdirOp$1.performTask(FSDirMkdirOp.java:103)\n",
      "\tat io.hops.transaction.handler.TransactionalRequestHandler.execute(TransactionalRequestHandler.java:101)\n",
      "\tat io.hops.transaction.handler.HopsTransactionalRequestHandler.execute(HopsTransactionalRequestHandler.java:50)\n",
      "\tat io.hops.transaction.handler.RequestHandler.handle(RequestHandler.java:68)\n",
      "\tat io.hops.transaction.handler.RequestHandler.handle(RequestHandler.java:63)\n",
      "\tat org.apache.hadoop.hdfs.server.namenode.FSDirMkdirOp.mkdirs(FSDirMkdirOp.java:138)\n",
      "\tat org.apache.hadoop.hdfs.server.namenode.FSNamesystem.mkdirs(FSNamesystem.java:3758)\n",
      "\tat org.apache.hadoop.hdfs.server.namenode.NameNodeRpcServer.mkdirs(NameNodeRpcServer.java:861)\n",
      "\tat org.apache.hadoop.hdfs.protocolPB.ClientNamenodeProtocolServerSideTranslatorPB.mkdirs(ClientNamenodeProtocolServerSideTranslatorPB.java:727)\n",
      "\tat org.apache.hadoop.hdfs.protocol.proto.ClientNamenodeProtocolProtos$ClientNamenodeProtocol$2.callBlockingMethod(ClientNamenodeProtocolProtos.java)\n",
      "\tat org.apache.hadoop.ipc.ProtobufRpcEngine$Server$ProtoBufRpcInvoker.call(ProtobufRpcEngine.java:447)\n",
      "\tat org.apache.hadoop.ipc.RPC$Server.call(RPC.java:996)\n",
      "\tat org.apache.hadoop.ipc.Server$RpcCall.run(Server.java:848)\n",
      "\tat org.apache.hadoop.ipc.Server$RpcCall.run(Server.java:791)\n",
      "\tat java.security.AccessController.doPrivileged(Native Method)\n",
      "\tat javax.security.auth.Subject.doAs(Subject.java:422)\n",
      "\tat org.apache.hadoop.security.UserGroupInformation.doAs(UserGroupInformation.java:1929)\n",
      "\tat org.apache.hadoop.ipc.Server$Handler.run(Server.java:2706)\n",
      "\n",
      "\tat org.apache.hadoop.ipc.Client.getRpcResponse(Client.java:1535)\n",
      "\tat org.apache.hadoop.ipc.Client.call(Client.java:1481)\n",
      "\tat org.apache.hadoop.ipc.Client.call(Client.java:1391)\n",
      "\tat org.apache.hadoop.ipc.ProtobufRpcEngine$Invoker.invoke(ProtobufRpcEngine.java:227)\n",
      "\tat org.apache.hadoop.ipc.ProtobufRpcEngine$Invoker.invoke(ProtobufRpcEngine.java:116)\n",
      "\tat com.sun.proxy.$Proxy9.mkdirs(Unknown Source)\n",
      "\tat org.apache.hadoop.hdfs.protocolPB.ClientNamenodeProtocolTranslatorPB.mkdirs(ClientNamenodeProtocolTranslatorPB.java:654)\n",
      "\tat sun.reflect.NativeMethodAccessorImpl.invoke0(Native Method)\n",
      "\tat sun.reflect.NativeMethodAccessorImpl.invoke(NativeMethodAccessorImpl.java:62)\n",
      "\tat sun.reflect.DelegatingMethodAccessorImpl.invoke(DelegatingMethodAccessorImpl.java:43)\n",
      "\tat java.lang.reflect.Method.invoke(Method.java:498)\n",
      "\tat org.apache.hadoop.io.retry.RetryInvocationHandler.invokeMethod(RetryInvocationHandler.java:409)\n",
      "\tat org.apache.hadoop.io.retry.RetryInvocationHandler$Call.invokeMethod(RetryInvocationHandler.java:163)\n",
      "\tat org.apache.hadoop.io.retry.RetryInvocationHandler$Call.invoke(RetryInvocationHandler.java:155)\n",
      "\tat org.apache.hadoop.io.retry.RetryInvocationHandler$Call.invokeOnce(RetryInvocationHandler.java:95)\n",
      "\tat org.apache.hadoop.io.retry.RetryInvocationHandler.invoke(RetryInvocationHandler.java:346)\n",
      "\tat com.sun.proxy.$Proxy10.mkdirs(Unknown Source)\n",
      "\tat org.apache.hadoop.hdfs.DFSClient.primitiveMkdir(DFSClient.java:2354)\n",
      "\t... 43 more\n",
      "\n",
      "\n"
     ]
    }
   ],
   "source": [
    "started = datetime.datetime.now()\n",
    "\n",
    "df.write.parquet('NASA_Dashlink_Sample1.parquet')\n",
    "\n",
    "finished = datetime.datetime.now()\n",
    "elapsed = finished - started\n",
    "\n",
    "print('Operation took: ', elapsed)"
   ]
  },
  {
   "cell_type": "code",
   "execution_count": 142,
   "metadata": {},
   "outputs": [
    {
     "name": "stdout",
     "output_type": "stream",
     "text": [
      "['hdfs://rpc.namenode.service.consul:8020/Projects/MattTest/DataValidation', 'hdfs://rpc.namenode.service.consul:8020/Projects/MattTest/Experiments', 'hdfs://rpc.namenode.service.consul:8020/Projects/MattTest/Jupyter', 'hdfs://rpc.namenode.service.consul:8020/Projects/MattTest/Logs', 'hdfs://rpc.namenode.service.consul:8020/Projects/MattTest/MattTest_Training_Datasets', 'hdfs://rpc.namenode.service.consul:8020/Projects/MattTest/Models', 'hdfs://rpc.namenode.service.consul:8020/Projects/MattTest/Resources']"
     ]
    }
   ],
   "source": [
    "hdfs.ls('/')"
   ]
  },
  {
   "cell_type": "code",
   "execution_count": 143,
   "metadata": {},
   "outputs": [
    {
     "name": "stderr",
     "output_type": "stream",
     "text": [
      "An error was encountered:\n",
      "[Errno 13] Permission denied\n",
      "Traceback (most recent call last):\n",
      "  File \"/srv/hops/anaconda/anaconda/envs/python36/lib/python3.6/site-packages/hops/hdfs.py\", line 735, in ls\n",
      "    return hdfs.ls(hdfs_path, recursive=recursive)\n",
      "  File \"/srv/hops/anaconda/anaconda/envs/python36/lib/python3.6/site-packages/pydoop/hdfs/__init__.py\", line 307, in ls\n",
      "    dir_list = lsl(hdfs_path, user, recursive)\n",
      "  File \"/srv/hops/anaconda/anaconda/envs/python36/lib/python3.6/site-packages/pydoop/hdfs/__init__.py\", line 288, in lsl\n",
      "    dir_list = fs.list_directory(path_)\n",
      "  File \"/srv/hops/anaconda/anaconda/envs/python36/lib/python3.6/site-packages/pydoop/hdfs/fs.py\", line 419, in list_directory\n",
      "    return self.fs.list_directory(path)\n",
      "PermissionError: [Errno 13] Permission denied\n",
      "\n"
     ]
    }
   ],
   "source": [
    "hdfs.ls('Resources/')"
   ]
  },
  {
   "cell_type": "markdown",
   "metadata": {},
   "source": [
    "## Write to HDFS"
   ]
  },
  {
   "cell_type": "code",
   "execution_count": 144,
   "metadata": {},
   "outputs": [
    {
     "name": "stdout",
     "output_type": "stream",
     "text": [
      "logs README: *This is an auto-generated README.md file for your Dataset!*\n",
      "To replace it, go into your DataSet and edit the README.md file.\n",
      "\n",
      "*Logs* DataSet\n",
      "===\n",
      "\n",
      "## Contains the logs for jobs that have been run through the Hopsworks platform.\n",
      "logs README dumped: test\n",
      "Operation took:  0:23:43.075934"
     ]
    }
   ],
   "source": [
    "started = datetime.datetime.now()\n",
    "\n",
    "\n",
    "# filename = key\n",
    "# df.write.save('key', format='parquet', mode='append')\n",
    "\n",
    "# finished = datetime.datetime.now()\n",
    "# elapsed = finished - started\n",
    "\n",
    "\n",
    "\n",
    "logs_README = hdfs.load(\"Logs/README.md\")\n",
    "print(\"logs README: {}\".format(logs_README.decode(\"utf-8\")))\n",
    "hdfs.dump(\"test\", \"Logs/README_dump_test.md\")\n",
    "logs_README_dumped = hdfs.load(\"Logs/README_dump_test.md\")\n",
    "print(\"logs README dumped: {}\".format(logs_README_dumped.decode(\"utf-8\")))\n",
    "\n",
    "\n",
    "\n",
    "# times['SparkDf_to_HDFS'] = elapsed\n",
    "print('Operation took: ', elapsed)"
   ]
  },
  {
   "cell_type": "code",
   "execution_count": 145,
   "metadata": {},
   "outputs": [
    {
     "name": "stdout",
     "output_type": "stream",
     "text": [
      "['hdfs://rpc.namenode.service.consul:8020/Projects/MattTest/Logs/Flink', 'hdfs://rpc.namenode.service.consul:8020/Projects/MattTest/Logs/PySpark', 'hdfs://rpc.namenode.service.consul:8020/Projects/MattTest/Logs/README.md', 'hdfs://rpc.namenode.service.consul:8020/Projects/MattTest/Logs/README_dump_test.md', 'hdfs://rpc.namenode.service.consul:8020/Projects/MattTest/Logs/Spark']"
     ]
    }
   ],
   "source": [
    "hdfs.ls('Logs/')"
   ]
  },
  {
   "cell_type": "code",
   "execution_count": null,
   "metadata": {},
   "outputs": [],
   "source": [
    "hdfs.dump(df, \"\")"
   ]
  },
  {
   "cell_type": "markdown",
   "metadata": {},
   "source": [
    "## Load From Parquet"
   ]
  },
  {
   "cell_type": "code",
   "execution_count": null,
   "metadata": {},
   "outputs": [],
   "source": []
  },
  {
   "cell_type": "markdown",
   "metadata": {},
   "source": [
    "## Hive"
   ]
  },
  {
   "cell_type": "code",
   "execution_count": 31,
   "metadata": {},
   "outputs": [],
   "source": [
    "from hops import hdfs as hopsfs\n",
    "PROJECT_NAME = hopsfs.project_name()"
   ]
  },
  {
   "cell_type": "code",
   "execution_count": 32,
   "metadata": {},
   "outputs": [
    {
     "name": "stdout",
     "output_type": "stream",
     "text": [
      "'MattTest'"
     ]
    }
   ],
   "source": [
    "PROJECT_NAME"
   ]
  },
  {
   "cell_type": "markdown",
   "metadata": {},
   "source": [
    "## Show Tables"
   ]
  },
  {
   "cell_type": "code",
   "execution_count": 33,
   "metadata": {},
   "outputs": [
    {
     "name": "stdout",
     "output_type": "stream",
     "text": [
      "+--------+---------+-----------+\n",
      "|database|tableName|isTemporary|\n",
      "+--------+---------+-----------+\n",
      "+--------+---------+-----------+"
     ]
    }
   ],
   "source": [
    "spark.sql(\"show tables\").show()"
   ]
  },
  {
   "cell_type": "markdown",
   "metadata": {},
   "source": [
    "## Create Initial Table"
   ]
  },
  {
   "cell_type": "code",
   "execution_count": 34,
   "metadata": {},
   "outputs": [
    {
     "name": "stderr",
     "output_type": "stream",
     "text": [
      "An error was encountered:\n",
      "An error occurred while calling o221.saveAsTable.\n",
      ": org.apache.hadoop.security.AccessControlException: Permission denied: user=MattTest__mmitchel, access=WRITE, inode=\"warehouse\":hive:hadoop:drwxr-xr-t\n",
      "\tat org.apache.hadoop.hdfs.server.namenode.FSPermissionChecker.check(FSPermissionChecker.java:520)\n",
      "\tat org.apache.hadoop.hdfs.server.namenode.FSPermissionChecker.check(FSPermissionChecker.java:337)\n",
      "\tat org.apache.hadoop.hdfs.server.namenode.FSPermissionChecker.checkPermission(FSPermissionChecker.java:227)\n",
      "\tat org.apache.hadoop.hdfs.server.namenode.FSDirectory.checkPermission(FSDirectory.java:1788)\n",
      "\tat org.apache.hadoop.hdfs.server.namenode.FSDirectory.checkPermission(FSDirectory.java:1773)\n",
      "\tat org.apache.hadoop.hdfs.server.namenode.FSDirectory.checkAncestorAccess(FSDirectory.java:1755)\n",
      "\tat org.apache.hadoop.hdfs.server.namenode.FSDirMkdirOp$1.performTask(FSDirMkdirOp.java:103)\n",
      "\tat io.hops.transaction.handler.TransactionalRequestHandler.execute(TransactionalRequestHandler.java:101)\n",
      "\tat io.hops.transaction.handler.HopsTransactionalRequestHandler.execute(HopsTransactionalRequestHandler.java:50)\n",
      "\tat io.hops.transaction.handler.RequestHandler.handle(RequestHandler.java:68)\n",
      "\tat io.hops.transaction.handler.RequestHandler.handle(RequestHandler.java:63)\n",
      "\tat org.apache.hadoop.hdfs.server.namenode.FSDirMkdirOp.mkdirs(FSDirMkdirOp.java:138)\n",
      "\tat org.apache.hadoop.hdfs.server.namenode.FSNamesystem.mkdirs(FSNamesystem.java:3758)\n",
      "\tat org.apache.hadoop.hdfs.server.namenode.NameNodeRpcServer.mkdirs(NameNodeRpcServer.java:861)\n",
      "\tat org.apache.hadoop.hdfs.protocolPB.ClientNamenodeProtocolServerSideTranslatorPB.mkdirs(ClientNamenodeProtocolServerSideTranslatorPB.java:727)\n",
      "\tat org.apache.hadoop.hdfs.protocol.proto.ClientNamenodeProtocolProtos$ClientNamenodeProtocol$2.callBlockingMethod(ClientNamenodeProtocolProtos.java)\n",
      "\tat org.apache.hadoop.ipc.ProtobufRpcEngine$Server$ProtoBufRpcInvoker.call(ProtobufRpcEngine.java:447)\n",
      "\tat org.apache.hadoop.ipc.RPC$Server.call(RPC.java:996)\n",
      "\tat org.apache.hadoop.ipc.Server$RpcCall.run(Server.java:848)\n",
      "\tat org.apache.hadoop.ipc.Server$RpcCall.run(Server.java:791)\n",
      "\tat java.security.AccessController.doPrivileged(Native Method)\n",
      "\tat javax.security.auth.Subject.doAs(Subject.java:422)\n",
      "\tat org.apache.hadoop.security.UserGroupInformation.doAs(UserGroupInformation.java:1929)\n",
      "\tat org.apache.hadoop.ipc.Server$Handler.run(Server.java:2706)\n",
      "\n",
      "\tat sun.reflect.NativeConstructorAccessorImpl.newInstance0(Native Method)\n",
      "\tat sun.reflect.NativeConstructorAccessorImpl.newInstance(NativeConstructorAccessorImpl.java:62)\n",
      "\tat sun.reflect.DelegatingConstructorAccessorImpl.newInstance(DelegatingConstructorAccessorImpl.java:45)\n",
      "\tat java.lang.reflect.Constructor.newInstance(Constructor.java:423)\n",
      "\tat org.apache.hadoop.ipc.RemoteException.instantiateException(RemoteException.java:121)\n",
      "\tat org.apache.hadoop.ipc.RemoteException.unwrapRemoteException(RemoteException.java:88)\n",
      "\tat org.apache.hadoop.hdfs.DFSClient.primitiveMkdir(DFSClient.java:2356)\n",
      "\tat org.apache.hadoop.hdfs.DFSClient.mkdirs(DFSClient.java:2325)\n",
      "\tat org.apache.hadoop.hdfs.DistributedFileSystem$20.doCall(DistributedFileSystem.java:1056)\n",
      "\tat org.apache.hadoop.hdfs.DistributedFileSystem$20.doCall(DistributedFileSystem.java:1052)\n",
      "\tat org.apache.hadoop.fs.FileSystemLinkResolver.resolve(FileSystemLinkResolver.java:81)\n",
      "\tat org.apache.hadoop.hdfs.DistributedFileSystem.mkdirsInternal(DistributedFileSystem.java:1070)\n",
      "\tat org.apache.hadoop.hdfs.DistributedFileSystem.mkdirs(DistributedFileSystem.java:1045)\n",
      "\tat org.apache.hadoop.fs.FileSystem.mkdirs(FileSystem.java:1913)\n",
      "\tat org.apache.hadoop.mapreduce.lib.output.FileOutputCommitter.setupJob(FileOutputCommitter.java:343)\n",
      "\tat org.apache.spark.internal.io.HadoopMapReduceCommitProtocol.setupJob(HadoopMapReduceCommitProtocol.scala:162)\n",
      "\tat org.apache.spark.sql.execution.datasources.FileFormatWriter$.write(FileFormatWriter.scala:139)\n",
      "\tat org.apache.spark.sql.execution.datasources.InsertIntoHadoopFsRelationCommand.run(InsertIntoHadoopFsRelationCommand.scala:159)\n",
      "\tat org.apache.spark.sql.execution.datasources.DataSource.writeAndRead(DataSource.scala:503)\n",
      "\tat org.apache.spark.sql.execution.command.CreateDataSourceTableAsSelectCommand.saveDataIntoTable(createDataSourceTables.scala:217)\n",
      "\tat org.apache.spark.sql.execution.command.CreateDataSourceTableAsSelectCommand.run(createDataSourceTables.scala:176)\n",
      "\tat org.apache.spark.sql.execution.command.DataWritingCommandExec.sideEffectResult$lzycompute(commands.scala:104)\n",
      "\tat org.apache.spark.sql.execution.command.DataWritingCommandExec.sideEffectResult(commands.scala:102)\n",
      "\tat org.apache.spark.sql.execution.command.DataWritingCommandExec.doExecute(commands.scala:122)\n",
      "\tat org.apache.spark.sql.execution.SparkPlan$$anonfun$execute$1.apply(SparkPlan.scala:131)\n",
      "\tat org.apache.spark.sql.execution.SparkPlan$$anonfun$execute$1.apply(SparkPlan.scala:127)\n",
      "\tat org.apache.spark.sql.execution.SparkPlan$$anonfun$executeQuery$1.apply(SparkPlan.scala:155)\n",
      "\tat org.apache.spark.rdd.RDDOperationScope$.withScope(RDDOperationScope.scala:151)\n",
      "\tat org.apache.spark.sql.execution.SparkPlan.executeQuery(SparkPlan.scala:152)\n",
      "\tat org.apache.spark.sql.execution.SparkPlan.execute(SparkPlan.scala:127)\n",
      "\tat org.apache.spark.sql.execution.QueryExecution.toRdd$lzycompute(QueryExecution.scala:80)\n",
      "\tat org.apache.spark.sql.execution.QueryExecution.toRdd(QueryExecution.scala:80)\n",
      "\tat org.apache.spark.sql.DataFrameWriter$$anonfun$runCommand$1.apply(DataFrameWriter.scala:676)\n",
      "\tat org.apache.spark.sql.DataFrameWriter$$anonfun$runCommand$1.apply(DataFrameWriter.scala:676)\n",
      "\tat org.apache.spark.sql.execution.SQLExecution$$anonfun$withNewExecutionId$1.apply(SQLExecution.scala:78)\n",
      "\tat org.apache.spark.sql.execution.SQLExecution$.withSQLConfPropagated(SQLExecution.scala:125)\n",
      "\tat org.apache.spark.sql.execution.SQLExecution$.withNewExecutionId(SQLExecution.scala:73)\n",
      "\tat org.apache.spark.sql.DataFrameWriter.runCommand(DataFrameWriter.scala:676)\n",
      "\tat org.apache.spark.sql.DataFrameWriter.createTable(DataFrameWriter.scala:474)\n",
      "\tat org.apache.spark.sql.DataFrameWriter.saveAsTable(DataFrameWriter.scala:453)\n",
      "\tat org.apache.spark.sql.DataFrameWriter.saveAsTable(DataFrameWriter.scala:409)\n",
      "\tat sun.reflect.NativeMethodAccessorImpl.invoke0(Native Method)\n",
      "\tat sun.reflect.NativeMethodAccessorImpl.invoke(NativeMethodAccessorImpl.java:62)\n",
      "\tat sun.reflect.DelegatingMethodAccessorImpl.invoke(DelegatingMethodAccessorImpl.java:43)\n",
      "\tat java.lang.reflect.Method.invoke(Method.java:498)\n",
      "\tat py4j.reflection.MethodInvoker.invoke(MethodInvoker.java:244)\n",
      "\tat py4j.reflection.ReflectionEngine.invoke(ReflectionEngine.java:357)\n",
      "\tat py4j.Gateway.invoke(Gateway.java:282)\n",
      "\tat py4j.commands.AbstractCommand.invokeMethod(AbstractCommand.java:132)\n",
      "\tat py4j.commands.CallCommand.execute(CallCommand.java:79)\n",
      "\tat py4j.GatewayConnection.run(GatewayConnection.java:238)\n",
      "\tat java.lang.Thread.run(Thread.java:748)\n",
      "Caused by: org.apache.hadoop.ipc.RemoteException(org.apache.hadoop.security.AccessControlException): Permission denied: user=MattTest__mmitchel, access=WRITE, inode=\"warehouse\":hive:hadoop:drwxr-xr-t\n",
      "\tat org.apache.hadoop.hdfs.server.namenode.FSPermissionChecker.check(FSPermissionChecker.java:520)\n",
      "\tat org.apache.hadoop.hdfs.server.namenode.FSPermissionChecker.check(FSPermissionChecker.java:337)\n",
      "\tat org.apache.hadoop.hdfs.server.namenode.FSPermissionChecker.checkPermission(FSPermissionChecker.java:227)\n",
      "\tat org.apache.hadoop.hdfs.server.namenode.FSDirectory.checkPermission(FSDirectory.java:1788)\n",
      "\tat org.apache.hadoop.hdfs.server.namenode.FSDirectory.checkPermission(FSDirectory.java:1773)\n",
      "\tat org.apache.hadoop.hdfs.server.namenode.FSDirectory.checkAncestorAccess(FSDirectory.java:1755)\n",
      "\tat org.apache.hadoop.hdfs.server.namenode.FSDirMkdirOp$1.performTask(FSDirMkdirOp.java:103)\n",
      "\tat io.hops.transaction.handler.TransactionalRequestHandler.execute(TransactionalRequestHandler.java:101)\n",
      "\tat io.hops.transaction.handler.HopsTransactionalRequestHandler.execute(HopsTransactionalRequestHandler.java:50)\n",
      "\tat io.hops.transaction.handler.RequestHandler.handle(RequestHandler.java:68)\n",
      "\tat io.hops.transaction.handler.RequestHandler.handle(RequestHandler.java:63)\n",
      "\tat org.apache.hadoop.hdfs.server.namenode.FSDirMkdirOp.mkdirs(FSDirMkdirOp.java:138)\n",
      "\tat org.apache.hadoop.hdfs.server.namenode.FSNamesystem.mkdirs(FSNamesystem.java:3758)\n",
      "\tat org.apache.hadoop.hdfs.server.namenode.NameNodeRpcServer.mkdirs(NameNodeRpcServer.java:861)\n",
      "\tat org.apache.hadoop.hdfs.protocolPB.ClientNamenodeProtocolServerSideTranslatorPB.mkdirs(ClientNamenodeProtocolServerSideTranslatorPB.java:727)\n",
      "\tat org.apache.hadoop.hdfs.protocol.proto.ClientNamenodeProtocolProtos$ClientNamenodeProtocol$2.callBlockingMethod(ClientNamenodeProtocolProtos.java)\n",
      "\tat org.apache.hadoop.ipc.ProtobufRpcEngine$Server$ProtoBufRpcInvoker.call(ProtobufRpcEngine.java:447)\n",
      "\tat org.apache.hadoop.ipc.RPC$Server.call(RPC.java:996)\n",
      "\tat org.apache.hadoop.ipc.Server$RpcCall.run(Server.java:848)\n",
      "\tat org.apache.hadoop.ipc.Server$RpcCall.run(Server.java:791)\n",
      "\tat java.security.AccessController.doPrivileged(Native Method)\n",
      "\tat javax.security.auth.Subject.doAs(Subject.java:422)\n",
      "\tat org.apache.hadoop.security.UserGroupInformation.doAs(UserGroupInformation.java:1929)\n",
      "\tat org.apache.hadoop.ipc.Server$Handler.run(Server.java:2706)\n",
      "\n",
      "\tat org.apache.hadoop.ipc.Client.getRpcResponse(Client.java:1535)\n",
      "\tat org.apache.hadoop.ipc.Client.call(Client.java:1481)\n",
      "\tat org.apache.hadoop.ipc.Client.call(Client.java:1391)\n",
      "\tat org.apache.hadoop.ipc.ProtobufRpcEngine$Invoker.invoke(ProtobufRpcEngine.java:227)\n",
      "\tat org.apache.hadoop.ipc.ProtobufRpcEngine$Invoker.invoke(ProtobufRpcEngine.java:116)\n",
      "\tat com.sun.proxy.$Proxy9.mkdirs(Unknown Source)\n",
      "\tat org.apache.hadoop.hdfs.protocolPB.ClientNamenodeProtocolTranslatorPB.mkdirs(ClientNamenodeProtocolTranslatorPB.java:654)\n",
      "\tat sun.reflect.NativeMethodAccessorImpl.invoke0(Native Method)\n",
      "\tat sun.reflect.NativeMethodAccessorImpl.invoke(NativeMethodAccessorImpl.java:62)\n",
      "\tat sun.reflect.DelegatingMethodAccessorImpl.invoke(DelegatingMethodAccessorImpl.java:43)\n",
      "\tat java.lang.reflect.Method.invoke(Method.java:498)\n",
      "\tat org.apache.hadoop.io.retry.RetryInvocationHandler.invokeMethod(RetryInvocationHandler.java:409)\n",
      "\tat org.apache.hadoop.io.retry.RetryInvocationHandler$Call.invokeMethod(RetryInvocationHandler.java:163)\n",
      "\tat org.apache.hadoop.io.retry.RetryInvocationHandler$Call.invoke(RetryInvocationHandler.java:155)\n",
      "\tat org.apache.hadoop.io.retry.RetryInvocationHandler$Call.invokeOnce(RetryInvocationHandler.java:95)\n",
      "\tat org.apache.hadoop.io.retry.RetryInvocationHandler.invoke(RetryInvocationHandler.java:346)\n",
      "\tat com.sun.proxy.$Proxy10.mkdirs(Unknown Source)\n",
      "\tat org.apache.hadoop.hdfs.DFSClient.primitiveMkdir(DFSClient.java:2354)\n",
      "\t... 45 more\n",
      "\n",
      "Traceback (most recent call last):\n",
      "  File \"/srv/hops/spark/python/lib/pyspark.zip/pyspark/sql/readwriter.py\", line 773, in saveAsTable\n",
      "    self._jwrite.saveAsTable(name)\n",
      "  File \"/srv/hops/spark/python/lib/py4j-src.zip/py4j/java_gateway.py\", line 1257, in __call__\n",
      "    answer, self.gateway_client, self.target_id, self.name)\n",
      "  File \"/srv/hops/spark/python/lib/pyspark.zip/pyspark/sql/utils.py\", line 63, in deco\n",
      "    return f(*a, **kw)\n",
      "  File \"/srv/hops/spark/python/lib/py4j-src.zip/py4j/protocol.py\", line 328, in get_return_value\n",
      "    format(target_id, \".\", name), value)\n",
      "py4j.protocol.Py4JJavaError: An error occurred while calling o221.saveAsTable.\n",
      ": org.apache.hadoop.security.AccessControlException: Permission denied: user=MattTest__mmitchel, access=WRITE, inode=\"warehouse\":hive:hadoop:drwxr-xr-t\n",
      "\tat org.apache.hadoop.hdfs.server.namenode.FSPermissionChecker.check(FSPermissionChecker.java:520)\n",
      "\tat org.apache.hadoop.hdfs.server.namenode.FSPermissionChecker.check(FSPermissionChecker.java:337)\n",
      "\tat org.apache.hadoop.hdfs.server.namenode.FSPermissionChecker.checkPermission(FSPermissionChecker.java:227)\n",
      "\tat org.apache.hadoop.hdfs.server.namenode.FSDirectory.checkPermission(FSDirectory.java:1788)\n",
      "\tat org.apache.hadoop.hdfs.server.namenode.FSDirectory.checkPermission(FSDirectory.java:1773)\n",
      "\tat org.apache.hadoop.hdfs.server.namenode.FSDirectory.checkAncestorAccess(FSDirectory.java:1755)\n",
      "\tat org.apache.hadoop.hdfs.server.namenode.FSDirMkdirOp$1.performTask(FSDirMkdirOp.java:103)\n",
      "\tat io.hops.transaction.handler.TransactionalRequestHandler.execute(TransactionalRequestHandler.java:101)\n",
      "\tat io.hops.transaction.handler.HopsTransactionalRequestHandler.execute(HopsTransactionalRequestHandler.java:50)\n",
      "\tat io.hops.transaction.handler.RequestHandler.handle(RequestHandler.java:68)\n",
      "\tat io.hops.transaction.handler.RequestHandler.handle(RequestHandler.java:63)\n",
      "\tat org.apache.hadoop.hdfs.server.namenode.FSDirMkdirOp.mkdirs(FSDirMkdirOp.java:138)\n",
      "\tat org.apache.hadoop.hdfs.server.namenode.FSNamesystem.mkdirs(FSNamesystem.java:3758)\n",
      "\tat org.apache.hadoop.hdfs.server.namenode.NameNodeRpcServer.mkdirs(NameNodeRpcServer.java:861)\n",
      "\tat org.apache.hadoop.hdfs.protocolPB.ClientNamenodeProtocolServerSideTranslatorPB.mkdirs(ClientNamenodeProtocolServerSideTranslatorPB.java:727)\n",
      "\tat org.apache.hadoop.hdfs.protocol.proto.ClientNamenodeProtocolProtos$ClientNamenodeProtocol$2.callBlockingMethod(ClientNamenodeProtocolProtos.java)\n",
      "\tat org.apache.hadoop.ipc.ProtobufRpcEngine$Server$ProtoBufRpcInvoker.call(ProtobufRpcEngine.java:447)\n",
      "\tat org.apache.hadoop.ipc.RPC$Server.call(RPC.java:996)\n",
      "\tat org.apache.hadoop.ipc.Server$RpcCall.run(Server.java:848)\n",
      "\tat org.apache.hadoop.ipc.Server$RpcCall.run(Server.java:791)\n",
      "\tat java.security.AccessController.doPrivileged(Native Method)\n",
      "\tat javax.security.auth.Subject.doAs(Subject.java:422)\n",
      "\tat org.apache.hadoop.security.UserGroupInformation.doAs(UserGroupInformation.java:1929)\n",
      "\tat org.apache.hadoop.ipc.Server$Handler.run(Server.java:2706)\n",
      "\n",
      "\tat sun.reflect.NativeConstructorAccessorImpl.newInstance0(Native Method)\n",
      "\tat sun.reflect.NativeConstructorAccessorImpl.newInstance(NativeConstructorAccessorImpl.java:62)\n",
      "\tat sun.reflect.DelegatingConstructorAccessorImpl.newInstance(DelegatingConstructorAccessorImpl.java:45)\n",
      "\tat java.lang.reflect.Constructor.newInstance(Constructor.java:423)\n",
      "\tat org.apache.hadoop.ipc.RemoteException.instantiateException(RemoteException.java:121)\n",
      "\tat org.apache.hadoop.ipc.RemoteException.unwrapRemoteException(RemoteException.java:88)\n",
      "\tat org.apache.hadoop.hdfs.DFSClient.primitiveMkdir(DFSClient.java:2356)\n",
      "\tat org.apache.hadoop.hdfs.DFSClient.mkdirs(DFSClient.java:2325)\n",
      "\tat org.apache.hadoop.hdfs.DistributedFileSystem$20.doCall(DistributedFileSystem.java:1056)\n",
      "\tat org.apache.hadoop.hdfs.DistributedFileSystem$20.doCall(DistributedFileSystem.java:1052)\n",
      "\tat org.apache.hadoop.fs.FileSystemLinkResolver.resolve(FileSystemLinkResolver.java:81)\n",
      "\tat org.apache.hadoop.hdfs.DistributedFileSystem.mkdirsInternal(DistributedFileSystem.java:1070)\n",
      "\tat org.apache.hadoop.hdfs.DistributedFileSystem.mkdirs(DistributedFileSystem.java:1045)\n",
      "\tat org.apache.hadoop.fs.FileSystem.mkdirs(FileSystem.java:1913)\n",
      "\tat org.apache.hadoop.mapreduce.lib.output.FileOutputCommitter.setupJob(FileOutputCommitter.java:343)\n",
      "\tat org.apache.spark.internal.io.HadoopMapReduceCommitProtocol.setupJob(HadoopMapReduceCommitProtocol.scala:162)\n",
      "\tat org.apache.spark.sql.execution.datasources.FileFormatWriter$.write(FileFormatWriter.scala:139)\n",
      "\tat org.apache.spark.sql.execution.datasources.InsertIntoHadoopFsRelationCommand.run(InsertIntoHadoopFsRelationCommand.scala:159)\n",
      "\tat org.apache.spark.sql.execution.datasources.DataSource.writeAndRead(DataSource.scala:503)\n",
      "\tat org.apache.spark.sql.execution.command.CreateDataSourceTableAsSelectCommand.saveDataIntoTable(createDataSourceTables.scala:217)\n",
      "\tat org.apache.spark.sql.execution.command.CreateDataSourceTableAsSelectCommand.run(createDataSourceTables.scala:176)\n",
      "\tat org.apache.spark.sql.execution.command.DataWritingCommandExec.sideEffectResult$lzycompute(commands.scala:104)\n",
      "\tat org.apache.spark.sql.execution.command.DataWritingCommandExec.sideEffectResult(commands.scala:102)\n",
      "\tat org.apache.spark.sql.execution.command.DataWritingCommandExec.doExecute(commands.scala:122)\n",
      "\tat org.apache.spark.sql.execution.SparkPlan$$anonfun$execute$1.apply(SparkPlan.scala:131)\n",
      "\tat org.apache.spark.sql.execution.SparkPlan$$anonfun$execute$1.apply(SparkPlan.scala:127)\n",
      "\tat org.apache.spark.sql.execution.SparkPlan$$anonfun$executeQuery$1.apply(SparkPlan.scala:155)\n",
      "\tat org.apache.spark.rdd.RDDOperationScope$.withScope(RDDOperationScope.scala:151)\n",
      "\tat org.apache.spark.sql.execution.SparkPlan.executeQuery(SparkPlan.scala:152)\n",
      "\tat org.apache.spark.sql.execution.SparkPlan.execute(SparkPlan.scala:127)\n",
      "\tat org.apache.spark.sql.execution.QueryExecution.toRdd$lzycompute(QueryExecution.scala:80)\n",
      "\tat org.apache.spark.sql.execution.QueryExecution.toRdd(QueryExecution.scala:80)\n",
      "\tat org.apache.spark.sql.DataFrameWriter$$anonfun$runCommand$1.apply(DataFrameWriter.scala:676)\n",
      "\tat org.apache.spark.sql.DataFrameWriter$$anonfun$runCommand$1.apply(DataFrameWriter.scala:676)\n",
      "\tat org.apache.spark.sql.execution.SQLExecution$$anonfun$withNewExecutionId$1.apply(SQLExecution.scala:78)\n",
      "\tat org.apache.spark.sql.execution.SQLExecution$.withSQLConfPropagated(SQLExecution.scala:125)\n",
      "\tat org.apache.spark.sql.execution.SQLExecution$.withNewExecutionId(SQLExecution.scala:73)\n",
      "\tat org.apache.spark.sql.DataFrameWriter.runCommand(DataFrameWriter.scala:676)\n",
      "\tat org.apache.spark.sql.DataFrameWriter.createTable(DataFrameWriter.scala:474)\n",
      "\tat org.apache.spark.sql.DataFrameWriter.saveAsTable(DataFrameWriter.scala:453)\n",
      "\tat org.apache.spark.sql.DataFrameWriter.saveAsTable(DataFrameWriter.scala:409)\n",
      "\tat sun.reflect.NativeMethodAccessorImpl.invoke0(Native Method)\n",
      "\tat sun.reflect.NativeMethodAccessorImpl.invoke(NativeMethodAccessorImpl.java:62)\n",
      "\tat sun.reflect.DelegatingMethodAccessorImpl.invoke(DelegatingMethodAccessorImpl.java:43)\n",
      "\tat java.lang.reflect.Method.invoke(Method.java:498)\n",
      "\tat py4j.reflection.MethodInvoker.invoke(MethodInvoker.java:244)\n",
      "\tat py4j.reflection.ReflectionEngine.invoke(ReflectionEngine.java:357)\n",
      "\tat py4j.Gateway.invoke(Gateway.java:282)\n",
      "\tat py4j.commands.AbstractCommand.invokeMethod(AbstractCommand.java:132)\n",
      "\tat py4j.commands.CallCommand.execute(CallCommand.java:79)\n",
      "\tat py4j.GatewayConnection.run(GatewayConnection.java:238)\n",
      "\tat java.lang.Thread.run(Thread.java:748)\n",
      "Caused by: org.apache.hadoop.ipc.RemoteException(org.apache.hadoop.security.AccessControlException): Permission denied: user=MattTest__mmitchel, access=WRITE, inode=\"warehouse\":hive:hadoop:drwxr-xr-t\n",
      "\tat org.apache.hadoop.hdfs.server.namenode.FSPermissionChecker.check(FSPermissionChecker.java:520)\n",
      "\tat org.apache.hadoop.hdfs.server.namenode.FSPermissionChecker.check(FSPermissionChecker.java:337)\n",
      "\tat org.apache.hadoop.hdfs.server.namenode.FSPermissionChecker.checkPermission(FSPermissionChecker.java:227)\n",
      "\tat org.apache.hadoop.hdfs.server.namenode.FSDirectory.checkPermission(FSDirectory.java:1788)\n",
      "\tat org.apache.hadoop.hdfs.server.namenode.FSDirectory.checkPermission(FSDirectory.java:1773)\n",
      "\tat org.apache.hadoop.hdfs.server.namenode.FSDirectory.checkAncestorAccess(FSDirectory.java:1755)\n",
      "\tat org.apache.hadoop.hdfs.server.namenode.FSDirMkdirOp$1.performTask(FSDirMkdirOp.java:103)\n",
      "\tat io.hops.transaction.handler.TransactionalRequestHandler.execute(TransactionalRequestHandler.java:101)\n",
      "\tat io.hops.transaction.handler.HopsTransactionalRequestHandler.execute(HopsTransactionalRequestHandler.java:50)\n",
      "\tat io.hops.transaction.handler.RequestHandler.handle(RequestHandler.java:68)\n",
      "\tat io.hops.transaction.handler.RequestHandler.handle(RequestHandler.java:63)\n",
      "\tat org.apache.hadoop.hdfs.server.namenode.FSDirMkdirOp.mkdirs(FSDirMkdirOp.java:138)\n",
      "\tat org.apache.hadoop.hdfs.server.namenode.FSNamesystem.mkdirs(FSNamesystem.java:3758)\n",
      "\tat org.apache.hadoop.hdfs.server.namenode.NameNodeRpcServer.mkdirs(NameNodeRpcServer.java:861)\n",
      "\tat org.apache.hadoop.hdfs.protocolPB.ClientNamenodeProtocolServerSideTranslatorPB.mkdirs(ClientNamenodeProtocolServerSideTranslatorPB.java:727)\n",
      "\tat org.apache.hadoop.hdfs.protocol.proto.ClientNamenodeProtocolProtos$ClientNamenodeProtocol$2.callBlockingMethod(ClientNamenodeProtocolProtos.java)\n",
      "\tat org.apache.hadoop.ipc.ProtobufRpcEngine$Server$ProtoBufRpcInvoker.call(ProtobufRpcEngine.java:447)\n",
      "\tat org.apache.hadoop.ipc.RPC$Server.call(RPC.java:996)\n",
      "\tat org.apache.hadoop.ipc.Server$RpcCall.run(Server.java:848)\n",
      "\tat org.apache.hadoop.ipc.Server$RpcCall.run(Server.java:791)\n",
      "\tat java.security.AccessController.doPrivileged(Native Method)\n",
      "\tat javax.security.auth.Subject.doAs(Subject.java:422)\n",
      "\tat org.apache.hadoop.security.UserGroupInformation.doAs(UserGroupInformation.java:1929)\n",
      "\tat org.apache.hadoop.ipc.Server$Handler.run(Server.java:2706)\n",
      "\n",
      "\tat org.apache.hadoop.ipc.Client.getRpcResponse(Client.java:1535)\n",
      "\tat org.apache.hadoop.ipc.Client.call(Client.java:1481)\n",
      "\tat org.apache.hadoop.ipc.Client.call(Client.java:1391)\n",
      "\tat org.apache.hadoop.ipc.ProtobufRpcEngine$Invoker.invoke(ProtobufRpcEngine.java:227)\n",
      "\tat org.apache.hadoop.ipc.ProtobufRpcEngine$Invoker.invoke(ProtobufRpcEngine.java:116)\n",
      "\tat com.sun.proxy.$Proxy9.mkdirs(Unknown Source)\n",
      "\tat org.apache.hadoop.hdfs.protocolPB.ClientNamenodeProtocolTranslatorPB.mkdirs(ClientNamenodeProtocolTranslatorPB.java:654)\n",
      "\tat sun.reflect.NativeMethodAccessorImpl.invoke0(Native Method)\n",
      "\tat sun.reflect.NativeMethodAccessorImpl.invoke(NativeMethodAccessorImpl.java:62)\n",
      "\tat sun.reflect.DelegatingMethodAccessorImpl.invoke(DelegatingMethodAccessorImpl.java:43)\n",
      "\tat java.lang.reflect.Method.invoke(Method.java:498)\n",
      "\tat org.apache.hadoop.io.retry.RetryInvocationHandler.invokeMethod(RetryInvocationHandler.java:409)\n",
      "\tat org.apache.hadoop.io.retry.RetryInvocationHandler$Call.invokeMethod(RetryInvocationHandler.java:163)\n",
      "\tat org.apache.hadoop.io.retry.RetryInvocationHandler$Call.invoke(RetryInvocationHandler.java:155)\n",
      "\tat org.apache.hadoop.io.retry.RetryInvocationHandler$Call.invokeOnce(RetryInvocationHandler.java:95)\n",
      "\tat org.apache.hadoop.io.retry.RetryInvocationHandler.invoke(RetryInvocationHandler.java:346)\n",
      "\tat com.sun.proxy.$Proxy10.mkdirs(Unknown Source)\n",
      "\tat org.apache.hadoop.hdfs.DFSClient.primitiveMkdir(DFSClient.java:2354)\n",
      "\t... 45 more\n",
      "\n",
      "\n"
     ]
    }
   ],
   "source": [
    "df.write.format(\"ORC\").mode(\"overwrite\").saveAsTable(\"NASA_Dashlink\")"
   ]
  },
  {
   "cell_type": "markdown",
   "metadata": {},
   "source": [
    "# Times"
   ]
  },
  {
   "cell_type": "code",
   "execution_count": 45,
   "metadata": {},
   "outputs": [
    {
     "name": "stdout",
     "output_type": "stream",
     "text": [
      "{'s3_to_spark': datetime.timedelta(0, 9, 401443)}"
     ]
    }
   ],
   "source": [
    "times"
   ]
  },
  {
   "cell_type": "code",
   "execution_count": null,
   "metadata": {},
   "outputs": [],
   "source": []
  },
  {
   "cell_type": "markdown",
   "metadata": {},
   "source": [
    "## Sample"
   ]
  },
  {
   "cell_type": "code",
   "execution_count": 56,
   "metadata": {},
   "outputs": [
    {
     "name": "stdout",
     "output_type": "stream",
     "text": [
      "+-------------------+----+----+----+---+---+-----+-----+-----+-----+---+---+---+----+---+----+---+---+----+---+---+----+------+----+------+-----------------+-----------------+-------------------+-------------------+----+----+---------+----+----+----+----+----+----+----+---+----+---+----+---+------------------+--------------------+-------+------------------+-------+----+---+-----+---------+----+----+----+----+-----+----+----+----+------+-----+--------------------+-------------------+----+----+----+----+----+-----+-------------------+------------------+------------------+--------+----------+-------+----+------+-----------------+-----------------+---+---+----+-------------------+----+----+----+----+----+----+---+----+----+----+----+-----+-----+---------+---+-------------------+------+-----+-----+------+-----------------+-----------------+----+----+----+----+----+---+------+-----+----+---+----+----+----+----+----+-----+-----+--------------------+--------------------+---------+-----------------+-----------------+-----------------+-----------------+-----------------+------------------+------------------+----+------------------+---+---+----+----+----+------+------------------+-----------------+------+----+----+----+---+-----+-----+----+----+----+----+-----+----+----+------+------+------+------+----+----+--------+--------+--------+--------+---------+----------+--------+------+----+-----+------+------+----+------+-----+------+------+------+------+------+------+-----+-----+\n",
      "|          timestamp|FPAC|BLAC|CTAC| TH| MH|EGT_1|EGT_2|EGT_3|EGT_4|IVV| GS|TRK|TRKM| DA|POVT| WS| MW|DFGS| WD|ALT|NSQT|  RALT|ALTR|FQTY_1|            OIT_1|            OIT_2|               AOA1|               AOA2|PTCH|FF_1|      PSA|FF_2|FF_3|ROLL|FF_4|N1_1|N1_2|MACH|CAS|APFD| PH|CASM|TAS|              VRTG|                LATG|     PI|                PS|   N1_3|EVNT|MRK|VIB_1|       PT|VHF1|VHF2|LGDN|LGUP|VIB_2|VHF3|PUSH|SHKR|MSQT_2|VIB_3|                LONG|              PLA_1|N1_4|HYDY|HYDG|SMOK|CALT|VIB_4|              PLA_2|             PLA_3|             PLA_4|GMT_HOUR|GMT_MINUTE|GMT_SEC|ACMT|FQTY_2|            OIT_3|            OIT_4|BLV|EAI|PACK|               AOAI|AOAC|BAL1|APUF|TOCW|BAL2|WSHR|WOW|N2_1|N2_2|N2_3|N2_4|  TAT|  SAT|      N1T|N1C|               RUDD|FQTY_3|OIP_1|OIP_2|FQTY_4|             CRSS|             HDGS|ALTS|SNAP|CASS|N1CO|VSPS|MNS|MSQT_1|VMODE|LMOD|A_T|CCPC|CCPF|RUDP|CWPC|CWPF|OIP_3|OIP_4|                 LOC|                 GLS|     LONP|             ABRK|            AIL_1|            AIL_2|            SPL_1|            SPL_2|            ELEV_1|            ELEV_2|FLAP|              PTRM|HF1|HF2|SMKB|SPLY|SPLG|BPGR_1|            BPGR_2|           BPYR_1|BPYR_2|TCAS|GPWS|TMAG|TAI|WAI_1|WAI_2|DWPT|OIPL|FADF|FADS|TMODE|ATEN|LATP|FIRE_1|FIRE_2|FIRE_3|FIRE_4|FGC3|ILSF|VAR_1107|VAR_2670|VAR_5107|VAR_6670|DATE_YEAR|DATE_MONTH|DATE_DAY|DVER_1|ACID|ESN_4|ECYC_1|ECYC_2|FRMC|DVER_2|ESN_3|ECYC_3|ECYC_4|EHRS_1|EHRS_4|EHRS_3|EHRS_2|ESN_1|ESN_2|\n",
      "+-------------------+----+----+----+---+---+-----+-----+-----+-----+---+---+---+----+---+----+---+---+----+---+---+----+------+----+------+-----------------+-----------------+-------------------+-------------------+----+----+---------+----+----+----+----+----+----+----+---+----+---+----+---+------------------+--------------------+-------+------------------+-------+----+---+-----+---------+----+----+----+----+-----+----+----+----+------+-----+--------------------+-------------------+----+----+----+----+----+-----+-------------------+------------------+------------------+--------+----------+-------+----+------+-----------------+-----------------+---+---+----+-------------------+----+----+----+----+----+----+---+----+----+----+----+-----+-----+---------+---+-------------------+------+-----+-----+------+-----------------+-----------------+----+----+----+----+----+---+------+-----+----+---+----+----+----+----+----+-----+-----+--------------------+--------------------+---------+-----------------+-----------------+-----------------+-----------------+-----------------+------------------+------------------+----+------------------+---+---+----+----+----+------+------------------+-----------------+------+----+----+----+---+-----+-----+----+----+----+----+-----+----+----+------+------+------+------+----+----+--------+--------+--------+--------+---------+----------+--------+------+----+-----+------+------+----+------+-----+------+------+------+------+------+------+-----+-----+\n",
      "|2001-01-09 20:46:00|   0|   0|   0|  0|  0| 96.0|109.0|129.0|139.0|  0|  0|  0|   0|  0|   0|  0|  0|   1|  0|851|   0|-0.375|  16|  3000|53.22299194335938|    55.9091796875|-2.4169760595703167|-18.632681931152348|   0|   0| 982.4375|   0|   0|   0|   0|1.75|1.75|   0|  0|   0|  2| 300|  0|1.0038571357727049|-0.02513599395751953|    0.0|29.025691986083984|1.78125|   1|  7|    0|982.46875|   1|   1|   0|   1|    0|   1|   1|   1|     0|    0| -1.0832999944686892|-0.7031232617187584| 1.5|   0|   0|   0|   0|  0.0|-0.7910138867187584|1.3183499574661257|-1.933576752929696|      45|       165|     90|  59|     0|49.19369506835938|46.50747680664063|  0|  0|   2|-10.502852524414068|   0|1576|   0|   0|1696|   1|  0|   0|   0|   0| 0.0|34.75|34.25|93.609375|  0|-0.6362152099609375|     0|    0|    0|  3424|4.921839714050293|4.921839714050293| 500|   1| 100|   1|   0|152|     0|    0|   0|  1|2105|2082|1989|2000|2009|    0|  0.0|0.011759999208152294|-3.89995365142836...|0.3515625|             60.0|75.18516540527344|77.68104553222656|72.68864440917969| 74.0538330078125|20.865142822265625| 61.39647674560547| 116|4.7720298767089835|  1|  1|   1|   1|   1|     0| 24.41412353515625|2792.975830078125|     0|   0|   1|   1|  0|    0|    0|   0|   0|  15|  15|    1|   0|   0|     0|     0|     0|     0| 112| 100|     584|    1465|    2632|    3513|     2165|        25|      45|   126| 652| 7876|  8933|  5962|3453|    50| 8095|  6711|  7388|  8600|  7131|  6359|  5633| 7882| 7833|\n",
      "|2001-01-09 20:46:01|   0|   0|   0|  0|  0| 96.0|109.0|128.0|138.5|  0|  0|  0|   0|  0|   0|  0|  0|   1|  0|850|   0|-0.375| -16|  3000|53.22299194335938|57.25228881835938|-2.4169760595703167|-18.588736618652348|   0|   0|982.46875|   0|   0|   0|   0|1.75|1.75|   0|  0|   0|  2| 300|  0|1.0038571357727049|-0.02564394474029541|0.03125|29.024715423583984|1.78125|   1|  7|    0|982.53125|   1|   1|   0|   1|    0|   1|   1|   1|     0|    0| -1.0832999944686892|-0.7031232617187584| 1.5|   0|   0|   0|   0|  0.0|-0.7910138867187584|1.3183499574661257|-1.933576752929696|      45|       165|     90|  59|     0|50.53677368164063|46.50747680664063|  0|  0|   2|-10.546797836914068|   0|1577|   0|   0|1697|   1|  0|   0|   0|   0| 0.0|34.75|34.25|93.609375|  0|-0.6771316528320312|     0|    0|    0|  3424|4.921839714050293|4.921839714050293| 500|   1| 100|   1|   0|152|     0|    0|   0|  1|2105|2083|1988|2000|2009|    0|  0.0|0.003331999992951751|-3.89995365142836...|0.3515625|             60.0|75.16471099853516|77.66058349609375|72.68864440917969| 74.0538330078125| 20.78330993652344| 61.60105514526367| 115|4.7515716552734375|  1|  1|   1|   1|   1|     0| 24.41412353515625|2797.858642578125|     0|   0|   1|   1|  0|    0|    0|   0|   0|  15|  15|    1|   0|   0|     0|     0|     0|     0| 112| 100|     584|    1465|    2632|    3513|     2165|        25|      45|   126| 652| 7876|  8933|  5962|3457|    50| 8095|  6711|  7388|  8600|  7131|  6359|  5633| 7882| 7833|\n",
      "|2001-01-09 20:46:02|   0|   0|   0|  0|  0| 97.0|109.0|128.0|138.5|  0|  0|  0|   0|  0|   0|  0|  0|   1|  0|850|   0|-0.375| -16|  3000|53.22299194335938|57.25228881835938|-2.4169760595703167|-18.588736618652348|   0|   0|982.46875|   0|   0|   0|   0|1.75|1.75|   0|  0|   0|  2| 300|  0|1.0038571357727049|-0.02564394474029541|    0.0|29.025691986083984|1.78125|   1|  7|    0|982.46875|   1|   1|   0|   1|    0|   1|   1|   1|     0|    0|-0.00887989997863...|-0.7031232617187584| 1.5|   0|   0|   0|   0|  0.0|-0.7910138867187584|1.3183499574661257|-1.933576752929696|      45|       165|     90|  59|     0|50.53677368164063|46.50747680664063|  0|  0|   2|-10.502852524414068|   0|1576|   0|   0|1696|   1|  0|   0|   0|   0| 0.0|34.75|34.25|93.609375|  0|-0.6566734313964844|     0|    0|    0|  3424|4.921839714050293|4.921839714050293| 500|   1| 100|   1|   0|152|     0|    0|   0|  1|2108|2092|1989|2000|2009|    0|  0.0| -0.0227359998149872|-3.89995365142836...|0.3515625|             60.0|75.16471099853516|77.68104553222656|72.69825744628906| 74.0538330078125|20.803768157958984| 64.93570709228516| 116|4.7720298767089835|  1|  1|   1|   1|   1|     0| 24.41412353515625|2788.093017578125|     0|   0|   1|   1|  0|    0|    0|   0|   0|  15|  15|    1|   0|   0|     0|     0|     0|     0| 112| 100|     584|    1465|    2632|    3513|     2165|        25|      45|   126| 652| 7876|  8933|  5962|3461|    50| 8095|  6711|  7388|  8600|  7131|  6359|  5633| 7882| 7833|\n",
      "|2001-01-09 20:46:03|   0|   0|   0|  0|  0| 97.0|109.0|128.0|138.5|  0|  0|  0|   0|  0|   0|  0|  0|   1|  0|850|   0|-0.375|   0|  3000|53.22299194335938|57.25228881835938|-2.4169760595703167|-18.588736618652348|   0|   0|982.46875|   0|   0|   0|   0|1.75|1.75|   0|  0|   0|  2| 300|  0| 1.001567840576172|-0.02513599395751953| 0.0625|29.024715423583984|1.78125|   1|  7|    0|982.53125|   1|   1|   0|   1|    0|   1|   1|   1|     0|    0| -1.0832999944686892|-0.7031232617187584| 1.5|   0|   0|   0|   0|  0.0|-0.7910138867187584|1.3183499574661257|-1.933576752929696|      45|       165|     90|  59|     0|50.53677368164063|46.50747680664063|  0|  0|   2|-10.546797836914068|   0|1576|   0|   0|1697|   1|  0|   0|   0|   0| 0.0|34.75|34.25|93.609375|  0|-0.6566734313964844|     0|    0|    0|  3424|4.921839714050293|4.921839714050293| 500|   1| 100|   1|   0|152|     0|    0|   0|  1|2109|2094|1989|2000|2009|    0|  0.0|-0.07565598367881776|-0.08151000955581666|0.3515625|             60.0|75.18516540527344|77.72195434570312|72.69825744628906| 74.0538330078125| 20.82422637939453| 64.79250335693361| 115|4.7720298767089835|  1|  1|   1|   1|   1|     0| 24.41412353515625|2792.975830078125|     0|   0|   1|   1|  0|    0|    0|   0|   0|  15|  15|    1|   0|   0|     0|     0|     0|     0| 112| 100|     584|    1465|    2632|    3513|     2165|        25|      45|   126| 652| 7876|  8933|  5962|3465|    50| 8095|  6711|  7388|  8600|  7131|  6359|  5633| 7882| 7833|\n",
      "|2001-01-09 20:46:04|   0|   0|   0|  0|  0| 96.0|109.0|127.0|137.5|  0|  0|  0|   0|  0|   0|  0|  0|   1|  0|851|   0|-0.375| -48|  3000|53.22299194335938|    55.9091796875|-2.4169760595703167|-18.632681931152348|   0|   0| 982.4375|   0|   0|   0|   0|1.75|1.75|   0|  0|   0|  2| 300|  0| 1.001567840576172|-0.02564394474029541|    0.0|29.024715423583984|1.78125|   1|  7|    0|982.46875|   1|   1|   0|   1|    0|   1|   1|   1|     0|    0| -1.0832999944686892|-0.7031232617187584| 1.5|   0|   0|   0|   0|  0.0|-0.7910138867187584|1.3183499574661257|-1.933576752929696|      45|       165|     90|  59|     0|50.53677368164063|46.50747680664063|  0|  0|   2|-10.502852524414068|   0|1576|   0|   0|1697|   1|  0|   0|   0|   0| 0.0|34.75|34.25|93.609375|  0|-0.6566734313964844|     0|    0|    0|  3424|4.921839714050293|4.921839714050293| 500|   1| 100|   1|   0|152|     0|    0|   0|  1|2110|2095|1989|2000|2009|    0|  0.0|-0.07722397326660158| -0.0842400214958191|0.3515625|             60.0|75.16471099853516|77.72195434570312|72.68864440917969| 74.0538330078125| 20.82422637939453|  64.7515869140625| 116|4.7515716552734375|  1|  1|   1|   1|   1|     0| 24.41412353515625|2802.741455078125|     0|   0|   1|   1|  0|    0|    0|   0|   0|  15|  15|    1|   0|   0|     0|     0|     0|     0| 112| 100|     584|    1465|    2632|    3513|     2165|        25|      45|   126| 652| 7876|  8933|  5962|3469|    50| 8095|  6711|  7388|  8600|  7131|  6359|  5633| 7882| 7833|\n",
      "|2001-01-09 20:46:05|   0|   0|   0|  0|  0| 96.0|109.0|126.5|137.5|  0|  0|  0|   0|  0|   0|  0|  0|   1|  0|850|   0|-0.375| -16|  3000|53.22299194335938|    55.9091796875|-2.4169760595703167|-18.632681931152348|   0|   0|982.46875|   0|   0|   0|   0|1.75|1.75|   0|  0|   0|  2| 300|  0| 1.001567840576172|-0.02513599395751953|    0.0|29.025691986083984|1.78125|   1|  7|    0|    982.5|   1|   1|   0|   1|    0|   1|   1|   1|     0|    0|-0.00786387920379...|-0.7031232617187584| 1.5|   0|   0|   0|   0|  0.0|-0.7910138867187584|1.3183499574661257|-1.933576752929696|      45|       165|     90|  59|     0|50.53677368164063|46.50747680664063|  0|  0|   2|-10.546797836914068|   0|1577|   0|   0|1697|   1|  0|   0|   0|   0| 0.0|34.75|34.25|93.609375|  0|-0.6566734313964844|     0|    0|    0|  3424|4.921839714050293|4.921839714050293| 500|   1| 100|   1|   0|152|     0|    0|   0|  1|2110|2094|1989|1999|2009|    0|  0.0|-0.07663597344589235| -0.0807300231742859|0.3515625|             60.0|75.18516540527344|77.68104553222656|72.68864440917969| 74.0538330078125|20.844684600830078| 64.62883758544922| 116|4.7515716552734375|  1|  1|   1|   1|   1|     0| 24.41412353515625|2802.741455078125|     0|   0|   1|   1|  0|    0|    0|   0|   0|  15|  15|    1|   0|   0|     0|     0|     0|     0| 112| 100|     584|    1465|    2632|    3513|     2165|        25|      45|   126| 652| 7876|  8933|  5962|3473|    50| 8095|  6711|  7388|  8600|  7131|  6359|  5633| 7882| 7833|\n",
      "|2001-01-09 20:46:06|   0|   0|   0|  0|  0| 96.0|108.0|126.5|137.5|  0|  0|  0|   0|  0|   0|  0|  0|   1|  0|851|   0|-0.375|  16|  3000|53.22299194335938|57.25228881835938|-2.4169760595703167|-18.632681931152348|   0|   0| 982.4375|   0|   0|   0|   0|1.75|1.75|   0|  0|   0|  2| 300|  0| 1.001567840576172|-0.02564394474029541|    0.0|29.024715423583984|1.78125|   1|  7|    0|    982.5|   1|   1|   0|   1|    0|   1|   1|   1|     0|    0| -1.0832999944686892|-0.7031232617187584| 1.5|   0|   0|   0|   0|  0.0|-0.7910138867187584|1.2304599285125732|-1.933576752929696|      45|       165|     90|  59|     0|50.53677368164063|46.50747680664063|  0|  0|   2|-10.502852524414068|   0|1576|   0|   0|1697|   1|  0|   0|   0|   0| 0.0|34.75|34.25|93.578125|  0|-0.6566734313964844|     0|    0|    0|  3424|4.921839714050293|4.921839714050293| 500|   1| 100|   1|   0|152|     0|    0|   0|  1|2109|2094|1989|2000|2009|    0|  0.0|-0.00235198616218...|                 0.0|0.3515625|             60.0|75.18516540527344|77.64012145996094|72.69825744628906| 74.0538330078125|20.865142822265625| 64.56746673583984| 116|4.7720298767089835|  1|  1|   1|   1|   1|     0| 24.41412353515625|2797.858642578125|     0|   0|   1|   1|  0|    0|    0|   0|   0|  15|  15|    1|   0|   0|     0|     0|     0|     0| 112| 100|     584|    1465|    2632|    3513|     2165|        25|      45|   126| 652| 7876|  8933|  5962|3477|    50| 8095|  6711|  7388|  8600|  7131|  6359|  5633| 7882| 7833|\n",
      "|2001-01-09 20:46:07|   0|   0|   0|  0|  0| 96.0|108.0|126.5|137.0|  0|  0|  0|   0|  0|   0|  0|  0|   1|  0|850|   0|-0.375|   0|  3000|53.22299194335938|    55.9091796875|-2.4169760595703167|-18.632681931152348|   0|   0|982.46875|   0|   0|   0|   0|1.75|1.75|   0|  0|   0|  2| 300|  0| 1.001567840576172|-0.02564394474029541|    0.0|29.025691986083984|1.78125|   1|  7|    0|982.46875|   1|   1|   0|   1|    0|   1|   1|   1|     0|    0|-0.00837194919586...|-0.7031232617187584| 1.5|   0|   0|   0|   0|  0.0|-0.7910138867187584|1.3183499574661257|-1.933576752929696|      45|       165|     90|  59|     0|50.53677368164063|46.50747680664063|  0|  0|   2|-10.502852524414068|   0|1575|   0|   0|1697|   1|  0|   0|   0|   0| 0.0|34.75|34.25|93.609375|  0|-0.6566734313964844|     0|    0|    0|  3424|4.921839714050293|4.921839714050293| 500|   1| 100|   1|   0|152|     0|    0|   0|  1|2109|2095|1989|2000|2009|    0|  0.0|-0.01058398365211488|                 0.0|0.3515625|             60.0|75.18516540527344|77.66058349609375|72.69825744628906| 74.0538330078125| 20.88560104370117| 64.52655029296875| 115| 4.792488098144531|  1|  1|   1|   1|   1|     0| 24.41412353515625|2788.093017578125|     0|   0|   1|   1|  0|    0|    0|   0|   0|  15|  15|    1|   0|   0|     0|     0|     0|     0| 112| 100|     584|    1465|    2632|    3513|     2165|        25|      45|   126| 652| 7876|  8933|  5962|3481|    50| 8095|  6711|  7388|  8600|  7131|  6359|  5633| 7882| 7833|\n",
      "|2001-01-09 20:46:08|   0|   0|   0|  0|  0| 96.0|108.0|125.5|137.0|  0|  0|  0|   0|  0|   0|  0|  0|   1|  0|850|   0|-0.375|   0|  3000|53.22299194335938|    55.9091796875|-2.4169760595703167|-18.632681931152348|   0|   0|982.46875|   0|   0|   0|   0|1.75|1.75|   0|  0|   0|  2| 300|  0|1.0038571357727049|-0.02513599395751953|0.03125|29.024715423583984|1.78125|   1|  7|    0|    982.5|   1|   1|   0|   1|    0|   1|   1|   1|     0|    0|-0.00837194919586...|-0.7031232617187584| 1.5|   0|   0|   0|   0|  0.0|-0.7910138867187584|1.3183499574661257|-1.933576752929696|      45|       165|     90|  59|     0|49.19369506835938|46.50747680664063|  0|  0|   2|-10.502852524414068|   0|1576|   0|   0|1698|   1|  0|   0|   0|   0| 0.0|34.75|34.25|93.609375|  0|-0.6566734313964844|     0|    0|    0|  3424|4.921839714050293|4.921839714050293| 500|   1| 100|   1|   0|152|     0|    0|   0|  1|2107|2083|1989|2000|2009|    0|  0.0|-0.00431199549865...|                 0.0|0.3515625|             60.0|75.16471099853516|77.64012145996094|72.69825744628906| 74.0538330078125| 20.90605926513672|62.930824279785156| 115|4.7720298767089835|  1|  1|   1|   1|   1|     0| 24.41412353515625|2788.093017578125|     0|   0|   1|   1|  0|    0|    0|   0|   0|  15|  15|    1|   0|   0|     0|     0|     0|     0| 112| 100|     584|    1465|    2632|    3513|     2165|        25|      45|   126| 652| 7876|  8933|  5962|3485|    50| 8095|  6711|  7388|  8600|  7131|  6359|  5633| 7882| 7833|\n",
      "|2001-01-09 20:46:09|   0|   0|   0|  0|  0| 96.0|108.0|125.5|137.0|  0|  0|  0|   0|  0|   0|  0|  0|   1|  0|850|   0|-0.375|   0|  3000|53.22299194335938|    55.9091796875|-2.4169760595703167|-18.588736618652348|   0|   0|982.46875|   0|   0|   0|   0|1.75|1.75|   0|  0|   0|  2| 300|  0| 1.001567840576172|-0.02564394474029541|0.03125|29.026670455932614|1.78125|   1|  7|    0|    982.5|   1|   1|   0|   1|    0|   1|   1|   1|     0|    0|-0.00837194919586...|-0.7031232617187584| 1.5|   0|   0|   0|   0|  0.0|-0.7910138867187584|1.3183499574661257|-1.933576752929696|      45|       165|     90|  59|     0|50.53677368164063|46.50747680664063|  0|  0|   2|-10.546797836914068|   0|1576|   0|   0|1696|   1|  0|   0|   0|   0| 0.0|34.75|34.25|93.609375|  0|-0.6362152099609375|     0|    0|    0|  3424|4.921839714050293|4.921839714050293| 500|   1| 100|   1|   0|152|     0|    0|   0|  1|2106|2082|1989|2000|2009|    0|  0.0|-0.00705598472785...|                 0.0|0.3515625|             60.0|75.18516540527344|77.64012145996094|72.69825744628906|74.06344604492188| 20.90605926513672| 61.39647674560547| 116|4.7720298767089835|  1|  1|   1|   1|   1|     0| 24.41412353515625|2788.093017578125|     0|   0|   1|   1|  0|    0|    0|   0|   0|  15|  15|    1|   0|   0|     0|     0|     0|     0| 112| 100|     584|    1465|    2632|    3513|     2165|        25|      45|   126| 652| 7876|  8933|  5962|3489|    50| 8095|  6711|  7388|  8600|  7131|  6359|  5633| 7882| 7833|\n",
      "|2001-01-09 20:46:10|   0|   0|   0|  0|  0| 96.0|108.0|125.5|137.0|  0|  0|  0|   0|  0|   0|  0|  0|   1|  0|851|   0|-0.375|   0|  3000|53.22299194335938|    55.9091796875|-2.4169760595703167|-18.632681931152348|   0|   0| 982.4375|   0|   0|   0|   0|1.75|1.75|   0|  0|   0|  2| 300|  0|1.0038571357727049|-0.02564394474029541| 0.0625|29.025691986083984|1.78125|   1|  7|    0| 982.5625|   1|   1|   0|   1|    0|   1|   1|   1|     0|    0|-0.00837194919586...|-0.7031232617187584| 1.5|   0|   0|   0|   0|  0.0|-0.7910138867187584|1.3183499574661257|-1.933576752929696|      45|       165|     90|  59|     0|50.53677368164063|46.50747680664063|  0|  0|   2|-10.502852524414068|   0|1576|   0|   0|1697|   1|  0|   0|   0|   0| 0.0|34.75|34.25|93.609375|  0|-0.6566734313964844|     0|    0|    0|  3424|4.921839714050293|4.921839714050293| 500|   1| 100|   1|   0|152|     0|    0|   0|  1|2106|2082|1989|2000|2009|    0|  0.0|-0.01469998239707948|                 0.0|0.3515625|             60.0|75.18516540527344|77.64012145996094|72.69825744628906|74.06344604492188| 20.90605926513672| 61.39647674560547| 116| 4.792488098144531|  1|  1|   1|   1|   1|     0| 24.41412353515625|2788.093017578125|     0|   0|   1|   1|  0|    0|    0|   0|   0|  15|  15|    1|   0|   0|     0|     0|     0|     0| 112| 100|     584|    1465|    2632|    3513|     2165|        25|      45|   126| 652| 7876|  8933|  5962|3493|    50| 8095|  6711|  7388|  8600|  7131|  6359|  5633| 7882| 7833|\n",
      "|2001-01-09 20:46:11|   0|   0|   0|  0|  0| 97.0|108.0|125.5|137.0|  0|  0|  0|   0|  0|   0|  0|  0|   1|  0|850|   0|-0.375| -48|  3000|53.22299194335938|57.25228881835938|-2.4169760595703167|-18.632681931152348|   0|   0|    982.5|   0|   0|   0|   0|1.75|1.75|   0|  0|   0|  2| 300|  0| 1.001567840576172|-0.02513599395751953|    0.0|29.025691986083984|1.78125|   1|  7|    0|982.46875|   1|   1|   0|   1|    0|   1|   1|   1|     0|    0|-0.00887989997863...|-0.7031232617187584| 1.5|   0|   0|   0|   0|  0.0|-0.7910138867187584|1.3183499574661257|-1.933576752929696|      45|       165|     90|  59|     0|50.53677368164063|46.50747680664063|  0|  0|   2|-10.502852524414068|   0|1578|   0|   0|1697|   1|  0|   0|   0|   0| 0.0|34.75|34.25|93.609375|  0|-0.6771316528320312|     0|    0|    0|  3424|4.921839714050293|4.921839714050293| 500|   1| 100|   1|   0|152|     0|    0|   0|  1|2106|2082|1989|2000|2009|    0|  0.0|-0.00313599585723...|                 0.0|0.3515625|             60.0|75.16471099853516|77.64012145996094|72.70787048339844| 74.0538330078125|20.865142822265625| 61.39647674560547| 115|4.7720298767089835|  1|  1|   1|   1|   1|     0| 24.41412353515625|2792.975830078125|     0|   0|   1|   1|  0|    0|    0|   0|   0|  15|  15|    1|   0|   0|     0|     0|     0|     0| 112| 100|     584|    1465|    2632|    3513|     2165|        25|      45|   126| 652| 7876|  8933|  5962|3497|    50| 8095|  6711|  7388|  8600|  7131|  6359|  5633| 7882| 7833|\n",
      "|2001-01-09 20:46:12|   0|   0|   0|  0|  0| 97.0|108.0|126.5|137.0|  0|  0|  0|   0|  0|   0|  0|  0|   1|  0|850|   0|-0.375| -16|  3000|53.22299194335938|    55.9091796875|-2.4169760595703167|-18.632681931152348|   0|   0|982.46875|   0|   0|   0|   0|1.75|1.75|   0|  0|   0|  2| 300|  0|1.0038571357727049|-0.02513599395751953|    0.0|29.026670455932614|1.78125|   1|  7|    0|982.53125|   1|   1|   0|   1|    0|   1|   1|   1|     0|    0|-0.00887989997863...|-0.7031232617187584| 1.5|   0|   0|   0|   0|  0.0|-0.7910138867187584|1.3183499574661257|-1.933576752929696|      45|       165|     90|  59|     0|50.53677368164063|46.50747680664063|  0|  0|   2|-10.502852524414068|   0|1576|   0|   0|1697|   1|  0|   0|   0|   0| 0.0|34.75|34.25|93.609375|  0|-0.6771316528320312|     0|    0|    0|  3424|4.921839714050293|4.921839714050293| 500|   1| 100|   1|   0|152|     0|    0|   0|  1|2106|2082|1988|2000|2009|    0|  0.0|5.879999953322113E-4|                 0.0|0.3515625|             60.0|75.16471099853516|77.66058349609375|72.69825744628906| 74.0538330078125| 20.88560104370117| 61.45784759521485| 115|4.7515716552734375|  1|  1|   1|   1|   1|     0| 24.41412353515625|2792.975830078125|     0|   0|   1|   1|  0|    0|    0|   0|   0|  15|  15|    1|   0|   0|     0|     0|     0|     0| 112| 100|     584|    1465|    2632|    3513|     2165|        25|      45|   126| 652| 7876|  8933|  5962|3501|    50| 8095|  6711|  7388|  8600|  7131|  6359|  5633| 7882| 7833|\n",
      "|2001-01-09 20:46:13|   0|   0|   0|  0|  0| 97.0|108.0|127.0|137.0|  0|  0|  0|   0|  0|   0|  0|  0|   1|  0|850|   0|-0.375|  16|  3000|53.22299194335938|    55.9091796875|-2.4169760595703167|-18.632681931152348|   0|   0|982.46875|   0|   0|   0|   0|1.75|1.75|   0|  0|   0|  2| 300|  0|1.0038571357727049|-0.02513599395751953|    0.0|29.025691986083984|1.78125|   1|  7|    0|982.46875|   1|   1|   0|   1|    0|   1|   1|   1|     0|    0|-0.00938796997070...|-0.7031232617187584| 1.5|   0|   0|   0|   0|  0.0|-0.7910138867187584|1.3183499574661257|-1.933576752929696|      45|       165|     90|  59|     0|50.53677368164063|46.50747680664063|  0|  0|   2|-10.502852524414068|   0|1575|   0|   0|1697|   1|  0|   0|   0|   0| 0.0|34.75|34.25|93.609375|  0|-0.6566734313964844|     0|    0|    0|  3424|4.921839714050293|4.921839714050293| 500|   1| 100|   1|   0|152|     0|    0|   0|  1|2106|2082|1989|2000|2009|    0|  0.0|-0.00215597628784...|                 0.0|0.3515625|             60.0|75.16471099853516|77.68104553222656|72.69825744628906| 74.0538330078125| 20.88560104370117|61.478309631347656| 116|4.7720298767089835|  1|  1|   1|   1|   1|     0| 24.41412353515625|2792.975830078125|     0|   0|   1|   1|  0|    0|    0|   0|   0|  15|  15|    1|   0|   0|     0|     0|     0|     0| 112| 100|     584|    1465|    2632|    3513|     2165|        25|      45|   126| 652| 7876|  8933|  5962|3505|    50| 8095|  6711|  7388|  8600|  7131|  6359|  5633| 7882| 7833|\n",
      "|2001-01-09 20:46:14|   0|   0|   0|  0|  0| 96.0|108.0|128.0|137.0|  0|  0|  0|   0|  0|   0|  0|  0|   1|  0|851|   0|  -0.5|  32|  3000|53.22299194335938|57.25228881835938|-2.4169760595703167|-18.632681931152348|   0|   0|    982.5|   0|   0|   0|   0|1.75|1.75|   0|  0|   0|  2| 300|  0|1.0038571357727049|-0.02564394474029541|0.03125|29.025691986083984|1.78125|   1|  7|    0|    982.5|   1|   1|   0|   1|    0|   1|   1|   1|     0|    0|-0.00887989997863...|-0.7031232617187584| 1.5|   0|   0|   0|   0|  0.0|-0.7910138867187584|1.3183499574661257|-1.933576752929696|      45|       165|     90|  59|     0|50.53677368164063|46.50747680664063|  0|  0|   2|-10.502852524414068|   0|1574|   0|   0|1696|   1|  0|   0|   0|   0| 0.0|34.75|34.25|93.609375|  0|-0.6566734313964844|     0|    0|    0|  3424|4.921839714050293|4.921839714050293| 500|   1| 100|   1|   0|152|     0|    0|   0|  1|2106|2082|1988|2000|2010|    0|  0.0| 1.95999993593432E-4|                 0.0|0.3515625|             60.0|75.16471099853516|77.66058349609375|72.69825744628906| 74.0538330078125| 20.88560104370117| 61.39647674560547| 116|4.7515716552734375|  1|  1|   1|   1|   1|     0| 24.41412353515625|2792.975830078125|     0|   0|   1|   1|  0|    0|    0|   0|   0|  15|  15|    1|   0|   0|     0|     0|     0|     0| 112| 100|     584|    1465|    2632|    3513|     2165|        25|      45|   126| 652| 7876|  8933|  5962|3509|    50| 8095|  6711|  7388|  8600|  7131|  6359|  5633| 7882| 7833|\n",
      "|2001-01-09 20:46:15|   0|   0|   0|  0|  0| 96.0|108.0|128.0|137.0|  0|  0|  0|   0|  0|   0|  0|  0|   1|  0|849|   0|-0.375| -32|  3000|53.22299194335938|57.25228881835938|-2.4169760595703167|-18.632681931152348|   0|   0|982.46875|   0|   0|   0|   0|1.75|1.75|   0|  0|   0|  2| 300|  0| 1.001567840576172|-0.02513599395751953|    0.0|29.026670455932614|1.78125|   1|  7|    0|    982.5|   1|   1|   0|   1|    0|   1|   1|   1|     0|    0|-0.00887989997863...|-0.7031232617187584| 1.5|   0|   0|   0|   0|  0.0|-0.7910138867187584|1.3183499574661257|-1.933576752929696|      45|       165|     90|  59|     0|50.53677368164063|46.50747680664063|  0|  0|   2|-10.502852524414068|   0|1575|   0|   0|1697|   1|  0|   0|   0|   0| 0.0|34.75|34.25|93.609375|  0|-0.6566734313964844|     0|    0|    0|  3424|4.921839714050293|4.921839714050293| 500|   1| 100|   1|   0|152|     0|    0|   0|  1|2106|2082|1988|2000|2009|    0|  0.0|-0.00940798401069...|                 0.0|0.3515625|             60.0|75.16471099853516|77.68104553222656|72.69825744628906| 74.0538330078125| 20.88560104370117|61.478309631347656| 115|4.7720298767089835|  1|  1|   1|   1|   1|     0| 24.41412353515625|2792.975830078125|     0|   0|   1|   1|  0|    0|    0|   0|   0|  15|  15|    1|   0|   0|     0|     0|     0|     0| 112| 100|     584|    1465|    2632|    3513|     2165|        25|      45|   126| 652| 7876|  8933|  5962|3513|    50| 8095|  6711|  7388|  8600|  7131|  6359|  5633| 7882| 7833|\n",
      "|2001-01-09 20:46:16|   0|   0|   0|  0|  0| 95.0|107.0|129.0|137.5|  0|  0|  0|   0|  0|   0|  0|  0|   1|  0|850|   0|-0.375|   0|  3000|53.22299194335938|    55.9091796875|-2.4169760595703167|-18.632681931152348|   0|   0|    982.5|   0|   0|   0|   0|1.75|1.75|   0|  0|   0|  2| 300|  0| 1.001567840576172|-0.02564394474029541|    0.0|29.025691986083984|1.78125|   1|  7|    0|982.46875|   1|   1|   0|   1|    0|   1|   1|   1|     0|    0|-0.00887989997863...|-0.7031232617187584| 1.5|   0|   0|   0|   0|  0.0|-0.7910138867187584|1.3183499574661257|-1.933576752929696|      45|       165|     90|  59|     0|50.53677368164063|46.50747680664063|  0|  0|   2|-10.502852524414068|   0|1576|   0|   0|1696|   1|  0|   0|   0|   0| 0.0|34.75|34.25|     93.0|  0|-0.6566734313964844|     0|    0|    0|  3424|4.921839714050293|4.921839714050293| 500|   1| 100|   1|   0|152|     0|    0|   0|  1|2106|2083|1989|1999|2009|    0|  0.0|-0.01136799334716...|                 0.0|0.3515625|             60.0|75.16471099853516|77.68104553222656|72.70787048339844| 74.0538330078125| 20.82422637939453| 61.64197158813477| 115|4.7515716552734375|  1|  1|   1|   1|   1|     0| 24.41412353515625|2792.975830078125|     0|   0|   1|   1|  0|    0|    0|   0|   0|  15|  15|    1|   0|   0|     0|     0|     0|     0| 112| 100|     584|    1465|    2632|    3513|     2165|        25|      45|   126| 652| 7876|  8933|  5962|3517|    50| 8095|  6711|  7388|  8600|  7131|  6359|  5633| 7882| 7833|\n",
      "|2001-01-09 20:46:17|   0|   0|   0|  0|  0| 95.0|107.0|129.5|138.5|  0|  0|  0|   0|  0|   0|  0|  0|   1|  0|850|   0|-0.375|  16|  3000|53.22299194335938|    55.9091796875|-2.4169760595703167|-18.588736618652348|   0|   0|982.46875|   0|   0|   0|   0|1.75|1.75|   0|  0|   0|  2| 300|  0|1.0038571357727049|-0.02564394474029541|    0.0|29.025691986083984|1.78125|   1|  7|    0|982.46875|   1|   1|   0|   1|    0|   1|   1|   1|     0|    0|-0.00887989997863...|-0.7031232617187584| 1.5|   0|   0|   0|   0|  0.0|-0.7910138867187584|1.3183499574661257|-1.933576752929696|      45|       165|     90|  59|     0|50.53677368164063|46.50747680664063|  0|  0|   2|-10.546797836914068|   0|1576|   0|   0|1698|   1|  0|   0|   0|   0| 0.0|34.75|34.25|     92.0|  0|-0.6566734313964844|     0|    0|    0|  3424|4.921839714050293|4.921839714050293| 500|   1| 100|   1|   0|152|     0|    0|   0|  1|2108|2089|1988|1999|2009|    0|  0.0|-0.00293998598289...|                 0.0|0.3515625|             60.0|75.18516540527344|77.68104553222656|72.69825744628906| 74.0538330078125|20.865142822265625|63.483192443847656| 116|4.7720298767089835|  1|  1|   1|   1|   1|     0| 24.41412353515625|2792.975830078125|     0|   0|   1|   1|  0|    0|    0|   0|   0|  15|  15|    1|   0|   0|     0|     0|     0|     0| 112| 100|     584|    1465|    2632|    3513|     2165|        25|      45|   126| 652| 7876|  8933|  5962|3521|    50| 8095|  6711|  7388|  8600|  7131|  6359|  5633| 7882| 7833|\n",
      "|2001-01-09 20:46:18|   0|   0|   0|  0|  0| 95.0|107.0|129.5|139.0|  0|  0|  0|   0|  0|   0|  0|  0|   1|  0|851|   0|-0.375| -16|  3000|53.22299194335938|    55.9091796875|-2.4169760595703167|-18.588736618652348|   0|   0|    982.5|   0|   0|   0|   0|1.75|1.75|   0|  0|   0|  2| 300|  0| 1.001567840576172|-0.02513599395751953| 0.0625|29.025691986083984|1.78125|   1|  7|    0|982.53125|   1|   1|   0|   1|    0|   1|   1|   1|     0|    0|-0.00887989997863...|-0.7031232617187584| 1.5|   0|   0|   0|   0|  0.0|-0.7910138867187584|1.3183499574661257|-1.933576752929696|      45|       165|     90|  59|     0|49.19369506835938|46.50747680664063|  0|  0|   2|-10.502852524414068|   0|1575|   0|   0|1697|   1|  0|   0|   0|   0| 0.0|34.75|34.25|     91.0|  0|-0.6771316528320312|     0|    0|    0|  3424|4.921839714050293|4.921839714050293| 500|   1| 100|   1|   0|152|     0|    0|   0|  1|2107|2089|1989|2000|2008|    0|  0.0|0.009211999364197254|                 0.0|0.3515625|60.14648056030274|75.12379455566406|77.68104553222656|72.69825744628906| 74.0538330078125|20.865142822265625| 63.21723937988281| 116|4.7515716552734375|  1|  1|   1|   1|   1|     0|19.531299591064453|2788.093017578125|     0|   0|   1|   1|  0|    0|    0|   0|   0|  15|  15|    1|   0|   0|     0|     0|     0|     0| 112| 100|     584|    1465|    2632|    3513|     2165|        25|      45|   126| 652| 7876|  8933|  5962|3525|    50| 8095|  6711|  7388|  8600|  7131|  6359|  5633| 7882| 7833|\n",
      "|2001-01-09 20:46:19|   0|   0|   0|  0|  0| 95.0|107.0|129.5|140.0|  0|  0|  0|   0|  0|   0|  0|  0|   1|  0|851|   0|-0.375|  32|  3000|53.22299194335938|    55.9091796875|-2.4169760595703167|-18.632681931152348|   0|   0|982.46875|   0|   0|   0|   0|1.75|1.75|   0|  0|   0|  2| 300|  0| 1.001567840576172|-0.02615189552307129|0.03125|29.025691986083984|1.78125|   1|  7|    0|    982.5|   1|   1|   0|   1|    0|   1|   1|   1|     0|    0|-0.00837194919586...|-0.7031232617187584| 1.5|   0|   0|   0|   0|  0.0|-0.7910138867187584|1.3183499574661257|-1.933576752929696|      45|       165|     90|  59|     0|50.53677368164063|46.50747680664063|  0|  0|   2|-10.502852524414068|   0|1576|   0|   0|1696|   1|  0|   0|   0|   0| 0.0|34.75|34.25|  90.6875|  0|-0.6771316528320312|     0|    0|    0|  3424|4.921839714050293|4.921839714050293| 500|   1| 100|   1|   0|152|     0|    0|   0|  1|2107|2089|1988|1999|2009|    0|  0.0|-0.00744797467422...|                 0.0|0.3515625|             60.0|75.16471099853516|77.64012145996094|72.69825744628906|74.04421997070312|20.926517486572266| 63.03311538696289| 116|4.7515716552734375|  1|  1|   1|   1|   1|     0| 24.41412353515625|2753.913330078125|     0|   0|   1|   1|  0|    0|    0|   0|   0|  15|  15|    1|   0|   0|     0|     0|     0|     0| 112| 100|     584|    1465|    2632|    3513|     2165|        25|      45|   126| 652| 7876|  8933|  5962|3529|    50| 8095|  6711|  7388|  8600|  7131|  6359|  5633| 7882| 7833|\n",
      "+-------------------+----+----+----+---+---+-----+-----+-----+-----+---+---+---+----+---+----+---+---+----+---+---+----+------+----+------+-----------------+-----------------+-------------------+-------------------+----+----+---------+----+----+----+----+----+----+----+---+----+---+----+---+------------------+--------------------+-------+------------------+-------+----+---+-----+---------+----+----+----+----+-----+----+----+----+------+-----+--------------------+-------------------+----+----+----+----+----+-----+-------------------+------------------+------------------+--------+----------+-------+----+------+-----------------+-----------------+---+---+----+-------------------+----+----+----+----+----+----+---+----+----+----+----+-----+-----+---------+---+-------------------+------+-----+-----+------+-----------------+-----------------+----+----+----+----+----+---+------+-----+----+---+----+----+----+----+----+-----+-----+--------------------+--------------------+---------+-----------------+-----------------+-----------------+-----------------+-----------------+------------------+------------------+----+------------------+---+---+----+----+----+------+------------------+-----------------+------+----+----+----+---+-----+-----+----+----+----+----+-----+----+----+------+------+------+------+----+----+--------+--------+--------+--------+---------+----------+--------+------+----+-----+------+------+----+------+-----+------+------+------+------+------+------+-----+-----+\n",
      "only showing top 20 rows"
     ]
    }
   ],
   "source": [
    "df.show()"
   ]
  },
  {
   "cell_type": "markdown",
   "metadata": {},
   "source": [
    "## Initial Clustering"
   ]
  },
  {
   "cell_type": "code",
   "execution_count": 100,
   "metadata": {},
   "outputs": [],
   "source": [
    "from pyspark.ml.clustering import KMeans\n",
    "from pyspark.ml.feature import MinMaxScaler\n",
    "from pyspark.ml.feature import VectorAssembler\n",
    "from pyspark.ml import Pipeline"
   ]
  },
  {
   "cell_type": "code",
   "execution_count": 60,
   "metadata": {},
   "outputs": [
    {
     "name": "stdout",
     "output_type": "stream",
     "text": [
      "['timestamp', 'FPAC', 'BLAC', 'CTAC', 'TH', 'MH', 'EGT_1', 'EGT_2', 'EGT_3', 'EGT_4', 'IVV', 'GS', 'TRK', 'TRKM', 'DA', 'POVT', 'WS', 'MW', 'DFGS', 'WD', 'ALT', 'NSQT', 'RALT', 'ALTR', 'FQTY_1', 'OIT_1', 'OIT_2', 'AOA1', 'AOA2', 'PTCH', 'FF_1', 'PSA', 'FF_2', 'FF_3', 'ROLL', 'FF_4', 'N1_1', 'N1_2', 'MACH', 'CAS', 'APFD', 'PH', 'CASM', 'TAS', 'VRTG', 'LATG', 'PI', 'PS', 'N1_3', 'EVNT', 'MRK', 'VIB_1', 'PT', 'VHF1', 'VHF2', 'LGDN', 'LGUP', 'VIB_2', 'VHF3', 'PUSH', 'SHKR', 'MSQT_2', 'VIB_3', 'LONG', 'PLA_1', 'N1_4', 'HYDY', 'HYDG', 'SMOK', 'CALT', 'VIB_4', 'PLA_2', 'PLA_3', 'PLA_4', 'GMT_HOUR', 'GMT_MINUTE', 'GMT_SEC', 'ACMT', 'FQTY_2', 'OIT_3', 'OIT_4', 'BLV', 'EAI', 'PACK', 'AOAI', 'AOAC', 'BAL1', 'APUF', 'TOCW', 'BAL2', 'WSHR', 'WOW', 'N2_1', 'N2_2', 'N2_3', 'N2_4', 'TAT', 'SAT', 'N1T', 'N1C', 'RUDD', 'FQTY_3', 'OIP_1', 'OIP_2', 'FQTY_4', 'CRSS', 'HDGS', 'ALTS', 'SNAP', 'CASS', 'N1CO', 'VSPS', 'MNS', 'MSQT_1', 'VMODE', 'LMOD', 'A_T', 'CCPC', 'CCPF', 'RUDP', 'CWPC', 'CWPF', 'OIP_3', 'OIP_4', 'LOC', 'GLS', 'LONP', 'ABRK', 'AIL_1', 'AIL_2', 'SPL_1', 'SPL_2', 'ELEV_1', 'ELEV_2', 'FLAP', 'PTRM', 'HF1', 'HF2', 'SMKB', 'SPLY', 'SPLG', 'BPGR_1', 'BPGR_2', 'BPYR_1', 'BPYR_2', 'TCAS', 'GPWS', 'TMAG', 'TAI', 'WAI_1', 'WAI_2', 'DWPT', 'OIPL', 'FADF', 'FADS', 'TMODE', 'ATEN', 'LATP', 'FIRE_1', 'FIRE_2', 'FIRE_3', 'FIRE_4', 'FGC3', 'ILSF', 'VAR_1107', 'VAR_2670', 'VAR_5107', 'VAR_6670', 'DATE_YEAR', 'DATE_MONTH', 'DATE_DAY', 'DVER_1', 'ACID', 'ESN_4', 'ECYC_1', 'ECYC_2', 'FRMC', 'DVER_2', 'ESN_3', 'ECYC_3', 'ECYC_4', 'EHRS_1', 'EHRS_4', 'EHRS_3', 'EHRS_2', 'ESN_1', 'ESN_2']"
     ]
    }
   ],
   "source": [
    "df.schema.names\n",
    "# df.printSchema()"
   ]
  },
  {
   "cell_type": "code",
   "execution_count": 61,
   "metadata": {},
   "outputs": [
    {
     "name": "stdout",
     "output_type": "stream",
     "text": [
      "['FPAC', 'BLAC', 'CTAC', 'TH', 'MH', 'EGT_1', 'EGT_2', 'EGT_3', 'EGT_4', 'IVV', 'GS', 'TRK', 'TRKM', 'DA', 'POVT', 'WS', 'MW', 'DFGS', 'WD', 'ALT', 'NSQT', 'RALT', 'ALTR', 'FQTY_1', 'OIT_1', 'OIT_2', 'AOA1', 'AOA2', 'PTCH', 'FF_1', 'PSA', 'FF_2', 'FF_3', 'ROLL', 'FF_4', 'N1_1', 'N1_2', 'MACH', 'CAS', 'APFD', 'PH', 'CASM', 'TAS', 'VRTG', 'LATG', 'PI', 'PS', 'N1_3', 'EVNT', 'MRK', 'VIB_1', 'PT', 'VHF1', 'VHF2', 'LGDN', 'LGUP', 'VIB_2', 'VHF3', 'PUSH', 'SHKR', 'MSQT_2', 'VIB_3', 'LONG', 'PLA_1', 'N1_4', 'HYDY', 'HYDG', 'SMOK', 'CALT', 'VIB_4', 'PLA_2', 'PLA_3', 'PLA_4', 'GMT_HOUR', 'GMT_MINUTE', 'GMT_SEC', 'ACMT', 'FQTY_2', 'OIT_3', 'OIT_4', 'BLV', 'EAI', 'PACK', 'AOAI', 'AOAC', 'BAL1', 'APUF', 'TOCW', 'BAL2', 'WSHR', 'WOW', 'N2_1', 'N2_2', 'N2_3', 'N2_4', 'TAT', 'SAT', 'N1T', 'N1C', 'RUDD', 'FQTY_3', 'OIP_1', 'OIP_2', 'FQTY_4', 'CRSS', 'HDGS', 'ALTS', 'SNAP', 'CASS', 'N1CO', 'VSPS', 'MNS', 'MSQT_1', 'VMODE', 'LMOD', 'A_T', 'CCPC', 'CCPF', 'RUDP', 'CWPC', 'CWPF', 'OIP_3', 'OIP_4', 'LOC', 'GLS', 'LONP', 'ABRK', 'AIL_1', 'AIL_2', 'SPL_1', 'SPL_2', 'ELEV_1', 'ELEV_2', 'FLAP', 'PTRM', 'HF1', 'HF2', 'SMKB', 'SPLY', 'SPLG', 'BPGR_1', 'BPGR_2', 'BPYR_1', 'BPYR_2', 'TCAS', 'GPWS', 'TMAG', 'TAI', 'WAI_1', 'WAI_2', 'DWPT', 'OIPL', 'FADF', 'FADS', 'TMODE', 'ATEN', 'LATP', 'FIRE_1', 'FIRE_2', 'FIRE_3', 'FIRE_4', 'FGC3', 'ILSF', 'VAR_1107', 'VAR_2670', 'VAR_5107', 'VAR_6670', 'DATE_YEAR', 'DATE_MONTH', 'DATE_DAY', 'DVER_1', 'ACID', 'ESN_4', 'ECYC_1', 'ECYC_2', 'FRMC', 'DVER_2', 'ESN_3', 'ECYC_3', 'ECYC_4', 'EHRS_1', 'EHRS_4', 'EHRS_3', 'EHRS_2', 'ESN_1', 'ESN_2']"
     ]
    }
   ],
   "source": [
    "df.schema.names[1:]"
   ]
  },
  {
   "cell_type": "code",
   "execution_count": 67,
   "metadata": {},
   "outputs": [
    {
     "name": "stdout",
     "output_type": "stream",
     "text": [
      "[Row(timestamp='2001-01-09 20:46:00', FPAC=0, BLAC=0, CTAC=0, TH=0, MH=0, EGT_1=96.0, EGT_2=109.0, EGT_3=129.0, EGT_4=139.0, IVV=0, GS=0, TRK=0, TRKM=0, DA=0, POVT=0, WS=0, MW=0, DFGS=1, WD=0, ALT=851, NSQT=0, RALT=-0.375, ALTR=16, FQTY_1=3000, OIT_1=53.22299194335938, OIT_2=55.9091796875, AOA1=-2.4169760595703167, AOA2=-18.632681931152348, PTCH=0, FF_1=0, PSA=982.4375, FF_2=0, FF_3=0, ROLL=0, FF_4=0, N1_1=1.75, N1_2=1.75, MACH=0, CAS=0, APFD=0, PH=2, CASM=300, TAS=0, VRTG=1.0038571357727049, LATG=-0.02513599395751953, PI=0.0, PS=29.025691986083984, N1_3=1.78125, EVNT=1, MRK=7, VIB_1=0, PT=982.46875, VHF1=1, VHF2=1, LGDN=0, LGUP=1, VIB_2=0, VHF3=1, PUSH=1, SHKR=1, MSQT_2=0, VIB_3=0, LONG=-1.0832999944686892, PLA_1=-0.7031232617187584, N1_4=1.5, HYDY=0, HYDG=0, SMOK=0, CALT=0, VIB_4=0.0, PLA_2=-0.7910138867187584, PLA_3=1.3183499574661257, PLA_4=-1.933576752929696, GMT_HOUR=45, GMT_MINUTE=165, GMT_SEC=90, ACMT=59, FQTY_2=0, OIT_3=49.19369506835938, OIT_4=46.50747680664063, BLV=0, EAI=0, PACK=2, AOAI=-10.502852524414068, AOAC=0, BAL1=1576, APUF=0, TOCW=0, BAL2=1696, WSHR=1, WOW=0, N2_1=0, N2_2=0, N2_3=0, N2_4=0.0, TAT=34.75, SAT=34.25, N1T=93.609375, N1C=0, RUDD=-0.6362152099609375, FQTY_3=0, OIP_1=0, OIP_2=0, FQTY_4=3424, CRSS=4.921839714050293, HDGS=4.921839714050293, ALTS=500, SNAP=1, CASS=100, N1CO=1, VSPS=0, MNS=152, MSQT_1=0, VMODE=0, LMOD=0, A_T=1, CCPC=2105, CCPF=2082, RUDP=1989, CWPC=2000, CWPF=2009, OIP_3=0, OIP_4=0.0, LOC=0.011759999208152294, GLS=-0.00038999536514283667, LONP=0.3515625, ABRK=60.0, AIL_1=75.18516540527344, AIL_2=77.68104553222656, SPL_1=72.68864440917969, SPL_2=74.0538330078125, ELEV_1=20.865142822265625, ELEV_2=61.39647674560547, FLAP=116, PTRM=4.7720298767089835, HF1=1, HF2=1, SMKB=1, SPLY=1, SPLG=1, BPGR_1=0, BPGR_2=24.41412353515625, BPYR_1=2792.975830078125, BPYR_2=0, TCAS=0, GPWS=1, TMAG=1, TAI=0, WAI_1=0, WAI_2=0, DWPT=0, OIPL=0, FADF=15, FADS=15, TMODE=1, ATEN=0, LATP=0, FIRE_1=0, FIRE_2=0, FIRE_3=0, FIRE_4=0, FGC3=112, ILSF=100, VAR_1107=584, VAR_2670=1465, VAR_5107=2632, VAR_6670=3513, DATE_YEAR=2165, DATE_MONTH=25, DATE_DAY=45, DVER_1=126, ACID=652, ESN_4=7876, ECYC_1=8933, ECYC_2=5962, FRMC=3453, DVER_2=50, ESN_3=8095, ECYC_3=6711, ECYC_4=7388, EHRS_1=8600, EHRS_4=7131, EHRS_3=6359, EHRS_2=5633, ESN_1=7882, ESN_2=7833)]"
     ]
    }
   ],
   "source": [
    "df.take(1)"
   ]
  },
  {
   "cell_type": "code",
   "execution_count": 75,
   "metadata": {},
   "outputs": [
    {
     "name": "stderr",
     "output_type": "stream",
     "text": [
      "An error was encountered:\n",
      "'Column' object is not callable\n",
      "Traceback (most recent call last):\n",
      "TypeError: 'Column' object is not callable\n",
      "\n"
     ]
    }
   ],
   "source": [
    "df[\"FPAC\"].show()"
   ]
  },
  {
   "cell_type": "code",
   "execution_count": 112,
   "metadata": {},
   "outputs": [
    {
     "name": "stdout",
     "output_type": "stream",
     "text": [
      "Process took: 0:00:09.202690"
     ]
    }
   ],
   "source": [
    "started = datetime.datetime.now()\n",
    "\n",
    "assembler = VectorAssembler(inputCols=df.schema.names[1:], outputCol=\"X_vec\")\n",
    "\n",
    "scaler = MinMaxScaler(inputCol=\"X_vec\", outputCol=\"features\")\n",
    "\n",
    "\n",
    "pipeline = Pipeline(stages=[assembler, scaler])\n",
    "scalerModel = pipeline.fit(df)\n",
    "scaledData = scalerModel.transform(df)\n",
    "\n",
    "\n",
    "finished = datetime.datetime.now()\n",
    "elapsed = finished - started\n",
    "print('Process took: {}'.format(elapsed))\n",
    "\n",
    "# Compute summary statistics and generate MinMaxScalerModel\n",
    "# scalerModel = scaler.fit(df)\n",
    "# df = scalerModel.transform(df)"
   ]
  },
  {
   "cell_type": "code",
   "execution_count": 113,
   "metadata": {},
   "outputs": [
    {
     "name": "stdout",
     "output_type": "stream",
     "text": [
      "[Row(timestamp='2001-01-09 20:46:00', FPAC=0, BLAC=0, CTAC=0, TH=0, MH=0, EGT_1=96.0, EGT_2=109.0, EGT_3=129.0, EGT_4=139.0, IVV=0, GS=0, TRK=0, TRKM=0, DA=0, POVT=0, WS=0, MW=0, DFGS=1, WD=0, ALT=851, NSQT=0, RALT=-0.375, ALTR=16, FQTY_1=3000, OIT_1=53.22299194335938, OIT_2=55.9091796875, AOA1=-2.4169760595703167, AOA2=-18.632681931152348, PTCH=0, FF_1=0, PSA=982.4375, FF_2=0, FF_3=0, ROLL=0, FF_4=0, N1_1=1.75, N1_2=1.75, MACH=0, CAS=0, APFD=0, PH=2, CASM=300, TAS=0, VRTG=1.0038571357727049, LATG=-0.02513599395751953, PI=0.0, PS=29.025691986083984, N1_3=1.78125, EVNT=1, MRK=7, VIB_1=0, PT=982.46875, VHF1=1, VHF2=1, LGDN=0, LGUP=1, VIB_2=0, VHF3=1, PUSH=1, SHKR=1, MSQT_2=0, VIB_3=0, LONG=-1.0832999944686892, PLA_1=-0.7031232617187584, N1_4=1.5, HYDY=0, HYDG=0, SMOK=0, CALT=0, VIB_4=0.0, PLA_2=-0.7910138867187584, PLA_3=1.3183499574661257, PLA_4=-1.933576752929696, GMT_HOUR=45, GMT_MINUTE=165, GMT_SEC=90, ACMT=59, FQTY_2=0, OIT_3=49.19369506835938, OIT_4=46.50747680664063, BLV=0, EAI=0, PACK=2, AOAI=-10.502852524414068, AOAC=0, BAL1=1576, APUF=0, TOCW=0, BAL2=1696, WSHR=1, WOW=0, N2_1=0, N2_2=0, N2_3=0, N2_4=0.0, TAT=34.75, SAT=34.25, N1T=93.609375, N1C=0, RUDD=-0.6362152099609375, FQTY_3=0, OIP_1=0, OIP_2=0, FQTY_4=3424, CRSS=4.921839714050293, HDGS=4.921839714050293, ALTS=500, SNAP=1, CASS=100, N1CO=1, VSPS=0, MNS=152, MSQT_1=0, VMODE=0, LMOD=0, A_T=1, CCPC=2105, CCPF=2082, RUDP=1989, CWPC=2000, CWPF=2009, OIP_3=0, OIP_4=0.0, LOC=0.011759999208152294, GLS=-0.00038999536514283667, LONP=0.3515625, ABRK=60.0, AIL_1=75.18516540527344, AIL_2=77.68104553222656, SPL_1=72.68864440917969, SPL_2=74.0538330078125, ELEV_1=20.865142822265625, ELEV_2=61.39647674560547, FLAP=116, PTRM=4.7720298767089835, HF1=1, HF2=1, SMKB=1, SPLY=1, SPLG=1, BPGR_1=0, BPGR_2=24.41412353515625, BPYR_1=2792.975830078125, BPYR_2=0, TCAS=0, GPWS=1, TMAG=1, TAI=0, WAI_1=0, WAI_2=0, DWPT=0, OIPL=0, FADF=15, FADS=15, TMODE=1, ATEN=0, LATP=0, FIRE_1=0, FIRE_2=0, FIRE_3=0, FIRE_4=0, FGC3=112, ILSF=100, VAR_1107=584, VAR_2670=1465, VAR_5107=2632, VAR_6670=3513, DATE_YEAR=2165, DATE_MONTH=25, DATE_DAY=45, DVER_1=126, ACID=652, ESN_4=7876, ECYC_1=8933, ECYC_2=5962, FRMC=3453, DVER_2=50, ESN_3=8095, ECYC_3=6711, ECYC_4=7388, EHRS_1=8600, EHRS_4=7131, EHRS_3=6359, EHRS_2=5633, ESN_1=7882, ESN_2=7833, X_vec=SparseVector(186, {5: 96.0, 6: 109.0, 7: 129.0, 8: 139.0, 17: 1.0, 19: 851.0, 21: -0.375, 22: 16.0, 23: 3000.0, 24: 53.223, 25: 55.9092, 26: -2.417, 27: -18.6327, 30: 982.4375, 35: 1.75, 36: 1.75, 40: 2.0, 41: 300.0, 43: 1.0039, 44: -0.0251, 46: 29.0257, 47: 1.7812, 48: 1.0, 49: 7.0, 51: 982.4688, 52: 1.0, 53: 1.0, 55: 1.0, 57: 1.0, 58: 1.0, 59: 1.0, 62: -1.0833, 63: -0.7031, 64: 1.5, 70: -0.791, 71: 1.3183, 72: -1.9336, 73: 45.0, 74: 165.0, 75: 90.0, 76: 59.0, 78: 49.1937, 79: 46.5075, 82: 2.0, 83: -10.5029, 85: 1576.0, 88: 1696.0, 89: 1.0, 95: 34.75, 96: 34.25, 97: 93.6094, 99: -0.6362, 103: 3424.0, 104: 4.9218, 105: 4.9218, 106: 500.0, 107: 1.0, 108: 100.0, 109: 1.0, 111: 152.0, 115: 1.0, 116: 2105.0, 117: 2082.0, 118: 1989.0, 119: 2000.0, 120: 2009.0, 123: 0.0118, 124: -0.0004, 125: 0.3516, 126: 60.0, 127: 75.1852, 128: 77.681, 129: 72.6886, 130: 74.0538, 131: 20.8651, 132: 61.3965, 133: 116.0, 134: 4.772, 135: 1.0, 136: 1.0, 137: 1.0, 138: 1.0, 139: 1.0, 141: 24.4141, 142: 2792.9758, 145: 1.0, 146: 1.0, 152: 15.0, 153: 15.0, 154: 1.0, 161: 112.0, 162: 100.0, 163: 584.0, 164: 1465.0, 165: 2632.0, 166: 3513.0, 167: 2165.0, 168: 25.0, 169: 45.0, 170: 126.0, 171: 652.0, 172: 7876.0, 173: 8933.0, 174: 5962.0, 175: 3453.0, 176: 50.0, 177: 8095.0, 178: 6711.0, 179: 7388.0, 180: 8600.0, 181: 7131.0, 182: 6359.0, 183: 5633.0, 184: 7882.0, 185: 7833.0}), features=DenseVector([0.5, 0.5, 0.5, 0.5, 0.5, 0.9667, 1.0, 0.8857, 0.0043, 0.5, 0.5, 0.5, 0.5, 0.5, 0.5, 0.5, 0.0, 0.5, 0.5, 0.25, 0.5, 0.5, 0.6154, 1.0, 1.0, 0.997, 0.5, 0.25, 0.5, 0.5, 0.7273, 0.5, 0.5, 0.5, 0.0, 0.5, 0.5, 0.5, 0.5, 0.5, 0.5, 0.5, 0.5, 0.9995, 0.999, 0.0, 0.8999, 0.5, 1.0, 1.0, 0.5, 0.75, 1.0, 1.0, 0.5, 1.0, 0.5, 1.0, 1.0, 1.0, 0.5, 0.5, 0.0, 0.5, 0.0, 0.5, 0.5, 0.5, 0.5, 0.5, 0.6667, 1.0, 0.0, 0.5, 0.5, 0.5, 0.2, 0.5, 0.997, 0.9003, 0.0, 0.0, 0.0, 0.5, 0.5, 0.2, 0.5, 0.5, 0.1, 0.5, 0.5, 0.5, 0.5, 0.5, 0.0, 0.0, 0.0, 1.0, 0.5, 0.9975, 0.5, 0.5, 0.5, 1.0, 0.5, 0.5, 0.5, 0.5, 0.5, 0.5, 0.5, 0.5, 0.5, 0.5, 0.5, 0.5, 0.9339, 0.9421, 0.9995, 0.9995, 0.9995, 0.5, 0.0, 0.9694, 0.7214, 0.5, 0.0, 0.9265, 0.9205, 0.9963, 0.9995, 0.966, 0.32, 1.0, 0.9995, 0.5, 0.5, 0.5, 0.5, 0.5, 0.5, 0.8333, 0.9965, 0.5, 0.5, 0.5, 0.5, 0.5, 0.5, 0.5, 0.5, 0.0, 0.5, 0.5, 0.5, 0.5, 0.5, 0.5, 0.5, 0.5, 0.5, 0.5, 0.5, 0.5, 0.5, 0.5, 0.5, 0.5, 0.5, 0.5, 0.5, 0.5, 0.5, 0.5, 0.5, 0.8436, 0.5, 0.5, 0.5, 0.5, 0.5, 0.5, 0.5, 0.5, 0.5, 0.5]))]"
     ]
    }
   ],
   "source": [
    "scaledData.take(1)"
   ]
  },
  {
   "cell_type": "code",
   "execution_count": 109,
   "metadata": {},
   "outputs": [
    {
     "name": "stdout",
     "output_type": "stream",
     "text": [
      "[Row(X_Transformed=DenseVector([0.5, 0.5, 0.5, 0.5, 0.5, 0.9667, 1.0, 0.8857, 0.0043, 0.5, 0.5, 0.5, 0.5, 0.5, 0.5, 0.5, 0.0, 0.5, 0.5, 0.25, 0.5, 0.5, 0.6154, 1.0, 1.0, 0.997, 0.5, 0.25, 0.5, 0.5, 0.7273, 0.5, 0.5, 0.5, 0.0, 0.5, 0.5, 0.5, 0.5, 0.5, 0.5, 0.5, 0.5, 0.9995, 0.999, 0.0, 0.8999, 0.5, 1.0, 1.0, 0.5, 0.75, 1.0, 1.0, 0.5, 1.0, 0.5, 1.0, 1.0, 1.0, 0.5, 0.5, 0.0, 0.5, 0.0, 0.5, 0.5, 0.5, 0.5, 0.5, 0.6667, 1.0, 0.0, 0.5, 0.5, 0.5, 0.2, 0.5, 0.997, 0.9003, 0.0, 0.0, 0.0, 0.5, 0.5, 0.2, 0.5, 0.5, 0.1, 0.5, 0.5, 0.5, 0.5, 0.5, 0.0, 0.0, 0.0, 1.0, 0.5, 0.9975, 0.5, 0.5, 0.5, 1.0, 0.5, 0.5, 0.5, 0.5, 0.5, 0.5, 0.5, 0.5, 0.5, 0.5, 0.5, 0.5, 0.9339, 0.9421, 0.9995, 0.9995, 0.9995, 0.5, 0.0, 0.9694, 0.7214, 0.5, 0.0, 0.9265, 0.9205, 0.9963, 0.9995, 0.966, 0.32, 1.0, 0.9995, 0.5, 0.5, 0.5, 0.5, 0.5, 0.5, 0.8333, 0.9965, 0.5, 0.5, 0.5, 0.5, 0.5, 0.5, 0.5, 0.5, 0.0, 0.5, 0.5, 0.5, 0.5, 0.5, 0.5, 0.5, 0.5, 0.5, 0.5, 0.5, 0.5, 0.5, 0.5, 0.5, 0.5, 0.5, 0.5, 0.5, 0.5, 0.5, 0.5, 0.5, 0.8436, 0.5, 0.5, 0.5, 0.5, 0.5, 0.5, 0.5, 0.5, 0.5, 0.5]))]"
     ]
    }
   ],
   "source": [
    "scaledData.select('X_Transformed').take(1)"
   ]
  },
  {
   "cell_type": "markdown",
   "metadata": {},
   "source": [
    "## KMeans Initialization"
   ]
  },
  {
   "cell_type": "code",
   "execution_count": 116,
   "metadata": {},
   "outputs": [
    {
     "name": "stdout",
     "output_type": "stream",
     "text": [
      "Silhouette with squared euclidean distance = 0.3954954345939706\n",
      "Within Set Sum of Squared Errors = 1372.8948604032742\n",
      "Cluster Centers: \n",
      "Process took: 0:00:17.127464"
     ]
    }
   ],
   "source": [
    "from pyspark.ml.evaluation import ClusteringEvaluator\n",
    "from pyspark.ml.clustering import KMeans\n",
    "\n",
    "started = datetime.datetime.now()\n",
    "\n",
    "# Trains a k-means model.\n",
    "kmeans = KMeans().setK(20).setSeed(1)\n",
    "model = kmeans.fit(scaledData)\n",
    "\n",
    "# Make predictions\n",
    "predictions = model.transform(scaledData)\n",
    "\n",
    "# Evaluate clustering by computing Silhouette score\n",
    "evaluator = ClusteringEvaluator()\n",
    "\n",
    "silhouette = evaluator.evaluate(predictions)\n",
    "print(\"Silhouette with squared euclidean distance = \" + str(silhouette))\n",
    "\n",
    "\n",
    "# Evaluate clustering.\n",
    "cost = model.computeCost(scaledData)\n",
    "print(\"Within Set Sum of Squared Errors = \" + str(cost))\n",
    "\n",
    "# Shows the result.\n",
    "print(\"Cluster Centers: \")\n",
    "ctr=[]\n",
    "centers = model.clusterCenters()\n",
    "# for center in centers:\n",
    "#     ctr.append(center)\n",
    "#     print(center)\n",
    "\n",
    "finished = datetime.datetime.now()\n",
    "elapsed = finished - started\n",
    "print('Process took: {}'.format(elapsed))"
   ]
  },
  {
   "cell_type": "markdown",
   "metadata": {},
   "source": [
    "## Misc Investigations"
   ]
  },
  {
   "cell_type": "code",
   "execution_count": 76,
   "metadata": {},
   "outputs": [
    {
     "name": "stdout",
     "output_type": "stream",
     "text": [
      "[Row(count(1)=1895)]"
     ]
    }
   ],
   "source": [
    "df.createOrReplaceTempView(\"df\")\n",
    "spark.sql(\"select count(*) from df\").collect()"
   ]
  },
  {
   "cell_type": "code",
   "execution_count": 78,
   "metadata": {},
   "outputs": [
    {
     "name": "stdout",
     "output_type": "stream",
     "text": [
      "[('FPAC', 'bigint')]"
     ]
    }
   ],
   "source": [
    "df.select('FPAC').dtypes"
   ]
  },
  {
   "cell_type": "code",
   "execution_count": 94,
   "metadata": {},
   "outputs": [],
   "source": [
    "from pyspark.sql.types import IntegerType, DoubleType, ShortType, ByteType"
   ]
  },
  {
   "cell_type": "code",
   "execution_count": 95,
   "metadata": {},
   "outputs": [
    {
     "name": "stdout",
     "output_type": "stream",
     "text": [
      "[('FPAC', 'tinyint')]"
     ]
    }
   ],
   "source": [
    "df = df.withColumn(\"FPAC\",df[\"FPAC\"].cast(ByteType()))\n",
    "df.select('FPAC').dtypes"
   ]
  },
  {
   "cell_type": "code",
   "execution_count": null,
   "metadata": {},
   "outputs": [],
   "source": []
  }
 ],
 "metadata": {
  "kernelspec": {
   "display_name": "PySpark",
   "language": "python",
   "name": "pysparkkernel"
  },
  "language_info": {
   "codemirror_mode": {
    "name": "python",
    "version": 3
   },
   "mimetype": "text/x-python",
   "name": "pyspark",
   "pygments_lexer": "python3"
  }
 },
 "nbformat": 4,
 "nbformat_minor": 4
}