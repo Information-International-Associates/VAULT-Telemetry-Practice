{
 "cells": [
  {
   "cell_type": "code",
   "execution_count": 13,
   "metadata": {
    "colab": {
     "base_uri": "https://localhost:8080/",
     "height": 33
    },
    "colab_type": "code",
    "id": "MphZayxBk8o4",
    "outputId": "32e6df4a-0966-4d7b-a545-2cd0d9fe7b00"
   },
   "outputs": [
    {
     "name": "stdout",
     "output_type": "stream",
     "text": [
      "Requirement already satisfied: boto3 in /opt/conda/lib/python3.8/site-packages (1.14.47)\n",
      "Collecting botocore<1.18.0,>=1.17.47\n",
      "  Using cached botocore-1.17.47-py2.py3-none-any.whl (6.5 MB)\n",
      "Requirement already satisfied: s3transfer<0.4.0,>=0.3.0 in /opt/conda/lib/python3.8/site-packages (from boto3) (0.3.3)\n",
      "Requirement already satisfied: jmespath<1.0.0,>=0.7.1 in /opt/conda/lib/python3.8/site-packages (from boto3) (0.10.0)\n",
      "Requirement already satisfied: urllib3<1.26,>=1.20; python_version != \"3.4\" in /opt/conda/lib/python3.8/site-packages (from botocore<1.18.0,>=1.17.47->boto3) (1.25.10)\n",
      "Requirement already satisfied: docutils<0.16,>=0.10 in /opt/conda/lib/python3.8/site-packages (from botocore<1.18.0,>=1.17.47->boto3) (0.15.2)\n",
      "Requirement already satisfied: python-dateutil<3.0.0,>=2.1 in /opt/conda/lib/python3.8/site-packages (from botocore<1.18.0,>=1.17.47->boto3) (2.8.1)\n",
      "Requirement already satisfied: six>=1.5 in /opt/conda/lib/python3.8/site-packages (from python-dateutil<3.0.0,>=2.1->botocore<1.18.0,>=1.17.47->boto3) (1.15.0)\n",
      "Installing collected packages: botocore\n",
      "  Attempting uninstall: botocore\n",
      "    Found existing installation: botocore 1.17.44\n",
      "    Uninstalling botocore-1.17.44:\n",
      "      Successfully uninstalled botocore-1.17.44\n",
      "\u001b[31mERROR: After October 2020 you may experience errors when installing or updating packages. This is because pip will change the way that it resolves dependency conflicts.\n",
      "\n",
      "We recommend you use --use-feature=2020-resolver to test your packages with the new resolver before it becomes the default.\n",
      "\n",
      "aiobotocore 1.1.0 requires botocore<1.17.45,>=1.17.44, but you'll have botocore 1.17.47 which is incompatible.\u001b[0m\n",
      "Successfully installed botocore-1.17.47\n"
     ]
    }
   ],
   "source": [
    "!pip install boto3"
   ]
  },
  {
   "cell_type": "code",
   "execution_count": 12,
   "metadata": {},
   "outputs": [
    {
     "name": "stdout",
     "output_type": "stream",
     "text": [
      "Requirement already satisfied: s3fs in /opt/conda/lib/python3.8/site-packages (0.5.0)\n",
      "Requirement already satisfied: aiobotocore>=1.0.1 in /opt/conda/lib/python3.8/site-packages (from s3fs) (1.1.0)\n",
      "Requirement already satisfied: fsspec>=0.8.0 in /opt/conda/lib/python3.8/site-packages (from s3fs) (0.8.0)\n",
      "Collecting botocore<1.17.45,>=1.17.44\n",
      "  Using cached botocore-1.17.44-py2.py3-none-any.whl (6.5 MB)\n",
      "Requirement already satisfied: aiohttp>=3.3.1 in /opt/conda/lib/python3.8/site-packages (from aiobotocore>=1.0.1->s3fs) (3.6.2)\n",
      "Requirement already satisfied: aioitertools>=0.5.1 in /opt/conda/lib/python3.8/site-packages (from aiobotocore>=1.0.1->s3fs) (0.7.0)\n",
      "Requirement already satisfied: wrapt>=1.10.10 in /opt/conda/lib/python3.8/site-packages (from aiobotocore>=1.0.1->s3fs) (1.12.1)\n",
      "Requirement already satisfied: python-dateutil<3.0.0,>=2.1 in /opt/conda/lib/python3.8/site-packages (from botocore<1.17.45,>=1.17.44->aiobotocore>=1.0.1->s3fs) (2.8.1)\n",
      "Requirement already satisfied: docutils<0.16,>=0.10 in /opt/conda/lib/python3.8/site-packages (from botocore<1.17.45,>=1.17.44->aiobotocore>=1.0.1->s3fs) (0.15.2)\n",
      "Requirement already satisfied: jmespath<1.0.0,>=0.7.1 in /opt/conda/lib/python3.8/site-packages (from botocore<1.17.45,>=1.17.44->aiobotocore>=1.0.1->s3fs) (0.10.0)\n",
      "Requirement already satisfied: urllib3<1.26,>=1.20; python_version != \"3.4\" in /opt/conda/lib/python3.8/site-packages (from botocore<1.17.45,>=1.17.44->aiobotocore>=1.0.1->s3fs) (1.25.10)\n",
      "Requirement already satisfied: yarl<2.0,>=1.0 in /opt/conda/lib/python3.8/site-packages (from aiohttp>=3.3.1->aiobotocore>=1.0.1->s3fs) (1.5.1)\n",
      "Requirement already satisfied: async-timeout<4.0,>=3.0 in /opt/conda/lib/python3.8/site-packages (from aiohttp>=3.3.1->aiobotocore>=1.0.1->s3fs) (3.0.1)\n",
      "Requirement already satisfied: chardet<4.0,>=2.0 in /opt/conda/lib/python3.8/site-packages (from aiohttp>=3.3.1->aiobotocore>=1.0.1->s3fs) (3.0.4)\n",
      "Requirement already satisfied: attrs>=17.3.0 in /opt/conda/lib/python3.8/site-packages (from aiohttp>=3.3.1->aiobotocore>=1.0.1->s3fs) (19.3.0)\n",
      "Requirement already satisfied: multidict<5.0,>=4.5 in /opt/conda/lib/python3.8/site-packages (from aiohttp>=3.3.1->aiobotocore>=1.0.1->s3fs) (4.7.6)\n",
      "Requirement already satisfied: typing_extensions>=3.7 in /opt/conda/lib/python3.8/site-packages (from aioitertools>=0.5.1->aiobotocore>=1.0.1->s3fs) (3.7.4.2)\n",
      "Requirement already satisfied: six>=1.5 in /opt/conda/lib/python3.8/site-packages (from python-dateutil<3.0.0,>=2.1->botocore<1.17.45,>=1.17.44->aiobotocore>=1.0.1->s3fs) (1.15.0)\n",
      "Requirement already satisfied: idna>=2.0 in /opt/conda/lib/python3.8/site-packages (from yarl<2.0,>=1.0->aiohttp>=3.3.1->aiobotocore>=1.0.1->s3fs) (2.10)\n",
      "Installing collected packages: botocore\n",
      "  Attempting uninstall: botocore\n",
      "    Found existing installation: botocore 1.17.47\n",
      "    Uninstalling botocore-1.17.47:\n",
      "      Successfully uninstalled botocore-1.17.47\n",
      "\u001b[31mERROR: After October 2020 you may experience errors when installing or updating packages. This is because pip will change the way that it resolves dependency conflicts.\n",
      "\n",
      "We recommend you use --use-feature=2020-resolver to test your packages with the new resolver before it becomes the default.\n",
      "\n",
      "boto3 1.14.47 requires botocore<1.18.0,>=1.17.47, but you'll have botocore 1.17.44 which is incompatible.\u001b[0m\n",
      "Successfully installed botocore-1.17.44\n"
     ]
    }
   ],
   "source": [
    "!pip install s3fs"
   ]
  },
  {
   "cell_type": "code",
   "execution_count": 96,
   "metadata": {},
   "outputs": [],
   "source": [
    "from scipy import io as sio\n",
    "import numpy as np\n",
    "import csv\n",
    "import matplotlib as mp\n",
    "import matplotlib.pyplot as plt\n",
    "from numpy.lib import recfunctions\n",
    "import datetime\n",
    "import numpy.lib.recfunctions as recfn\n",
    "import pandas as pd\n",
    "import glob\n",
    "import json\n",
    "import s3fs\n",
    "import io\n",
    "import gzip\n",
    "import csv\n",
    "import datetime"
   ]
  },
  {
   "cell_type": "code",
   "execution_count": 97,
   "metadata": {},
   "outputs": [],
   "source": [
    "import boto3\n",
    "s3 = boto3.resource('s3')\n",
    "def s3_bucket_object_keys(bucket_name= 'iiaweb-s3-io-practice-bucket'):\n",
    "    bucket = s3.Bucket(bucket_name)\n",
    "    key_list=[]\n",
    "    for key in bucket.objects.all():\n",
    "        key_list.append(key)\n",
    "    return(key_list)"
   ]
  },
  {
   "cell_type": "code",
   "execution_count": 98,
   "metadata": {},
   "outputs": [],
   "source": [
    "from io import BytesIO\n",
    "def load_mat_file(s3_key, bucketname= 'iiaweb-s3-io-practice-bucket'):\n",
    "    s3 = boto3.resource('s3')\n",
    "    obj = s3.Object(bucketname, s3_key)\n",
    "    inMATFile = obj.get()['Body'].read()\n",
    "    raw_mat = sio.loadmat(BytesIO(inMATFile))\n",
    "    return(raw_mat)"
   ]
  },
  {
   "cell_type": "code",
   "execution_count": 99,
   "metadata": {},
   "outputs": [
    {
     "name": "stdout",
     "output_type": "stream",
     "text": [
      "Time Taken to run the funtion  0:00:16.389294\n"
     ]
    }
   ],
   "source": [
    "start = datetime.datetime.now()\n",
    "csv.gzip_list = s3_bucket_object_keys('iiaweb-s3-io-practice-bucket')\n",
    "end = datetime.datetime.now()\n",
    "print(\"Time Taken to run the funtion \",str(end-start))"
   ]
  },
  {
   "cell_type": "code",
   "execution_count": 100,
   "metadata": {},
   "outputs": [
    {
     "name": "stdout",
     "output_type": "stream",
     "text": [
      "Time Taken to run the funtion  0:00:20.663182\n"
     ]
    }
   ],
   "source": [
    "start = datetime.datetime.now()\n",
    "mat_list = s3_bucket_object_keys('iia-vault-telemetry-practice-unzipped')\n",
    "end = datetime.datetime.now()\n",
    "print(\"Time Taken to run the funtion \",str(end-start))"
   ]
  },
  {
   "cell_type": "code",
   "execution_count": 101,
   "metadata": {},
   "outputs": [
    {
     "data": {
      "text/plain": [
       "s3.ObjectSummary(bucket_name='iia-vault-telemetry-practice-unzipped', key='Flight 652/1/652200101092009.mat')"
      ]
     },
     "execution_count": 101,
     "metadata": {},
     "output_type": "execute_result"
    }
   ],
   "source": [
    "mat_list[0]"
   ]
  },
  {
   "cell_type": "code",
   "execution_count": 131,
   "metadata": {},
   "outputs": [],
   "source": [
    "import pandas as pd\n",
    "out_put = pd.Series(csv.gzip_list)\n",
    "# out_put.columns = 'key_name'\n",
    "in_put = pd.Series(mat_list)"
   ]
  },
  {
   "cell_type": "code",
   "execution_count": 132,
   "metadata": {},
   "outputs": [],
   "source": [
    "def extract_details(x):\n",
    "    key= x.key\n",
    "    try:\n",
    "        flight, folder,filename= key.split('/')\n",
    "        idx= filename.split('.')[0]\n",
    "        return(idx)\n",
    "    except ValueError:\n",
    "        return(key)"
   ]
  },
  {
   "cell_type": "code",
   "execution_count": 133,
   "metadata": {},
   "outputs": [],
   "source": [
    "in_file= in_put.apply(lambda x: extract_details(x))\n",
    "in_put = pd.concat([in_file, in_put], axis=1)\n",
    "in_put.columns = ['flight','S3key']"
   ]
  },
  {
   "cell_type": "code",
   "execution_count": 134,
   "metadata": {},
   "outputs": [],
   "source": [
    "out_file= out_put.apply(lambda x: extract_details(x))\n",
    "out_put = pd.concat([out_file, out_put], axis=1)\n",
    "out_put.columns = ['flight','S3key']"
   ]
  },
  {
   "cell_type": "code",
   "execution_count": 138,
   "metadata": {},
   "outputs": [
    {
     "data": {
      "text/plain": [
       "pandas.core.frame.DataFrame"
      ]
     },
     "execution_count": 138,
     "metadata": {},
     "output_type": "execute_result"
    }
   ],
   "source": [
    "type(out_put)"
   ]
  },
  {
   "cell_type": "code",
   "execution_count": 143,
   "metadata": {},
   "outputs": [],
   "source": [
    "lifecycle= in_put.merge(out_put, on = 'flight', how= 'outer', suffixes=('_mat_in', '_csv_out'))"
   ]
  },
  {
   "cell_type": "code",
   "execution_count": 144,
   "metadata": {},
   "outputs": [
    {
     "data": {
      "text/plain": [
       "(74009, 3)"
      ]
     },
     "execution_count": 144,
     "metadata": {},
     "output_type": "execute_result"
    }
   ],
   "source": [
    "lifecycle.shape"
   ]
  },
  {
   "cell_type": "code",
   "execution_count": 145,
   "metadata": {},
   "outputs": [
    {
     "data": {
      "text/html": [
       "<div>\n",
       "<style scoped>\n",
       "    .dataframe tbody tr th:only-of-type {\n",
       "        vertical-align: middle;\n",
       "    }\n",
       "\n",
       "    .dataframe tbody tr th {\n",
       "        vertical-align: top;\n",
       "    }\n",
       "\n",
       "    .dataframe thead th {\n",
       "        text-align: right;\n",
       "    }\n",
       "</style>\n",
       "<table border=\"1\" class=\"dataframe\">\n",
       "  <thead>\n",
       "    <tr style=\"text-align: right;\">\n",
       "      <th></th>\n",
       "      <th>flight</th>\n",
       "      <th>S3key_mat_in</th>\n",
       "      <th>S3key_csv_out</th>\n",
       "    </tr>\n",
       "  </thead>\n",
       "  <tbody>\n",
       "    <tr>\n",
       "      <th>0</th>\n",
       "      <td>652200101092009</td>\n",
       "      <td>s3.ObjectSummary(bucket_name='iia-vault-teleme...</td>\n",
       "      <td>s3.ObjectSummary(bucket_name='iiaweb-s3-io-pra...</td>\n",
       "    </tr>\n",
       "    <tr>\n",
       "      <th>1</th>\n",
       "      <td>652200101092046</td>\n",
       "      <td>s3.ObjectSummary(bucket_name='iia-vault-teleme...</td>\n",
       "      <td>s3.ObjectSummary(bucket_name='iiaweb-s3-io-pra...</td>\n",
       "    </tr>\n",
       "    <tr>\n",
       "      <th>2</th>\n",
       "      <td>652200101092046</td>\n",
       "      <td>s3.ObjectSummary(bucket_name='iia-vault-teleme...</td>\n",
       "      <td>s3.ObjectSummary(bucket_name='iiaweb-s3-io-pra...</td>\n",
       "    </tr>\n",
       "    <tr>\n",
       "      <th>3</th>\n",
       "      <td>652200101100441</td>\n",
       "      <td>s3.ObjectSummary(bucket_name='iia-vault-teleme...</td>\n",
       "      <td>s3.ObjectSummary(bucket_name='iiaweb-s3-io-pra...</td>\n",
       "    </tr>\n",
       "    <tr>\n",
       "      <th>4</th>\n",
       "      <td>652200101111519</td>\n",
       "      <td>s3.ObjectSummary(bucket_name='iia-vault-teleme...</td>\n",
       "      <td>s3.ObjectSummary(bucket_name='iiaweb-s3-io-pra...</td>\n",
       "    </tr>\n",
       "  </tbody>\n",
       "</table>\n",
       "</div>"
      ],
      "text/plain": [
       "            flight                                       S3key_mat_in  \\\n",
       "0  652200101092009  s3.ObjectSummary(bucket_name='iia-vault-teleme...   \n",
       "1  652200101092046  s3.ObjectSummary(bucket_name='iia-vault-teleme...   \n",
       "2  652200101092046  s3.ObjectSummary(bucket_name='iia-vault-teleme...   \n",
       "3  652200101100441  s3.ObjectSummary(bucket_name='iia-vault-teleme...   \n",
       "4  652200101111519  s3.ObjectSummary(bucket_name='iia-vault-teleme...   \n",
       "\n",
       "                                       S3key_csv_out  \n",
       "0  s3.ObjectSummary(bucket_name='iiaweb-s3-io-pra...  \n",
       "1  s3.ObjectSummary(bucket_name='iiaweb-s3-io-pra...  \n",
       "2  s3.ObjectSummary(bucket_name='iiaweb-s3-io-pra...  \n",
       "3  s3.ObjectSummary(bucket_name='iiaweb-s3-io-pra...  \n",
       "4  s3.ObjectSummary(bucket_name='iiaweb-s3-io-pra...  "
      ]
     },
     "execution_count": 145,
     "metadata": {},
     "output_type": "execute_result"
    }
   ],
   "source": [
    "lifecycle.head()"
   ]
  },
  {
   "cell_type": "code",
   "execution_count": 153,
   "metadata": {},
   "outputs": [
    {
     "data": {
      "text/html": [
       "<div>\n",
       "<style scoped>\n",
       "    .dataframe tbody tr th:only-of-type {\n",
       "        vertical-align: middle;\n",
       "    }\n",
       "\n",
       "    .dataframe tbody tr th {\n",
       "        vertical-align: top;\n",
       "    }\n",
       "\n",
       "    .dataframe thead th {\n",
       "        text-align: right;\n",
       "    }\n",
       "</style>\n",
       "<table border=\"1\" class=\"dataframe\">\n",
       "  <thead>\n",
       "    <tr style=\"text-align: right;\">\n",
       "      <th></th>\n",
       "      <th>flight</th>\n",
       "      <th>S3key_mat_in</th>\n",
       "      <th>S3key_csv_out</th>\n",
       "    </tr>\n",
       "  </thead>\n",
       "  <tbody>\n",
       "    <tr>\n",
       "      <th>0</th>\n",
       "      <td>652200101092009</td>\n",
       "      <td>s3.ObjectSummary(bucket_name='iia-vault-teleme...</td>\n",
       "      <td>s3.ObjectSummary(bucket_name='iiaweb-s3-io-pra...</td>\n",
       "    </tr>\n",
       "    <tr>\n",
       "      <th>1</th>\n",
       "      <td>652200101092046</td>\n",
       "      <td>s3.ObjectSummary(bucket_name='iia-vault-teleme...</td>\n",
       "      <td>s3.ObjectSummary(bucket_name='iiaweb-s3-io-pra...</td>\n",
       "    </tr>\n",
       "    <tr>\n",
       "      <th>2</th>\n",
       "      <td>652200101092046</td>\n",
       "      <td>s3.ObjectSummary(bucket_name='iia-vault-teleme...</td>\n",
       "      <td>s3.ObjectSummary(bucket_name='iiaweb-s3-io-pra...</td>\n",
       "    </tr>\n",
       "    <tr>\n",
       "      <th>3</th>\n",
       "      <td>652200101100441</td>\n",
       "      <td>s3.ObjectSummary(bucket_name='iia-vault-teleme...</td>\n",
       "      <td>s3.ObjectSummary(bucket_name='iiaweb-s3-io-pra...</td>\n",
       "    </tr>\n",
       "    <tr>\n",
       "      <th>4</th>\n",
       "      <td>652200101111519</td>\n",
       "      <td>s3.ObjectSummary(bucket_name='iia-vault-teleme...</td>\n",
       "      <td>s3.ObjectSummary(bucket_name='iiaweb-s3-io-pra...</td>\n",
       "    </tr>\n",
       "    <tr>\n",
       "      <th>...</th>\n",
       "      <td>...</td>\n",
       "      <td>...</td>\n",
       "      <td>...</td>\n",
       "    </tr>\n",
       "    <tr>\n",
       "      <th>4426</th>\n",
       "      <td>652201003150642</td>\n",
       "      <td>s3.ObjectSummary(bucket_name='iia-vault-teleme...</td>\n",
       "      <td>s3.ObjectSummary(bucket_name='iiaweb-s3-io-pra...</td>\n",
       "    </tr>\n",
       "    <tr>\n",
       "      <th>4427</th>\n",
       "      <td>652201003151027</td>\n",
       "      <td>s3.ObjectSummary(bucket_name='iia-vault-teleme...</td>\n",
       "      <td>s3.ObjectSummary(bucket_name='iiaweb-s3-io-pra...</td>\n",
       "    </tr>\n",
       "    <tr>\n",
       "      <th>4428</th>\n",
       "      <td>652201003151332</td>\n",
       "      <td>s3.ObjectSummary(bucket_name='iia-vault-teleme...</td>\n",
       "      <td>s3.ObjectSummary(bucket_name='iiaweb-s3-io-pra...</td>\n",
       "    </tr>\n",
       "    <tr>\n",
       "      <th>4429</th>\n",
       "      <td>652201003151610</td>\n",
       "      <td>s3.ObjectSummary(bucket_name='iia-vault-teleme...</td>\n",
       "      <td>s3.ObjectSummary(bucket_name='iiaweb-s3-io-pra...</td>\n",
       "    </tr>\n",
       "    <tr>\n",
       "      <th>4430</th>\n",
       "      <td>652201003151814</td>\n",
       "      <td>s3.ObjectSummary(bucket_name='iia-vault-teleme...</td>\n",
       "      <td>s3.ObjectSummary(bucket_name='iiaweb-s3-io-pra...</td>\n",
       "    </tr>\n",
       "  </tbody>\n",
       "</table>\n",
       "<p>4431 rows × 3 columns</p>\n",
       "</div>"
      ],
      "text/plain": [
       "               flight                                       S3key_mat_in  \\\n",
       "0     652200101092009  s3.ObjectSummary(bucket_name='iia-vault-teleme...   \n",
       "1     652200101092046  s3.ObjectSummary(bucket_name='iia-vault-teleme...   \n",
       "2     652200101092046  s3.ObjectSummary(bucket_name='iia-vault-teleme...   \n",
       "3     652200101100441  s3.ObjectSummary(bucket_name='iia-vault-teleme...   \n",
       "4     652200101111519  s3.ObjectSummary(bucket_name='iia-vault-teleme...   \n",
       "...               ...                                                ...   \n",
       "4426  652201003150642  s3.ObjectSummary(bucket_name='iia-vault-teleme...   \n",
       "4427  652201003151027  s3.ObjectSummary(bucket_name='iia-vault-teleme...   \n",
       "4428  652201003151332  s3.ObjectSummary(bucket_name='iia-vault-teleme...   \n",
       "4429  652201003151610  s3.ObjectSummary(bucket_name='iia-vault-teleme...   \n",
       "4430  652201003151814  s3.ObjectSummary(bucket_name='iia-vault-teleme...   \n",
       "\n",
       "                                          S3key_csv_out  \n",
       "0     s3.ObjectSummary(bucket_name='iiaweb-s3-io-pra...  \n",
       "1     s3.ObjectSummary(bucket_name='iiaweb-s3-io-pra...  \n",
       "2     s3.ObjectSummary(bucket_name='iiaweb-s3-io-pra...  \n",
       "3     s3.ObjectSummary(bucket_name='iiaweb-s3-io-pra...  \n",
       "4     s3.ObjectSummary(bucket_name='iiaweb-s3-io-pra...  \n",
       "...                                                 ...  \n",
       "4426  s3.ObjectSummary(bucket_name='iiaweb-s3-io-pra...  \n",
       "4427  s3.ObjectSummary(bucket_name='iiaweb-s3-io-pra...  \n",
       "4428  s3.ObjectSummary(bucket_name='iiaweb-s3-io-pra...  \n",
       "4429  s3.ObjectSummary(bucket_name='iiaweb-s3-io-pra...  \n",
       "4430  s3.ObjectSummary(bucket_name='iiaweb-s3-io-pra...  \n",
       "\n",
       "[4431 rows x 3 columns]"
      ]
     },
     "execution_count": 153,
     "metadata": {},
     "output_type": "execute_result"
    }
   ],
   "source": [
    "tailno = '652'\n",
    "idx= lifecycle.flight.str[0:3]== tailno\n",
    "lifecycle.loc[idx]"
   ]
  },
  {
   "cell_type": "code",
   "execution_count": 154,
   "metadata": {},
   "outputs": [],
   "source": [
    "def find_tail(tailno):\n",
    "    idx= lifecycle.flight.str[0:3]== tailno\n",
    "    return(lifecycle.loc[idx])"
   ]
  },
  {
   "cell_type": "code",
   "execution_count": 155,
   "metadata": {},
   "outputs": [],
   "source": [
    "df= find_tail(tailno)"
   ]
  },
  {
   "cell_type": "code",
   "execution_count": null,
   "metadata": {},
   "outputs": [],
   "source": []
  }
 ],
 "metadata": {
  "colab": {
   "collapsed_sections": [],
   "name": "Nasa_Code.ipynb",
   "provenance": []
  },
  "kernelspec": {
   "display_name": "Python 3",
   "language": "python",
   "name": "python3"
  },
  "language_info": {
   "codemirror_mode": {
    "name": "ipython",
    "version": 3
   },
   "file_extension": ".py",
   "mimetype": "text/x-python",
   "name": "python",
   "nbconvert_exporter": "python",
   "pygments_lexer": "ipython3",
   "version": "3.8.5"
  }
 },
 "nbformat": 4,
 "nbformat_minor": 1
}
