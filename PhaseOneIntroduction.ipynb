{
 "cells": [
  {
   "cell_type": "code",
   "execution_count": 3,
   "metadata": {},
   "outputs": [
    {
     "name": "stdout",
     "output_type": "stream",
     "text": [
      "<pyspark.sql.session.SparkSession object at 0x7f7b11602470>"
     ]
    }
   ],
   "source": [
    "spark"
   ]
  },
  {
   "cell_type": "code",
   "execution_count": 4,
   "metadata": {},
   "outputs": [],
   "source": [
    "import boto3\n",
    "import datetime\n",
    "import pandas as pd\n",
    "from hops import hdfs\n",
    "from pyspark.sql import SparkSession\n",
    "from pyspark.sql import Row"
   ]
  },
  {
   "cell_type": "code",
   "execution_count": 5,
   "metadata": {},
   "outputs": [],
   "source": [
    "bucket_name = \"iiaweb-s3-io-practice-bucket\"\n",
    "\n",
    "s3_resource = boto3.resource('s3', region_name='us-east-2')\n",
    "bucket = s3_resource.Bucket(bucket_name)"
   ]
  },
  {
   "cell_type": "markdown",
   "metadata": {},
   "source": [
    "Inspect bucket contents"
   ]
  },
  {
   "cell_type": "code",
   "execution_count": 6,
   "metadata": {},
   "outputs": [
    {
     "name": "stdout",
     "output_type": "stream",
     "text": [
      "59481"
     ]
    }
   ],
   "source": [
    "contents = list(bucket.objects.all())\n",
    "zipped_filekeys = [object.key for object in contents if '.gzip' in object.key]\n",
    "print(len(zipped_filekeys))"
   ]
  },
  {
   "cell_type": "code",
   "execution_count": 7,
   "metadata": {},
   "outputs": [
    {
     "name": "stdout",
     "output_type": "stream",
     "text": [
      "iiaweb-s3-io-practice-bucket 652/1/652200101092009.gzip"
     ]
    }
   ],
   "source": [
    "bucket_name = 'iiaweb-s3-io-practice-bucket'\n",
    "key = '652/1/652200101092009.gzip'\n",
    "print(bucket_name, key)"
   ]
  },
  {
   "cell_type": "code",
   "execution_count": 8,
   "metadata": {},
   "outputs": [
    {
     "name": "stdout",
     "output_type": "stream",
     "text": [
      "Loading file:  652/1/652200101092009.gzip\n",
      "             timestamp  FPAC  BLAC  CTAC  ...  EHRS_3  EHRS_2  ESN_1  ESN_2\n",
      "0  2001-01-09 20:09:00     0     0     0  ...    6359    5633   7882   7833\n",
      "1  2001-01-09 20:09:01     0     0     0  ...    6359    5633   7882   7833\n",
      "2  2001-01-09 20:09:02     0     0     0  ...    6359    5633   7882   7833\n",
      "3  2001-01-09 20:09:03     0     0     0  ...    6359    5633   7882   7833\n",
      "4  2001-01-09 20:09:04     0     0     0  ...    6359    5633   7882   7833\n",
      "\n",
      "[5 rows x 187 columns]"
     ]
    }
   ],
   "source": [
    "s3_client = boto3.client('s3')\n",
    "\n",
    "# key = zipped_filekeys[0]\n",
    "obj = s3_client.get_object(Bucket= bucket_name, Key= key)\n",
    "\n",
    "\n",
    "print(\"Loading file: \", key)\n",
    "pandas_df = pd.read_csv(obj['Body'], compression='gzip')\n",
    "pandas_df.head()"
   ]
  },
  {
   "cell_type": "code",
   "execution_count": 9,
   "metadata": {},
   "outputs": [
    {
     "name": "stdout",
     "output_type": "stream",
     "text": [
      "3943"
     ]
    }
   ],
   "source": [
    "len(pandas_df)"
   ]
  },
  {
   "cell_type": "markdown",
   "metadata": {},
   "source": [
    "## Loading a Zipped CSV From S3 to Spark "
   ]
  },
  {
   "cell_type": "code",
   "execution_count": 10,
   "metadata": {},
   "outputs": [
    {
     "name": "stdout",
     "output_type": "stream",
     "text": [
      "Operation took:  0:00:08.682068"
     ]
    }
   ],
   "source": [
    "#Initialize a Master DF with the first file\n",
    "started = datetime.datetime.now()\n",
    "\n",
    "s3_client = boto3.client('s3')\n",
    "\n",
    "# key = zipped_filekeys[0]\n",
    "\n",
    "obj = s3_client.get_object(Bucket= bucket_name, Key= key)\n",
    "df = spark.createDataFrame(pd.read_csv(obj['Body'], compression='gzip'))\n",
    "\n",
    "finished = datetime.datetime.now()\n",
    "elapsed = finished - started\n",
    "print('Operation took: ', elapsed)"
   ]
  },
  {
   "cell_type": "code",
   "execution_count": 11,
   "metadata": {},
   "outputs": [
    {
     "name": "stdout",
     "output_type": "stream",
     "text": [
      "+-------------------+----+----+----+---+---+-----+-----+-----+-----+---+---+---+----+---+----+---+---+----+---+---+----+----+----+------+-------------+-----------------+-------------------+-------------------+----+----+---------+----+----+----+----+----+----+----+---+----+---+----+---+------------------+-------------------+---+-----------------+-------+----+---+-----+---------+----+----+----+----+-----+----+----+----+------+-----+--------------------+-------------------+-------+----+----+----+----+-----+------------------+------------------+------------------+--------+----------+-------+----+------+-----------------+-------------+---+---+----+-------------------+----+----+----+----+----+----+---+----+----+----+----+-----+-----+---------+---+-------------------+------+-----+-----+------+-----------------+-----------------+----+----+----+----+----+---+------+-----+----+---+----+----+----+----+----+-----+-----+--------------------+---+---------+-------------+-----------------+-----------------+-----------------+-----------------+------------------+-----------------+----+------------------+---+---+----+----+----+------+-----------------+-----------------+------+----+----+----+---+-----+-----+----+----+----+----+-----+----+----+------+------+------+------+----+----+--------+--------+--------+--------+---------+----------+--------+------+----+-----+------+------+----+------+-----+------+------+------+------+------+------+-----+-----+\n",
      "|          timestamp|FPAC|BLAC|CTAC| TH| MH|EGT_1|EGT_2|EGT_3|EGT_4|IVV| GS|TRK|TRKM| DA|POVT| WS| MW|DFGS| WD|ALT|NSQT|RALT|ALTR|FQTY_1|        OIT_1|            OIT_2|               AOA1|               AOA2|PTCH|FF_1|      PSA|FF_2|FF_3|ROLL|FF_4|N1_1|N1_2|MACH|CAS|APFD| PH|CASM|TAS|              VRTG|               LATG| PI|               PS|   N1_3|EVNT|MRK|VIB_1|       PT|VHF1|VHF2|LGDN|LGUP|VIB_2|VHF3|PUSH|SHKR|MSQT_2|VIB_3|                LONG|              PLA_1|   N1_4|HYDY|HYDG|SMOK|CALT|VIB_4|             PLA_2|             PLA_3|             PLA_4|GMT_HOUR|GMT_MINUTE|GMT_SEC|ACMT|FQTY_2|            OIT_3|        OIT_4|BLV|EAI|PACK|               AOAI|AOAC|BAL1|APUF|TOCW|BAL2|WSHR|WOW|N2_1|N2_2|N2_3|N2_4|  TAT|  SAT|      N1T|N1C|               RUDD|FQTY_3|OIP_1|OIP_2|FQTY_4|             CRSS|             HDGS|ALTS|SNAP|CASS|N1CO|VSPS|MNS|MSQT_1|VMODE|LMOD|A_T|CCPC|CCPF|RUDP|CWPC|CWPF|OIP_3|OIP_4|                 LOC|GLS|     LONP|         ABRK|            AIL_1|            AIL_2|            SPL_1|            SPL_2|            ELEV_1|           ELEV_2|FLAP|              PTRM|HF1|HF2|SMKB|SPLY|SPLG|BPGR_1|           BPGR_2|           BPYR_1|BPYR_2|TCAS|GPWS|TMAG|TAI|WAI_1|WAI_2|DWPT|OIPL|FADF|FADS|TMODE|ATEN|LATP|FIRE_1|FIRE_2|FIRE_3|FIRE_4|FGC3|ILSF|VAR_1107|VAR_2670|VAR_5107|VAR_6670|DATE_YEAR|DATE_MONTH|DATE_DAY|DVER_1|ACID|ESN_4|ECYC_1|ECYC_2|FRMC|DVER_2|ESN_3|ECYC_3|ECYC_4|EHRS_1|EHRS_4|EHRS_3|EHRS_2|ESN_1|ESN_2|\n",
      "+-------------------+----+----+----+---+---+-----+-----+-----+-----+---+---+---+----+---+----+---+---+----+---+---+----+----+----+------+-------------+-----------------+-------------------+-------------------+----+----+---------+----+----+----+----+----+----+----+---+----+---+----+---+------------------+-------------------+---+-----------------+-------+----+---+-----+---------+----+----+----+----+-----+----+----+----+------+-----+--------------------+-------------------+-------+----+----+----+----+-----+------------------+------------------+------------------+--------+----------+-------+----+------+-----------------+-------------+---+---+----+-------------------+----+----+----+----+----+----+---+----+----+----+----+-----+-----+---------+---+-------------------+------+-----+-----+------+-----------------+-----------------+----+----+----+----+----+---+------+-----+----+---+----+----+----+----+----+-----+-----+--------------------+---+---------+-------------+-----------------+-----------------+-----------------+-----------------+------------------+-----------------+----+------------------+---+---+----+----+----+------+-----------------+-----------------+------+----+----+----+---+-----+-----+----+----+----+----+-----+----+----+------+------+------+------+----+----+--------+--------+--------+--------+---------+----------+--------+------+----+-----+------+------+----+------+-----+------+------+------+------+------+------+-----+-----+\n",
      "|2001-01-09 20:09:00|   0|   0|   0|  0|  0| 30.5| 29.5| 31.0| 30.5|  0|  0|  0|   0|  0|   0|  0|  0|   1|  0|843|   0|-0.5|  16|  3288|43.8212890625|42.47817993164063|-2.4169760595703167|-18.632681931152348|   0|   0|   982.75|   0|   0|   0|   0|1.75|1.75|   0|  0|   0|  1| 300|  0|1.0038571357727049|-0.0246279239654541|0.0|29.03350830078125|1.78125|   1|  7|  0.0|982.71875|   1|   1|   0|   1|  0.0|   1|   1|   1|     0|  0.0|-0.00837194919586...|-1.0546857617187584|1.46875|   0|   0|   0|   0|    0|-1.669904877929696|1.1425700187683103|-1.933576752929696|      45|       165|     90|  59|     0|42.47817993164063|43.8212890625|  0|  0|   0|-10.502852524414068|   0|1568|   0|   0|1689|   1|  0| 0.0| 0.0| 0.0| 0.0|37.25|36.75|90.234375|  0|-0.7794227600097656|     0|  0.0|  0.0|  3472|4.921839714050293|4.921839714050293| 500|   1| 100|   1|   0|152|     0|    0|   0|  1|2107|2081|1988|2001|2007|  0.0|  0.0|-0.00215597628784...|0.0|0.3515625| 60.029296875|74.48959350585938|77.27188110351562|   71.98681640625|73.98652648925781|21.519798278808594|61.80563354492188| 115|4.7720298767089835|  1|  1|   1|   1|   1|     0|24.41412353515625|2753.913330078125|   0.0|   0|   1|   1|  0|    0|    0|   0|   0|  15|  15|    1|   0|   0|     0|     0|     0|     0| 112| 100|     584|    1465|    2632|    3513|     2165|        25|      45|   126| 652| 7876|  8933|  5962|1229|    50| 8095|  6711|  7388|  8600|  7131|  6359|  5633| 7882| 7833|\n",
      "|2001-01-09 20:09:01|   0|   0|   0|  0|  0| 30.5| 29.5| 31.0| 30.5|  0|  0|  0|   0|  0|   0|  0|  0|   1|  0|843|   0|-0.5|  32|  3288|43.8212890625|42.47817993164063|-2.4169760595703167|-18.632681931152348|   0|   0|   982.75|   0|   0|   0|   0|1.75|1.75|   0|  0|   0|  1| 300|  0|1.0038571357727049|-0.0246279239654541|0.0|29.03350830078125|1.78125|   1|  7|  0.0|   982.75|   1|   1|   0|   1|  0.0|   1|   1|   1|     0|  0.0|-0.00837194919586...|-1.0546857617187584|1.46875|   0|   0|   0|   0|    0|-1.669904877929696|1.1425700187683103|-1.933576752929696|      45|       165|     90|  59|     0|42.47817993164063|43.8212890625|  0|  0|   0|-10.546797836914068|   0|1568|   0|   0|1689|   1|  0| 0.0| 0.0| 0.0| 0.0|37.25|36.75|90.234375|  0|-0.7589645385742188|     0|  0.0|  0.0|  3472|4.921839714050293|4.921839714050293| 500|   1| 100|   1|   0|152|     0|    0|   0|  1|2107|2082|1988|2001|2007|  0.0|  0.0|-0.00215597628784...|0.0|0.3515625|60.0439453125|74.48959350585938|77.29234313964844|72.01566314697266|73.98652648925781|21.519798278808594| 61.7442626953125| 116|4.7720298767089835|  1|  1|   1|   1|   1|     0|24.41412353515625|2753.913330078125|   0.0|   0|   1|   1|  0|    0|    0|   0|   0|  15|  15|    1|   0|   0|     0|     0|     0|     0| 112| 100|     584|    1465|    2632|    3513|     2165|        25|      45|   126| 652| 7876|  8933|  5962|1233|    50| 8095|  6711|  7388|  8600|  7131|  6359|  5633| 7882| 7833|\n",
      "|2001-01-09 20:09:02|   0|   0|   0|  0|  0| 30.5| 29.5| 31.0| 30.5|  0|  0|  0|   0|  0|   0|  0|  0|   1|  0|844|   0|-0.5|  32|  3288|43.8212890625|42.47817993164063|-2.4169760595703167|-18.632681931152348|   0|   0|982.71875|   0|   0|   0|   0|1.75|1.75|   0|  0|   0|  1| 300|  0|1.0038571357727049|-0.0246279239654541|0.0|29.03350830078125|1.78125|   1|  7|  0.0|   982.75|   1|   1|   0|   1|  0.0|   1|   1|   1|     0|  0.0|-0.00887989997863...|-1.0546857617187584|1.46875|   0|   0|   0|   0|    0|-1.669904877929696|0.9667899608612059|-1.933576752929696|      45|       165|     90|  59|     0|41.13507080078125|43.8212890625|  0|  0|   0|-10.546797836914068|   0|1568|   0|   0|1688|   1|  0| 0.0| 0.0| 0.0| 0.0|37.25|36.75|90.234375|  0|-0.7589645385742188|     0|  0.0|  0.0|  3472|4.921839714050293|4.921839714050293| 500|   1| 100|   1|   0|152|     0|    0|   0|  1|2107|2081|1988|2001|2007|  0.0|  0.0|-0.00215597628784...|0.0|0.3515625|  60.05859375|74.46913146972656|77.29234313964844|72.00604248046875|73.98652648925781| 21.54025650024414| 61.7851791381836| 115|4.7720298767089835|  1|  1|   1|   1|   1|     0|24.41412353515625|2758.796142578125|   0.0|   0|   1|   1|  0|    0|    0|   0|   0|  15|  15|    1|   0|   0|     0|     0|     0|     0| 112| 100|     584|    1465|    2632|    3513|     2165|        25|      45|   126| 652| 7876|  8933|  5962|1237|    50| 8095|  6711|  7388|  8600|  7131|  6359|  5633| 7882| 7833|\n",
      "|2001-01-09 20:09:03|   0|   0|   0|  0|  0| 30.5| 29.5| 31.0| 30.5|  0|  0|  0|   0|  0|   0|  0|  0|   1|  0|842|   0|-0.5| -16|  3288|43.8212890625|42.47817993164063|-2.4169760595703167|-18.632681931152348|   0|   0|982.71875|   0|   0|   0|   0|1.75|1.75|   0|  0|   0|  1| 300|  0|1.0038571357727049|-0.0246279239654541|0.0|29.03253173828125|1.78125|   1|  7|  0.0|   982.75|   1|   1|   0|   1|  0.0|   1|   1|   1|     0|  0.0|-0.00786387920379...|-1.0546857617187584|1.46875|   0|   0|   0|   0|    0|-1.669904877929696|1.1425700187683103|-1.933576752929696|      45|       165|     90|  59|     0|41.13507080078125|43.8212890625|  0|  0|   0|-10.502852524414068|   0|1568|   0|   0|1689|   1|  0| 0.0| 0.0| 0.0| 0.0|37.25|36.75|90.234375|  0|-0.7794227600097656|     0|  0.0|  0.0|  3472|4.921839714050293|4.921839714050293| 500|   1| 100|   1|   0|152|     0|    0|   0|  1|2107|2081|1988|2001|2007|  0.0|  0.0|-0.01038797377777...|0.0|0.3515625|60.0146484375|74.46913146972656|77.29234313964844|71.97720336914062|73.99614715576172| 21.54025650024414|61.76471710205078| 116|4.7720298767089835|  1|  1|   1|   1|   1|     0|24.41412353515625|2753.913330078125|   0.0|   0|   1|   1|  0|    0|    0|   0|   0|  15|  15|    1|   0|   0|     0|     0|     0|     0| 112| 100|     584|    1465|    2632|    3513|     2165|        25|      45|   126| 652| 7876|  8933|  5962|1241|    50| 8095|  6711|  7388|  8600|  7131|  6359|  5633| 7882| 7833|\n",
      "|2001-01-09 20:09:04|   0|   0|   0|  0|  0| 30.5| 29.5| 31.0| 30.5|  0|  0|  0|   0|  0|   0|  0|  0|   1|  0|842|   0|-0.5| -16|  3288|43.8212890625|42.47817993164063|-2.3730307470703167|-18.632681931152348|   0|   0|982.71875|   0|   0|   0|   0|1.75|1.75|   0|  0|   0|  1| 300|  0|1.0038571357727049|-0.0246279239654541|0.0|29.03253173828125|1.78125|   1|  7|  0.0|   982.75|   1|   1|   0|   1|  0.0|   1|   1|   1|     0|  0.0|-0.00837194919586...|-1.0546857617187584|1.46875|   0|   0|   0|   0|    0|-1.669904877929696|1.1425700187683103|-1.933576752929696|      45|       165|     90|  59|     0|42.47817993164063|43.8212890625|  0|  0|   0|-10.546797836914068|   0|1567|   0|   0|1689|   1|  0| 0.0| 0.0| 0.0| 0.0|37.25|36.75|90.234375|  0|-0.7794227600097656|     0|  0.0|  0.0|  3472|4.921839714050293|4.921839714050293| 500|   1| 100|   1|   0|152|     0|    0|   0|  1|2107|2081|1989|2001|2008|  0.0|  0.0|-9.79976646423352...|0.0|0.3515625|60.0439453125|74.46913146972656|77.27188110351562|71.96759033203125|73.98652648925781|21.519798278808594|61.76471710205078| 115|4.7720298767089835|  1|  1|   1|   1|   1|     0|29.29694938659668|2753.913330078125|   0.0|   0|   1|   1|  0|    0|    0|   0|   0|  15|  15|    1|   0|   0|     0|     0|     0|     0| 112| 100|     584|    1465|    2632|    3513|     2165|        25|      45|   126| 652| 7876|  8933|  5962|1245|    50| 8095|  6711|  7388|  8600|  7131|  6359|  5633| 7882| 7833|\n",
      "+-------------------+----+----+----+---+---+-----+-----+-----+-----+---+---+---+----+---+----+---+---+----+---+---+----+----+----+------+-------------+-----------------+-------------------+-------------------+----+----+---------+----+----+----+----+----+----+----+---+----+---+----+---+------------------+-------------------+---+-----------------+-------+----+---+-----+---------+----+----+----+----+-----+----+----+----+------+-----+--------------------+-------------------+-------+----+----+----+----+-----+------------------+------------------+------------------+--------+----------+-------+----+------+-----------------+-------------+---+---+----+-------------------+----+----+----+----+----+----+---+----+----+----+----+-----+-----+---------+---+-------------------+------+-----+-----+------+-----------------+-----------------+----+----+----+----+----+---+------+-----+----+---+----+----+----+----+----+-----+-----+--------------------+---+---------+-------------+-----------------+-----------------+-----------------+-----------------+------------------+-----------------+----+------------------+---+---+----+----+----+------+-----------------+-----------------+------+----+----+----+---+-----+-----+----+----+----+----+-----+----+----+------+------+------+------+----+----+--------+--------+--------+--------+---------+----------+--------+------+----+-----+------+------+----+------+-----+------+------+------+------+------+------+-----+-----+\n",
      "only showing top 5 rows"
     ]
    }
   ],
   "source": [
    "df.show(5)"
   ]
  },
  {
   "cell_type": "markdown",
   "metadata": {},
   "source": [
    "## Hive"
   ]
  },
  {
   "cell_type": "code",
   "execution_count": 23,
   "metadata": {},
   "outputs": [],
   "source": [
    "from hops import hdfs as hopsfs\n",
    "PROJECT_NAME = hopsfs.project_name()"
   ]
  },
  {
   "cell_type": "code",
   "execution_count": 24,
   "metadata": {},
   "outputs": [
    {
     "name": "stdout",
     "output_type": "stream",
     "text": [
      "'MattTest'"
     ]
    }
   ],
   "source": [
    "PROJECT_NAME"
   ]
  },
  {
   "cell_type": "markdown",
   "metadata": {},
   "source": [
    "## Show Tables"
   ]
  },
  {
   "cell_type": "code",
   "execution_count": 25,
   "metadata": {},
   "outputs": [
    {
     "name": "stdout",
     "output_type": "stream",
     "text": [
      "+--------+-------------+-----------+\n",
      "|database|    tableName|isTemporary|\n",
      "+--------+-------------+-----------+\n",
      "|matttest|nasa_dashlink|      false|\n",
      "+--------+-------------+-----------+"
     ]
    }
   ],
   "source": [
    "spark.sql(\"show tables\").show()"
   ]
  },
  {
   "cell_type": "markdown",
   "metadata": {},
   "source": [
    "## Create Initial Table\n",
    "\n",
    "In order to save to an HDFS Hive Table, you must first use the command `spark.sql(\"USE [project_name])`"
   ]
  },
  {
   "cell_type": "code",
   "execution_count": 12,
   "metadata": {},
   "outputs": [
    {
     "name": "stdout",
     "output_type": "stream",
     "text": [
      "DataFrame[]"
     ]
    }
   ],
   "source": [
    "spark.sql(\"USE MattTest\")"
   ]
  },
  {
   "cell_type": "code",
   "execution_count": 13,
   "metadata": {},
   "outputs": [],
   "source": [
    "df.write.format(\"ORC\").mode(\"overwrite\").saveAsTable(\"NASA_Dashlink\")"
   ]
  },
  {
   "cell_type": "markdown",
   "metadata": {},
   "source": [
    "## Preview Data"
   ]
  },
  {
   "cell_type": "code",
   "execution_count": 14,
   "metadata": {},
   "outputs": [
    {
     "name": "stdout",
     "output_type": "stream",
     "text": [
      "+--------+\n",
      "|count(1)|\n",
      "+--------+\n",
      "|    3943|\n",
      "+--------+"
     ]
    }
   ],
   "source": [
    "spark.sql(\"Select count(*) from nasa_dashlink\").show()"
   ]
  },
  {
   "cell_type": "code",
   "execution_count": 15,
   "metadata": {},
   "outputs": [
    {
     "name": "stdout",
     "output_type": "stream",
     "text": [
      "+-------------------+----+----+----+---+---+-----+-----+-----+-----+---+---+---+----+---+----+---+---+----+---+---+----+----+----+------+-------------+-----------------+-------------------+-------------------+----+----+------+----+----+----+----+----+----+----+---+----+---+----+---+------------------+-------------------+---+-----------------+-------+----+---+-----+---------+----+----+----+----+-----+----+----+----+------+-----+--------------------+-------------------+-------+----+----+----+----+-----+------------------+------------------+------------------+--------+----------+-------+----+------+-----------------+-------------+---+---+----+-------------------+----+----+----+----+----+----+---+----+----+----+----+-----+-----+---------+---+-------------------+------+-----+-----+------+-----------------+-----------------+----+----+----+----+----+---+------+-----+----+---+----+----+----+----+----+-----+-----+--------------------+---+---------+-------------+-----------------+-----------------+-----------------+-----------------+------------------+-----------------+----+------------------+---+---+----+----+----+------+-----------------+-----------------+------+----+----+----+---+-----+-----+----+----+----+----+-----+----+----+------+------+------+------+----+----+--------+--------+--------+--------+---------+----------+--------+------+----+-----+------+------+----+------+-----+------+------+------+------+------+------+-----+-----+\n",
      "|          timestamp|FPAC|BLAC|CTAC| TH| MH|EGT_1|EGT_2|EGT_3|EGT_4|IVV| GS|TRK|TRKM| DA|POVT| WS| MW|DFGS| WD|ALT|NSQT|RALT|ALTR|FQTY_1|        OIT_1|            OIT_2|               AOA1|               AOA2|PTCH|FF_1|   PSA|FF_2|FF_3|ROLL|FF_4|N1_1|N1_2|MACH|CAS|APFD| PH|CASM|TAS|              VRTG|               LATG| PI|               PS|   N1_3|EVNT|MRK|VIB_1|       PT|VHF1|VHF2|LGDN|LGUP|VIB_2|VHF3|PUSH|SHKR|MSQT_2|VIB_3|                LONG|              PLA_1|   N1_4|HYDY|HYDG|SMOK|CALT|VIB_4|             PLA_2|             PLA_3|             PLA_4|GMT_HOUR|GMT_MINUTE|GMT_SEC|ACMT|FQTY_2|            OIT_3|        OIT_4|BLV|EAI|PACK|               AOAI|AOAC|BAL1|APUF|TOCW|BAL2|WSHR|WOW|N2_1|N2_2|N2_3|N2_4|  TAT|  SAT|      N1T|N1C|               RUDD|FQTY_3|OIP_1|OIP_2|FQTY_4|             CRSS|             HDGS|ALTS|SNAP|CASS|N1CO|VSPS|MNS|MSQT_1|VMODE|LMOD|A_T|CCPC|CCPF|RUDP|CWPC|CWPF|OIP_3|OIP_4|                 LOC|GLS|     LONP|         ABRK|            AIL_1|            AIL_2|            SPL_1|            SPL_2|            ELEV_1|           ELEV_2|FLAP|              PTRM|HF1|HF2|SMKB|SPLY|SPLG|BPGR_1|           BPGR_2|           BPYR_1|BPYR_2|TCAS|GPWS|TMAG|TAI|WAI_1|WAI_2|DWPT|OIPL|FADF|FADS|TMODE|ATEN|LATP|FIRE_1|FIRE_2|FIRE_3|FIRE_4|FGC3|ILSF|VAR_1107|VAR_2670|VAR_5107|VAR_6670|DATE_YEAR|DATE_MONTH|DATE_DAY|DVER_1|ACID|ESN_4|ECYC_1|ECYC_2|FRMC|DVER_2|ESN_3|ECYC_3|ECYC_4|EHRS_1|EHRS_4|EHRS_3|EHRS_2|ESN_1|ESN_2|\n",
      "+-------------------+----+----+----+---+---+-----+-----+-----+-----+---+---+---+----+---+----+---+---+----+---+---+----+----+----+------+-------------+-----------------+-------------------+-------------------+----+----+------+----+----+----+----+----+----+----+---+----+---+----+---+------------------+-------------------+---+-----------------+-------+----+---+-----+---------+----+----+----+----+-----+----+----+----+------+-----+--------------------+-------------------+-------+----+----+----+----+-----+------------------+------------------+------------------+--------+----------+-------+----+------+-----------------+-------------+---+---+----+-------------------+----+----+----+----+----+----+---+----+----+----+----+-----+-----+---------+---+-------------------+------+-----+-----+------+-----------------+-----------------+----+----+----+----+----+---+------+-----+----+---+----+----+----+----+----+-----+-----+--------------------+---+---------+-------------+-----------------+-----------------+-----------------+-----------------+------------------+-----------------+----+------------------+---+---+----+----+----+------+-----------------+-----------------+------+----+----+----+---+-----+-----+----+----+----+----+-----+----+----+------+------+------+------+----+----+--------+--------+--------+--------+---------+----------+--------+------+----+-----+------+------+----+------+-----+------+------+------+------+------+------+-----+-----+\n",
      "|2001-01-09 20:09:00|   0|   0|   0|  0|  0| 30.5| 29.5| 31.0| 30.5|  0|  0|  0|   0|  0|   0|  0|  0|   1|  0|843|   0|-0.5|  16|  3288|43.8212890625|42.47817993164063|-2.4169760595703167|-18.632681931152348|   0|   0|982.75|   0|   0|   0|   0|1.75|1.75|   0|  0|   0|  1| 300|  0|1.0038571357727049|-0.0246279239654541|0.0|29.03350830078125|1.78125|   1|  7|  0.0|982.71875|   1|   1|   0|   1|  0.0|   1|   1|   1|     0|  0.0|-0.00837194919586...|-1.0546857617187584|1.46875|   0|   0|   0|   0|    0|-1.669904877929696|1.1425700187683103|-1.933576752929696|      45|       165|     90|  59|     0|42.47817993164063|43.8212890625|  0|  0|   0|-10.502852524414068|   0|1568|   0|   0|1689|   1|  0| 0.0| 0.0| 0.0| 0.0|37.25|36.75|90.234375|  0|-0.7794227600097656|     0|  0.0|  0.0|  3472|4.921839714050293|4.921839714050293| 500|   1| 100|   1|   0|152|     0|    0|   0|  1|2107|2081|1988|2001|2007|  0.0|  0.0|-0.00215597628784...|0.0|0.3515625| 60.029296875|74.48959350585938|77.27188110351562|   71.98681640625|73.98652648925781|21.519798278808594|61.80563354492188| 115|4.7720298767089835|  1|  1|   1|   1|   1|     0|24.41412353515625|2753.913330078125|   0.0|   0|   1|   1|  0|    0|    0|   0|   0|  15|  15|    1|   0|   0|     0|     0|     0|     0| 112| 100|     584|    1465|    2632|    3513|     2165|        25|      45|   126| 652| 7876|  8933|  5962|1229|    50| 8095|  6711|  7388|  8600|  7131|  6359|  5633| 7882| 7833|\n",
      "|2001-01-09 20:09:01|   0|   0|   0|  0|  0| 30.5| 29.5| 31.0| 30.5|  0|  0|  0|   0|  0|   0|  0|  0|   1|  0|843|   0|-0.5|  32|  3288|43.8212890625|42.47817993164063|-2.4169760595703167|-18.632681931152348|   0|   0|982.75|   0|   0|   0|   0|1.75|1.75|   0|  0|   0|  1| 300|  0|1.0038571357727049|-0.0246279239654541|0.0|29.03350830078125|1.78125|   1|  7|  0.0|   982.75|   1|   1|   0|   1|  0.0|   1|   1|   1|     0|  0.0|-0.00837194919586...|-1.0546857617187584|1.46875|   0|   0|   0|   0|    0|-1.669904877929696|1.1425700187683103|-1.933576752929696|      45|       165|     90|  59|     0|42.47817993164063|43.8212890625|  0|  0|   0|-10.546797836914068|   0|1568|   0|   0|1689|   1|  0| 0.0| 0.0| 0.0| 0.0|37.25|36.75|90.234375|  0|-0.7589645385742188|     0|  0.0|  0.0|  3472|4.921839714050293|4.921839714050293| 500|   1| 100|   1|   0|152|     0|    0|   0|  1|2107|2082|1988|2001|2007|  0.0|  0.0|-0.00215597628784...|0.0|0.3515625|60.0439453125|74.48959350585938|77.29234313964844|72.01566314697266|73.98652648925781|21.519798278808594| 61.7442626953125| 116|4.7720298767089835|  1|  1|   1|   1|   1|     0|24.41412353515625|2753.913330078125|   0.0|   0|   1|   1|  0|    0|    0|   0|   0|  15|  15|    1|   0|   0|     0|     0|     0|     0| 112| 100|     584|    1465|    2632|    3513|     2165|        25|      45|   126| 652| 7876|  8933|  5962|1233|    50| 8095|  6711|  7388|  8600|  7131|  6359|  5633| 7882| 7833|\n",
      "+-------------------+----+----+----+---+---+-----+-----+-----+-----+---+---+---+----+---+----+---+---+----+---+---+----+----+----+------+-------------+-----------------+-------------------+-------------------+----+----+------+----+----+----+----+----+----+----+---+----+---+----+---+------------------+-------------------+---+-----------------+-------+----+---+-----+---------+----+----+----+----+-----+----+----+----+------+-----+--------------------+-------------------+-------+----+----+----+----+-----+------------------+------------------+------------------+--------+----------+-------+----+------+-----------------+-------------+---+---+----+-------------------+----+----+----+----+----+----+---+----+----+----+----+-----+-----+---------+---+-------------------+------+-----+-----+------+-----------------+-----------------+----+----+----+----+----+---+------+-----+----+---+----+----+----+----+----+-----+-----+--------------------+---+---------+-------------+-----------------+-----------------+-----------------+-----------------+------------------+-----------------+----+------------------+---+---+----+----+----+------+-----------------+-----------------+------+----+----+----+---+-----+-----+----+----+----+----+-----+----+----+------+------+------+------+----+----+--------+--------+--------+--------+---------+----------+--------+------+----+-----+------+------+----+------+-----+------+------+------+------+------+------+-----+-----+"
     ]
    }
   ],
   "source": [
    "spark.sql(\"Select * from nasa_dashlink limit 2\").show()"
   ]
  },
  {
   "cell_type": "markdown",
   "metadata": {},
   "source": [
    "## Plotting\n",
    "\n",
    "In order to plot results, you must first export the data you wish to visualize to the local context using the command `%%spark -o df` (where df is the object you wish to export).\n",
    "From there, all cells run with the magic command `%%local` will be executed in the local environment, allowing you to plot results inline."
   ]
  },
  {
   "cell_type": "code",
   "execution_count": 16,
   "metadata": {},
   "outputs": [],
   "source": [
    "%%spark -o df"
   ]
  },
  {
   "cell_type": "code",
   "execution_count": 17,
   "metadata": {},
   "outputs": [
    {
     "data": {
      "application/vnd.jupyter.widget-view+json": {
       "model_id": "5bb27650307649d49884583fbbe624be",
       "version_major": 2,
       "version_minor": 0
      },
      "text/plain": [
       "VBox(children=(HBox(children=(HTML(value='Type:'), Button(description='Table', layout=Layout(width='70px'), st…"
      ]
     },
     "metadata": {},
     "output_type": "display_data"
    },
    {
     "data": {
      "application/vnd.jupyter.widget-view+json": {
       "model_id": "0e977332d82c44978a7785eceb954109",
       "version_major": 2,
       "version_minor": 0
      },
      "text/plain": [
       "Output()"
      ]
     },
     "metadata": {},
     "output_type": "display_data"
    }
   ],
   "source": [
    "%%local\n",
    "import pandas as pd\n",
    "import matplotlib.pyplot as plt\n",
    "%matplotlib inline\n",
    "\n",
    "df.head()"
   ]
  },
  {
   "cell_type": "code",
   "execution_count": 23,
   "metadata": {},
   "outputs": [
    {
     "data": {
      "text/plain": [
       "<matplotlib.collections.PathCollection at 0x7f01a80da5f8>"
      ]
     },
     "execution_count": 23,
     "metadata": {},
     "output_type": "execute_result"
    },
    {
     "data": {
      "image/png": "[encoded data removed]",
      "text/plain": [
       "<Figure size 432x288 with 1 Axes>"
      ]
     },
     "metadata": {
      "needs_background": "light"
     },
     "output_type": "display_data"
    }
   ],
   "source": [
    "%%local\n",
    "\n",
    "plt.scatter(df['ALT'], df['ALTR'])"
   ]
  }
 ],
 "metadata": {
  "kernelspec": {
   "display_name": "PySpark",
   "language": "python",
   "name": "pysparkkernel"
  },
  "language_info": {
   "codemirror_mode": {
    "name": "python",
    "version": 3
   },
   "mimetype": "text/x-python",
   "name": "pyspark",
   "pygments_lexer": "python3"
  }
 },
 "nbformat": 4,
 "nbformat_minor": 4
}